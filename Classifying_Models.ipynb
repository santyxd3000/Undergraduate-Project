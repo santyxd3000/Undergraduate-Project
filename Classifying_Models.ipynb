{
  "nbformat": 4,
  "nbformat_minor": 0,
  "metadata": {
    "colab": {
      "provenance": [],
      "gpuType": "T4",
      "authorship_tag": "ABX9TyMy9oSEw5qZdO6bDHz5VYEM",
      "include_colab_link": true
    },
    "kernelspec": {
      "name": "python3",
      "display_name": "Python 3"
    },
    "language_info": {
      "name": "python"
    },
    "accelerator": "GPU"
  },
  "cells": [
    {
      "cell_type": "markdown",
      "metadata": {
        "id": "view-in-github",
        "colab_type": "text"
      },
      "source": [
        "<a href=\"https://colab.research.google.com/github/santyxd3000/Undergraduate-Project/blob/main/Classifying_Models.ipynb\" target=\"_parent\"><img src=\"https://colab.research.google.com/assets/colab-badge.svg\" alt=\"Open In Colab\"/></a>"
      ]
    },
    {
      "cell_type": "markdown",
      "source": [
        "# **PROYECTO DE GRADO - MODELOS DE CLASIFICACIÓN**\n",
        "\n",
        "Santiago Pardo Morales - 202013025"
      ],
      "metadata": {
        "id": "JOJ2-QsjkVGW"
      }
    },
    {
      "cell_type": "code",
      "source": [
        "#For using the GPU\n",
        "!git clone https://github.com/rapidsai/rapidsai-csp-utils.git\n",
        "!python rapidsai-csp-utils/colab/pip-install.py"
      ],
      "metadata": {
        "colab": {
          "base_uri": "https://localhost:8080/"
        },
        "id": "chvD4QLUYrBP",
        "outputId": "e224acc0-550d-462e-d7fc-d23dac994094"
      },
      "execution_count": 12,
      "outputs": [
        {
          "output_type": "stream",
          "name": "stdout",
          "text": [
            "Cloning into 'rapidsai-csp-utils'...\n",
            "remote: Enumerating objects: 438, done.\u001b[K\n",
            "remote: Counting objects: 100% (169/169), done.\u001b[K\n",
            "remote: Compressing objects: 100% (115/115), done.\u001b[K\n",
            "remote: Total 438 (delta 121), reused 57 (delta 54), pack-reused 269\u001b[K\n",
            "Receiving objects: 100% (438/438), 118.31 KiB | 11.83 MiB/s, done.\n",
            "Resolving deltas: 100% (223/223), done.\n",
            "***********************************************************************\n",
            "We will now install RAPIDS via pip! \n",
            "Please stand by, should be quick...\n",
            "***********************************************************************\n",
            "\n",
            "Looking in indexes: https://pypi.org/simple, https://pypi.nvidia.com\n",
            "Collecting cudf-cu12==23.12.*\n",
            "  Downloading https://pypi.nvidia.com/cudf-cu12/cudf_cu12-23.12.1-cp310-cp310-manylinux_2_28_x86_64.whl (511.6 MB)\n",
            "Traceback (most recent call last):\n",
            "  File \"/content/rapidsai-csp-utils/colab/pip-install.py\", line 14, in <module>\n",
            "    for line in io.TextIOWrapper(output.stdout, encoding=\"utf-8\"):\n",
            "KeyboardInterrupt\n",
            "^C\n"
          ]
        }
      ]
    },
    {
      "cell_type": "code",
      "source": [
        "import pandas as pd\n",
        "import numpy as np\n",
        "import matplotlib.pyplot as plt\n",
        "import seaborn as sns\n",
        "import ipywidgets as widgets\n",
        "from IPython.display import display\n",
        "import datetime\n",
        "import scipy\n",
        "sns.set()\n",
        "from sklearn.cluster import KMeans\n",
        "from sklearn.preprocessing import StandardScaler\n",
        "from sklearn.metrics import pairwise_distances_argmin_min\n",
        "from sklearn.ensemble import IsolationForest\n",
        "from sklearn.svm import OneClassSVM\n",
        "import io\n",
        "from sklearn.model_selection import GridSearchCV\n",
        "from sklearn.metrics import make_scorer, f1_score\n",
        "from sklearn import model_selection\n",
        "from sklearn.datasets import make_classification\n",
        "from sklearn.model_selection import ParameterGrid\n",
        "from sklearn.neighbors import LocalOutlierFactor\n",
        "from sklearn.neural_network import MLPRegressor\n",
        "from sklearn.metrics import mean_squared_error\n",
        "from sklearn.neural_network import MLPRegressor\n",
        "#import cudf\n",
        "#import cuml\n",
        "#import cupy as cp\n",
        "#from cuml import preprocessing as cpp\n",
        "import tensorflow as tf\n",
        "from keras.layers import Input, Dropout, Dense, LSTM, TimeDistributed, RepeatVector\n",
        "from keras.models import Model\n",
        "from keras import regularizers\n",
        "from sklearn.metrics import accuracy_score\n",
        "from sklearn.metrics import f1_score\n",
        "from sklearn.metrics import precision_score\n",
        "from sklearn.metrics import recall_score\n",
        "physical_devices = tf.config.list_physical_devices('GPU')\n",
        "from sklearn.model_selection import train_test_split\n",
        "from keras.models import Sequential\n",
        "from keras.layers import Dense"
      ],
      "metadata": {
        "id": "22BWwGAymhIg"
      },
      "execution_count": 1,
      "outputs": []
    },
    {
      "cell_type": "code",
      "execution_count": 5,
      "metadata": {
        "id": "kuNJsRxlkI2B"
      },
      "outputs": [],
      "source": [
        "#Leer datos etiquetados\n",
        "df = pd.read_csv('df_with_labels.csv',sep=';').dropna()"
      ]
    },
    {
      "cell_type": "code",
      "source": [
        "df['Label'].unique()"
      ],
      "metadata": {
        "colab": {
          "base_uri": "https://localhost:8080/"
        },
        "id": "DdiwwBpwmmZ-",
        "outputId": "25cb3882-5e8b-4525-db25-fabbd32f274b"
      },
      "execution_count": 6,
      "outputs": [
        {
          "output_type": "execute_result",
          "data": {
            "text/plain": [
              "array(['No Fault', 'Shading', 'Open Circuit', 'Unknown', 'Short Circuit'],\n",
              "      dtype=object)"
            ]
          },
          "metadata": {},
          "execution_count": 6
        }
      ]
    },
    {
      "cell_type": "markdown",
      "source": [
        "## **MÉTODO 1 - RED NEURONAL**"
      ],
      "metadata": {
        "id": "Zne0_h0xxx_U"
      }
    },
    {
      "cell_type": "code",
      "source": [
        "df['Label'].replace({'No Fault': 0, 'Shading': 1, 'Open Circuit': 2, 'Short Circuit': 3, 'Unknown':4}, inplace=True)"
      ],
      "metadata": {
        "id": "f1u0tYeDs_D1"
      },
      "execution_count": 7,
      "outputs": []
    },
    {
      "cell_type": "code",
      "source": [
        "df[df['Label']==1].shape"
      ],
      "metadata": {
        "colab": {
          "base_uri": "https://localhost:8080/"
        },
        "id": "31hDnu3MtZGB",
        "outputId": "3f5ce801-9523-4946-d928-4ad921035887"
      },
      "execution_count": 8,
      "outputs": [
        {
          "output_type": "execute_result",
          "data": {
            "text/plain": [
              "(47256, 6)"
            ]
          },
          "metadata": {},
          "execution_count": 8
        }
      ]
    },
    {
      "cell_type": "code",
      "source": [
        "x_data = df[['U_DC1','U_DC2','I_DC1','I_DC2']]\n",
        "y_data = df[['Label']]"
      ],
      "metadata": {
        "id": "wqjyarAkubfM"
      },
      "execution_count": 9,
      "outputs": []
    },
    {
      "cell_type": "code",
      "source": [
        "scaler = StandardScaler()\n",
        "x_scaled = scaler.fit_transform(x_data)\n",
        "y_data = np.array(y_data)"
      ],
      "metadata": {
        "id": "PRcl1cRTwkin"
      },
      "execution_count": 10,
      "outputs": []
    },
    {
      "cell_type": "code",
      "source": [
        "#Divide data\n",
        "x_train, x_temp, y_train, y_temp = train_test_split(x_scaled, y_data, train_size = 0.6, random_state=42)\n",
        "x_val, x_test, y_val, y_test = train_test_split(x_temp, y_temp, train_size = 0.5, random_state=42)"
      ],
      "metadata": {
        "id": "wBg84ey_w7dD"
      },
      "execution_count": 34,
      "outputs": []
    },
    {
      "cell_type": "markdown",
      "source": [
        "### Red Neuronal - Solo capa de entrada y de salida"
      ],
      "metadata": {
        "id": "o2Lr_soPyEtG"
      }
    },
    {
      "cell_type": "code",
      "source": [
        "ann_1 = Sequential()\n",
        "ann_1.add(Dense(4, input_shape=(x_train.shape[1],),activation='relu'))\n",
        "\n",
        "#output layer with softmax function\n",
        "ann_1.add(Dense(5,activation='softmax'))\n",
        "\n",
        "#compile model\n",
        "ann_1.compile(optimizer='adam', loss='sparse_categorical_crossentropy',metrics=['accuracy'])"
      ],
      "metadata": {
        "id": "SydXSG0cyZT3"
      },
      "execution_count": 35,
      "outputs": []
    },
    {
      "cell_type": "code",
      "source": [
        "history= ann_1.fit(x_train,y_train, validation_data=(x_val,y_val),epochs=100, batch_size=32)\n",
        "loss, accuracy= ann_1.evaluate(x_val,y_val)\n",
        "print('Accuracy:', accuracy)\n",
        "print('\\nLoss:',loss)"
      ],
      "metadata": {
        "colab": {
          "base_uri": "https://localhost:8080/"
        },
        "id": "dNEz-vvVzZzs",
        "outputId": "8878422e-2f8d-4a5c-8766-44bb7fbed503"
      },
      "execution_count": 36,
      "outputs": [
        {
          "output_type": "stream",
          "name": "stdout",
          "text": [
            "Epoch 1/100\n",
            "2820/2820 [==============================] - 12s 4ms/step - loss: 0.3189 - accuracy: 0.9439 - val_loss: 0.1056 - val_accuracy: 0.9806\n",
            "Epoch 2/100\n",
            "2820/2820 [==============================] - 11s 4ms/step - loss: 0.0822 - accuracy: 0.9823 - val_loss: 0.0721 - val_accuracy: 0.9819\n",
            "Epoch 3/100\n",
            "2820/2820 [==============================] - 11s 4ms/step - loss: 0.0626 - accuracy: 0.9835 - val_loss: 0.0609 - val_accuracy: 0.9826\n",
            "Epoch 4/100\n",
            "2820/2820 [==============================] - 9s 3ms/step - loss: 0.0527 - accuracy: 0.9844 - val_loss: 0.0525 - val_accuracy: 0.9839\n",
            "Epoch 5/100\n",
            "2820/2820 [==============================] - 8s 3ms/step - loss: 0.0434 - accuracy: 0.9858 - val_loss: 0.0441 - val_accuracy: 0.9857\n",
            "Epoch 6/100\n",
            "2820/2820 [==============================] - 11s 4ms/step - loss: 0.0370 - accuracy: 0.9876 - val_loss: 0.0401 - val_accuracy: 0.9887\n",
            "Epoch 7/100\n",
            "2820/2820 [==============================] - 9s 3ms/step - loss: 0.0341 - accuracy: 0.9903 - val_loss: 0.0387 - val_accuracy: 0.9904\n",
            "Epoch 8/100\n",
            "2820/2820 [==============================] - 10s 3ms/step - loss: 0.0325 - accuracy: 0.9913 - val_loss: 0.0371 - val_accuracy: 0.9908\n",
            "Epoch 9/100\n",
            "2820/2820 [==============================] - 9s 3ms/step - loss: 0.0313 - accuracy: 0.9918 - val_loss: 0.0366 - val_accuracy: 0.9908\n",
            "Epoch 10/100\n",
            "2820/2820 [==============================] - 9s 3ms/step - loss: 0.0305 - accuracy: 0.9921 - val_loss: 0.0349 - val_accuracy: 0.9909\n",
            "Epoch 11/100\n",
            "2820/2820 [==============================] - 9s 3ms/step - loss: 0.0299 - accuracy: 0.9922 - val_loss: 0.0339 - val_accuracy: 0.9910\n",
            "Epoch 12/100\n",
            "2820/2820 [==============================] - 10s 3ms/step - loss: 0.0293 - accuracy: 0.9924 - val_loss: 0.0334 - val_accuracy: 0.9916\n",
            "Epoch 13/100\n",
            "2820/2820 [==============================] - 10s 3ms/step - loss: 0.0289 - accuracy: 0.9925 - val_loss: 0.0329 - val_accuracy: 0.9917\n",
            "Epoch 14/100\n",
            "2820/2820 [==============================] - 9s 3ms/step - loss: 0.0286 - accuracy: 0.9926 - val_loss: 0.0325 - val_accuracy: 0.9915\n",
            "Epoch 15/100\n",
            "2820/2820 [==============================] - 9s 3ms/step - loss: 0.0284 - accuracy: 0.9927 - val_loss: 0.0323 - val_accuracy: 0.9918\n",
            "Epoch 16/100\n",
            "2820/2820 [==============================] - 10s 3ms/step - loss: 0.0282 - accuracy: 0.9927 - val_loss: 0.0321 - val_accuracy: 0.9917\n",
            "Epoch 17/100\n",
            "2820/2820 [==============================] - 10s 4ms/step - loss: 0.0281 - accuracy: 0.9927 - val_loss: 0.0319 - val_accuracy: 0.9918\n",
            "Epoch 18/100\n",
            "2820/2820 [==============================] - 12s 4ms/step - loss: 0.0280 - accuracy: 0.9928 - val_loss: 0.0321 - val_accuracy: 0.9918\n",
            "Epoch 19/100\n",
            "2820/2820 [==============================] - 10s 4ms/step - loss: 0.0278 - accuracy: 0.9928 - val_loss: 0.0320 - val_accuracy: 0.9916\n",
            "Epoch 20/100\n",
            "2820/2820 [==============================] - 10s 3ms/step - loss: 0.0278 - accuracy: 0.9929 - val_loss: 0.0326 - val_accuracy: 0.9917\n",
            "Epoch 21/100\n",
            "2820/2820 [==============================] - 10s 3ms/step - loss: 0.0277 - accuracy: 0.9929 - val_loss: 0.0316 - val_accuracy: 0.9918\n",
            "Epoch 22/100\n",
            "2820/2820 [==============================] - 10s 4ms/step - loss: 0.0276 - accuracy: 0.9928 - val_loss: 0.0316 - val_accuracy: 0.9917\n",
            "Epoch 23/100\n",
            "2820/2820 [==============================] - 11s 4ms/step - loss: 0.0275 - accuracy: 0.9928 - val_loss: 0.0312 - val_accuracy: 0.9918\n",
            "Epoch 24/100\n",
            "2820/2820 [==============================] - 14s 5ms/step - loss: 0.0275 - accuracy: 0.9929 - val_loss: 0.0312 - val_accuracy: 0.9915\n",
            "Epoch 25/100\n",
            "2820/2820 [==============================] - 12s 4ms/step - loss: 0.0274 - accuracy: 0.9929 - val_loss: 0.0310 - val_accuracy: 0.9918\n",
            "Epoch 26/100\n",
            "2820/2820 [==============================] - 13s 5ms/step - loss: 0.0274 - accuracy: 0.9928 - val_loss: 0.0307 - val_accuracy: 0.9918\n",
            "Epoch 27/100\n",
            "2820/2820 [==============================] - 11s 4ms/step - loss: 0.0273 - accuracy: 0.9930 - val_loss: 0.0313 - val_accuracy: 0.9918\n",
            "Epoch 28/100\n",
            "2820/2820 [==============================] - 11s 4ms/step - loss: 0.0272 - accuracy: 0.9928 - val_loss: 0.0314 - val_accuracy: 0.9917\n",
            "Epoch 29/100\n",
            "2820/2820 [==============================] - 10s 4ms/step - loss: 0.0271 - accuracy: 0.9928 - val_loss: 0.0303 - val_accuracy: 0.9918\n",
            "Epoch 30/100\n",
            "2820/2820 [==============================] - 10s 3ms/step - loss: 0.0271 - accuracy: 0.9929 - val_loss: 0.0310 - val_accuracy: 0.9918\n",
            "Epoch 31/100\n",
            "2820/2820 [==============================] - 12s 4ms/step - loss: 0.0271 - accuracy: 0.9929 - val_loss: 0.0304 - val_accuracy: 0.9921\n",
            "Epoch 32/100\n",
            "2820/2820 [==============================] - 12s 4ms/step - loss: 0.0270 - accuracy: 0.9930 - val_loss: 0.0305 - val_accuracy: 0.9921\n",
            "Epoch 33/100\n",
            "2820/2820 [==============================] - 13s 4ms/step - loss: 0.0269 - accuracy: 0.9930 - val_loss: 0.0301 - val_accuracy: 0.9922\n",
            "Epoch 34/100\n",
            "2820/2820 [==============================] - 14s 5ms/step - loss: 0.0268 - accuracy: 0.9929 - val_loss: 0.0307 - val_accuracy: 0.9919\n",
            "Epoch 35/100\n",
            "2820/2820 [==============================] - 12s 4ms/step - loss: 0.0268 - accuracy: 0.9929 - val_loss: 0.0300 - val_accuracy: 0.9921\n",
            "Epoch 36/100\n",
            "2820/2820 [==============================] - 14s 5ms/step - loss: 0.0268 - accuracy: 0.9930 - val_loss: 0.0298 - val_accuracy: 0.9922\n",
            "Epoch 37/100\n",
            "2820/2820 [==============================] - 9s 3ms/step - loss: 0.0267 - accuracy: 0.9930 - val_loss: 0.0300 - val_accuracy: 0.9918\n",
            "Epoch 38/100\n",
            "2820/2820 [==============================] - 10s 3ms/step - loss: 0.0267 - accuracy: 0.9930 - val_loss: 0.0298 - val_accuracy: 0.9921\n",
            "Epoch 39/100\n",
            "2820/2820 [==============================] - 9s 3ms/step - loss: 0.0266 - accuracy: 0.9930 - val_loss: 0.0302 - val_accuracy: 0.9918\n",
            "Epoch 40/100\n",
            "2820/2820 [==============================] - 11s 4ms/step - loss: 0.0267 - accuracy: 0.9929 - val_loss: 0.0300 - val_accuracy: 0.9920\n",
            "Epoch 41/100\n",
            "2820/2820 [==============================] - 10s 3ms/step - loss: 0.0267 - accuracy: 0.9930 - val_loss: 0.0302 - val_accuracy: 0.9919\n",
            "Epoch 42/100\n",
            "2820/2820 [==============================] - 10s 4ms/step - loss: 0.0266 - accuracy: 0.9929 - val_loss: 0.0303 - val_accuracy: 0.9922\n",
            "Epoch 43/100\n",
            "2820/2820 [==============================] - 10s 4ms/step - loss: 0.0267 - accuracy: 0.9930 - val_loss: 0.0298 - val_accuracy: 0.9920\n",
            "Epoch 44/100\n",
            "2820/2820 [==============================] - 9s 3ms/step - loss: 0.0267 - accuracy: 0.9929 - val_loss: 0.0301 - val_accuracy: 0.9922\n",
            "Epoch 45/100\n",
            "2820/2820 [==============================] - 11s 4ms/step - loss: 0.0265 - accuracy: 0.9930 - val_loss: 0.0306 - val_accuracy: 0.9916\n",
            "Epoch 46/100\n",
            "2820/2820 [==============================] - 15s 5ms/step - loss: 0.0266 - accuracy: 0.9929 - val_loss: 0.0299 - val_accuracy: 0.9920\n",
            "Epoch 47/100\n",
            "2820/2820 [==============================] - 15s 5ms/step - loss: 0.0266 - accuracy: 0.9929 - val_loss: 0.0296 - val_accuracy: 0.9922\n",
            "Epoch 48/100\n",
            "2820/2820 [==============================] - 11s 4ms/step - loss: 0.0266 - accuracy: 0.9929 - val_loss: 0.0299 - val_accuracy: 0.9921\n",
            "Epoch 49/100\n",
            "2820/2820 [==============================] - 10s 4ms/step - loss: 0.0265 - accuracy: 0.9929 - val_loss: 0.0297 - val_accuracy: 0.9922\n",
            "Epoch 50/100\n",
            "2820/2820 [==============================] - 10s 3ms/step - loss: 0.0265 - accuracy: 0.9930 - val_loss: 0.0297 - val_accuracy: 0.9921\n",
            "Epoch 51/100\n",
            "2820/2820 [==============================] - 10s 4ms/step - loss: 0.0265 - accuracy: 0.9929 - val_loss: 0.0303 - val_accuracy: 0.9921\n",
            "Epoch 52/100\n",
            "2820/2820 [==============================] - 10s 3ms/step - loss: 0.0264 - accuracy: 0.9929 - val_loss: 0.0296 - val_accuracy: 0.9922\n",
            "Epoch 53/100\n",
            "2820/2820 [==============================] - 12s 4ms/step - loss: 0.0265 - accuracy: 0.9928 - val_loss: 0.0297 - val_accuracy: 0.9920\n",
            "Epoch 54/100\n",
            "2820/2820 [==============================] - 11s 4ms/step - loss: 0.0265 - accuracy: 0.9928 - val_loss: 0.0302 - val_accuracy: 0.9920\n",
            "Epoch 55/100\n",
            "2820/2820 [==============================] - 13s 5ms/step - loss: 0.0265 - accuracy: 0.9930 - val_loss: 0.0299 - val_accuracy: 0.9920\n",
            "Epoch 56/100\n",
            "2820/2820 [==============================] - 13s 5ms/step - loss: 0.0265 - accuracy: 0.9929 - val_loss: 0.0296 - val_accuracy: 0.9920\n",
            "Epoch 57/100\n",
            "2820/2820 [==============================] - 12s 4ms/step - loss: 0.0264 - accuracy: 0.9928 - val_loss: 0.0310 - val_accuracy: 0.9919\n",
            "Epoch 58/100\n",
            "2820/2820 [==============================] - 15s 5ms/step - loss: 0.0264 - accuracy: 0.9929 - val_loss: 0.0294 - val_accuracy: 0.9922\n",
            "Epoch 59/100\n",
            "2820/2820 [==============================] - 13s 4ms/step - loss: 0.0263 - accuracy: 0.9929 - val_loss: 0.0295 - val_accuracy: 0.9922\n",
            "Epoch 60/100\n",
            "2820/2820 [==============================] - 11s 4ms/step - loss: 0.0262 - accuracy: 0.9929 - val_loss: 0.0296 - val_accuracy: 0.9921\n",
            "Epoch 61/100\n",
            "2820/2820 [==============================] - 15s 5ms/step - loss: 0.0262 - accuracy: 0.9929 - val_loss: 0.0299 - val_accuracy: 0.9919\n",
            "Epoch 62/100\n",
            "2820/2820 [==============================] - 12s 4ms/step - loss: 0.0262 - accuracy: 0.9930 - val_loss: 0.0297 - val_accuracy: 0.9921\n",
            "Epoch 63/100\n",
            "2820/2820 [==============================] - 11s 4ms/step - loss: 0.0261 - accuracy: 0.9929 - val_loss: 0.0293 - val_accuracy: 0.9920\n",
            "Epoch 64/100\n",
            "2820/2820 [==============================] - 12s 4ms/step - loss: 0.0262 - accuracy: 0.9929 - val_loss: 0.0295 - val_accuracy: 0.9921\n",
            "Epoch 65/100\n",
            "2820/2820 [==============================] - 10s 3ms/step - loss: 0.0260 - accuracy: 0.9930 - val_loss: 0.0299 - val_accuracy: 0.9919\n",
            "Epoch 66/100\n",
            "2820/2820 [==============================] - 11s 4ms/step - loss: 0.0260 - accuracy: 0.9930 - val_loss: 0.0290 - val_accuracy: 0.9921\n",
            "Epoch 67/100\n",
            "2820/2820 [==============================] - 11s 4ms/step - loss: 0.0260 - accuracy: 0.9930 - val_loss: 0.0293 - val_accuracy: 0.9921\n",
            "Epoch 68/100\n",
            "2820/2820 [==============================] - 10s 3ms/step - loss: 0.0259 - accuracy: 0.9930 - val_loss: 0.0289 - val_accuracy: 0.9922\n",
            "Epoch 69/100\n",
            "2820/2820 [==============================] - 9s 3ms/step - loss: 0.0259 - accuracy: 0.9929 - val_loss: 0.0304 - val_accuracy: 0.9920\n",
            "Epoch 70/100\n",
            "2820/2820 [==============================] - 10s 4ms/step - loss: 0.0260 - accuracy: 0.9930 - val_loss: 0.0292 - val_accuracy: 0.9918\n",
            "Epoch 71/100\n",
            "2820/2820 [==============================] - 11s 4ms/step - loss: 0.0259 - accuracy: 0.9930 - val_loss: 0.0290 - val_accuracy: 0.9921\n",
            "Epoch 72/100\n",
            "2820/2820 [==============================] - 10s 4ms/step - loss: 0.0258 - accuracy: 0.9930 - val_loss: 0.0295 - val_accuracy: 0.9921\n",
            "Epoch 73/100\n",
            "2820/2820 [==============================] - 10s 4ms/step - loss: 0.0259 - accuracy: 0.9929 - val_loss: 0.0289 - val_accuracy: 0.9921\n",
            "Epoch 74/100\n",
            "2820/2820 [==============================] - 9s 3ms/step - loss: 0.0258 - accuracy: 0.9929 - val_loss: 0.0288 - val_accuracy: 0.9922\n",
            "Epoch 75/100\n",
            "2820/2820 [==============================] - 10s 3ms/step - loss: 0.0257 - accuracy: 0.9930 - val_loss: 0.0288 - val_accuracy: 0.9922\n",
            "Epoch 76/100\n",
            "2820/2820 [==============================] - 10s 3ms/step - loss: 0.0258 - accuracy: 0.9929 - val_loss: 0.0292 - val_accuracy: 0.9920\n",
            "Epoch 77/100\n",
            "2820/2820 [==============================] - 9s 3ms/step - loss: 0.0257 - accuracy: 0.9930 - val_loss: 0.0292 - val_accuracy: 0.9920\n",
            "Epoch 78/100\n",
            "2820/2820 [==============================] - 10s 4ms/step - loss: 0.0257 - accuracy: 0.9929 - val_loss: 0.0288 - val_accuracy: 0.9921\n",
            "Epoch 79/100\n",
            "2820/2820 [==============================] - 11s 4ms/step - loss: 0.0258 - accuracy: 0.9930 - val_loss: 0.0289 - val_accuracy: 0.9921\n",
            "Epoch 80/100\n",
            "2820/2820 [==============================] - 11s 4ms/step - loss: 0.0257 - accuracy: 0.9929 - val_loss: 0.0295 - val_accuracy: 0.9921\n",
            "Epoch 81/100\n",
            "2820/2820 [==============================] - 10s 3ms/step - loss: 0.0257 - accuracy: 0.9931 - val_loss: 0.0297 - val_accuracy: 0.9918\n",
            "Epoch 82/100\n",
            "2820/2820 [==============================] - 9s 3ms/step - loss: 0.0257 - accuracy: 0.9929 - val_loss: 0.0287 - val_accuracy: 0.9921\n",
            "Epoch 83/100\n",
            "2820/2820 [==============================] - 11s 4ms/step - loss: 0.0257 - accuracy: 0.9930 - val_loss: 0.0287 - val_accuracy: 0.9922\n",
            "Epoch 84/100\n",
            "2820/2820 [==============================] - 10s 3ms/step - loss: 0.0256 - accuracy: 0.9929 - val_loss: 0.0291 - val_accuracy: 0.9919\n",
            "Epoch 85/100\n",
            "2820/2820 [==============================] - 10s 3ms/step - loss: 0.0256 - accuracy: 0.9930 - val_loss: 0.0289 - val_accuracy: 0.9919\n",
            "Epoch 86/100\n",
            "2820/2820 [==============================] - 10s 3ms/step - loss: 0.0256 - accuracy: 0.9930 - val_loss: 0.0294 - val_accuracy: 0.9920\n",
            "Epoch 87/100\n",
            "2820/2820 [==============================] - 9s 3ms/step - loss: 0.0256 - accuracy: 0.9931 - val_loss: 0.0286 - val_accuracy: 0.9922\n",
            "Epoch 88/100\n",
            "2820/2820 [==============================] - 11s 4ms/step - loss: 0.0255 - accuracy: 0.9931 - val_loss: 0.0289 - val_accuracy: 0.9919\n",
            "Epoch 89/100\n",
            "2820/2820 [==============================] - 11s 4ms/step - loss: 0.0256 - accuracy: 0.9930 - val_loss: 0.0287 - val_accuracy: 0.9922\n",
            "Epoch 90/100\n",
            "2820/2820 [==============================] - 10s 4ms/step - loss: 0.0255 - accuracy: 0.9929 - val_loss: 0.0287 - val_accuracy: 0.9921\n",
            "Epoch 91/100\n",
            "2820/2820 [==============================] - 10s 4ms/step - loss: 0.0255 - accuracy: 0.9930 - val_loss: 0.0286 - val_accuracy: 0.9922\n",
            "Epoch 92/100\n",
            "2820/2820 [==============================] - 10s 4ms/step - loss: 0.0255 - accuracy: 0.9930 - val_loss: 0.0287 - val_accuracy: 0.9921\n",
            "Epoch 93/100\n",
            "2820/2820 [==============================] - 11s 4ms/step - loss: 0.0255 - accuracy: 0.9928 - val_loss: 0.0287 - val_accuracy: 0.9920\n",
            "Epoch 94/100\n",
            "2820/2820 [==============================] - 10s 3ms/step - loss: 0.0255 - accuracy: 0.9929 - val_loss: 0.0291 - val_accuracy: 0.9920\n",
            "Epoch 95/100\n",
            "2820/2820 [==============================] - 10s 3ms/step - loss: 0.0255 - accuracy: 0.9930 - val_loss: 0.0293 - val_accuracy: 0.9921\n",
            "Epoch 96/100\n",
            "2820/2820 [==============================] - 9s 3ms/step - loss: 0.0254 - accuracy: 0.9929 - val_loss: 0.0291 - val_accuracy: 0.9922\n",
            "Epoch 97/100\n",
            "2820/2820 [==============================] - 11s 4ms/step - loss: 0.0254 - accuracy: 0.9930 - val_loss: 0.0288 - val_accuracy: 0.9919\n",
            "Epoch 98/100\n",
            "2820/2820 [==============================] - 11s 4ms/step - loss: 0.0255 - accuracy: 0.9930 - val_loss: 0.0288 - val_accuracy: 0.9920\n",
            "Epoch 99/100\n",
            "2820/2820 [==============================] - 9s 3ms/step - loss: 0.0254 - accuracy: 0.9930 - val_loss: 0.0288 - val_accuracy: 0.9923\n",
            "Epoch 100/100\n",
            "2820/2820 [==============================] - 9s 3ms/step - loss: 0.0254 - accuracy: 0.9930 - val_loss: 0.0291 - val_accuracy: 0.9920\n",
            "940/940 [==============================] - 2s 3ms/step - loss: 0.0291 - accuracy: 0.9920\n",
            "Accuracy: 0.9920212626457214\n",
            "\n",
            "Loss: 0.02911405637860298\n"
          ]
        }
      ]
    },
    {
      "cell_type": "markdown",
      "source": [
        "### Red Neuronal - Capa intermedia entre entrada y salida"
      ],
      "metadata": {
        "id": "gKwXlwTI93tw"
      }
    },
    {
      "cell_type": "code",
      "source": [
        "ann_2 = Sequential()\n",
        "ann_2.add(Dense(16, input_shape=(x_train.shape[1],),activation='relu'))\n",
        "ann_2.add(Dense(4 ,activation='relu'))\n",
        "#output layer with softmax function\n",
        "ann_2.add(Dense(5,activation='softmax'))\n",
        "\n",
        "#compile model\n",
        "ann_2.compile(optimizer='adam', loss='sparse_categorical_crossentropy',metrics=['accuracy'])"
      ],
      "metadata": {
        "id": "1FCUMISO9_2X"
      },
      "execution_count": 39,
      "outputs": []
    },
    {
      "cell_type": "code",
      "source": [
        "history= ann_2.fit(x_train,y_train, validation_data=(x_val,y_val),epochs=100, batch_size=32)\n",
        "loss, accuracy= ann_2.evaluate(x_val,y_val)\n",
        "print('Accuracy:', accuracy)\n",
        "print('\\nLoss:',loss)"
      ],
      "metadata": {
        "colab": {
          "base_uri": "https://localhost:8080/"
        },
        "id": "1npshcpP-hTu",
        "outputId": "a07e43d5-7ada-4286-b270-28a1c4ebb8ee"
      },
      "execution_count": 40,
      "outputs": [
        {
          "output_type": "stream",
          "name": "stdout",
          "text": [
            "Epoch 1/100\n",
            "2820/2820 [==============================] - 12s 4ms/step - loss: 0.1932 - accuracy: 0.9629 - val_loss: 0.0429 - val_accuracy: 0.9906\n",
            "Epoch 2/100\n",
            "2820/2820 [==============================] - 10s 4ms/step - loss: 0.0326 - accuracy: 0.9921 - val_loss: 0.0336 - val_accuracy: 0.9910\n",
            "Epoch 3/100\n",
            "2820/2820 [==============================] - 10s 4ms/step - loss: 0.0280 - accuracy: 0.9926 - val_loss: 0.0324 - val_accuracy: 0.9908\n",
            "Epoch 4/100\n",
            "2820/2820 [==============================] - 11s 4ms/step - loss: 0.0265 - accuracy: 0.9927 - val_loss: 0.0312 - val_accuracy: 0.9907\n",
            "Epoch 5/100\n",
            "2820/2820 [==============================] - 9s 3ms/step - loss: 0.0252 - accuracy: 0.9928 - val_loss: 0.0284 - val_accuracy: 0.9917\n",
            "Epoch 6/100\n",
            "2820/2820 [==============================] - 10s 4ms/step - loss: 0.0245 - accuracy: 0.9928 - val_loss: 0.0278 - val_accuracy: 0.9913\n",
            "Epoch 7/100\n",
            "2820/2820 [==============================] - 11s 4ms/step - loss: 0.0235 - accuracy: 0.9932 - val_loss: 0.0280 - val_accuracy: 0.9919\n",
            "Epoch 8/100\n",
            "2820/2820 [==============================] - 11s 4ms/step - loss: 0.0227 - accuracy: 0.9931 - val_loss: 0.0248 - val_accuracy: 0.9926\n",
            "Epoch 9/100\n",
            "2820/2820 [==============================] - 10s 4ms/step - loss: 0.0219 - accuracy: 0.9932 - val_loss: 0.0245 - val_accuracy: 0.9922\n",
            "Epoch 10/100\n",
            "2820/2820 [==============================] - 10s 4ms/step - loss: 0.0211 - accuracy: 0.9933 - val_loss: 0.0230 - val_accuracy: 0.9925\n",
            "Epoch 11/100\n",
            "2820/2820 [==============================] - 10s 3ms/step - loss: 0.0204 - accuracy: 0.9937 - val_loss: 0.0235 - val_accuracy: 0.9931\n",
            "Epoch 12/100\n",
            "2820/2820 [==============================] - 11s 4ms/step - loss: 0.0197 - accuracy: 0.9937 - val_loss: 0.0226 - val_accuracy: 0.9936\n",
            "Epoch 13/100\n",
            "2820/2820 [==============================] - 10s 4ms/step - loss: 0.0192 - accuracy: 0.9940 - val_loss: 0.0221 - val_accuracy: 0.9929\n",
            "Epoch 14/100\n",
            "2820/2820 [==============================] - 10s 4ms/step - loss: 0.0186 - accuracy: 0.9940 - val_loss: 0.0207 - val_accuracy: 0.9938\n",
            "Epoch 15/100\n",
            "2820/2820 [==============================] - 10s 3ms/step - loss: 0.0182 - accuracy: 0.9940 - val_loss: 0.0210 - val_accuracy: 0.9931\n",
            "Epoch 16/100\n",
            "2820/2820 [==============================] - 11s 4ms/step - loss: 0.0177 - accuracy: 0.9941 - val_loss: 0.0201 - val_accuracy: 0.9937\n",
            "Epoch 17/100\n",
            "2820/2820 [==============================] - 10s 4ms/step - loss: 0.0174 - accuracy: 0.9943 - val_loss: 0.0213 - val_accuracy: 0.9924\n",
            "Epoch 18/100\n",
            "2820/2820 [==============================] - 11s 4ms/step - loss: 0.0172 - accuracy: 0.9943 - val_loss: 0.0203 - val_accuracy: 0.9939\n",
            "Epoch 19/100\n",
            "2820/2820 [==============================] - 10s 4ms/step - loss: 0.0168 - accuracy: 0.9946 - val_loss: 0.0210 - val_accuracy: 0.9934\n",
            "Epoch 20/100\n",
            "2820/2820 [==============================] - 11s 4ms/step - loss: 0.0163 - accuracy: 0.9946 - val_loss: 0.0200 - val_accuracy: 0.9938\n",
            "Epoch 21/100\n",
            "2820/2820 [==============================] - 11s 4ms/step - loss: 0.0162 - accuracy: 0.9948 - val_loss: 0.0195 - val_accuracy: 0.9937\n",
            "Epoch 22/100\n",
            "2820/2820 [==============================] - 10s 3ms/step - loss: 0.0162 - accuracy: 0.9946 - val_loss: 0.0189 - val_accuracy: 0.9938\n",
            "Epoch 23/100\n",
            "2820/2820 [==============================] - 10s 4ms/step - loss: 0.0159 - accuracy: 0.9948 - val_loss: 0.0179 - val_accuracy: 0.9943\n",
            "Epoch 24/100\n",
            "2820/2820 [==============================] - 10s 4ms/step - loss: 0.0159 - accuracy: 0.9946 - val_loss: 0.0182 - val_accuracy: 0.9944\n",
            "Epoch 25/100\n",
            "2820/2820 [==============================] - 11s 4ms/step - loss: 0.0157 - accuracy: 0.9949 - val_loss: 0.0184 - val_accuracy: 0.9941\n",
            "Epoch 26/100\n",
            "2820/2820 [==============================] - 11s 4ms/step - loss: 0.0155 - accuracy: 0.9950 - val_loss: 0.0180 - val_accuracy: 0.9941\n",
            "Epoch 27/100\n",
            "2820/2820 [==============================] - 10s 4ms/step - loss: 0.0155 - accuracy: 0.9949 - val_loss: 0.0189 - val_accuracy: 0.9938\n",
            "Epoch 28/100\n",
            "2820/2820 [==============================] - 11s 4ms/step - loss: 0.0153 - accuracy: 0.9950 - val_loss: 0.0173 - val_accuracy: 0.9943\n",
            "Epoch 29/100\n",
            "2820/2820 [==============================] - 10s 4ms/step - loss: 0.0151 - accuracy: 0.9951 - val_loss: 0.0176 - val_accuracy: 0.9944\n",
            "Epoch 30/100\n",
            "2820/2820 [==============================] - 12s 4ms/step - loss: 0.0148 - accuracy: 0.9951 - val_loss: 0.0179 - val_accuracy: 0.9942\n",
            "Epoch 31/100\n",
            "2820/2820 [==============================] - 12s 4ms/step - loss: 0.0148 - accuracy: 0.9950 - val_loss: 0.0171 - val_accuracy: 0.9947\n",
            "Epoch 32/100\n",
            "2820/2820 [==============================] - 10s 4ms/step - loss: 0.0145 - accuracy: 0.9951 - val_loss: 0.0194 - val_accuracy: 0.9939\n",
            "Epoch 33/100\n",
            "2820/2820 [==============================] - 11s 4ms/step - loss: 0.0146 - accuracy: 0.9951 - val_loss: 0.0185 - val_accuracy: 0.9936\n",
            "Epoch 34/100\n",
            "2820/2820 [==============================] - 10s 4ms/step - loss: 0.0144 - accuracy: 0.9953 - val_loss: 0.0187 - val_accuracy: 0.9943\n",
            "Epoch 35/100\n",
            "2820/2820 [==============================] - 11s 4ms/step - loss: 0.0142 - accuracy: 0.9954 - val_loss: 0.0184 - val_accuracy: 0.9936\n",
            "Epoch 36/100\n",
            "2820/2820 [==============================] - 12s 4ms/step - loss: 0.0139 - accuracy: 0.9953 - val_loss: 0.0165 - val_accuracy: 0.9945\n",
            "Epoch 37/100\n",
            "2820/2820 [==============================] - 10s 4ms/step - loss: 0.0139 - accuracy: 0.9953 - val_loss: 0.0164 - val_accuracy: 0.9946\n",
            "Epoch 38/100\n",
            "2820/2820 [==============================] - 10s 4ms/step - loss: 0.0138 - accuracy: 0.9953 - val_loss: 0.0166 - val_accuracy: 0.9944\n",
            "Epoch 39/100\n",
            "2820/2820 [==============================] - 10s 3ms/step - loss: 0.0139 - accuracy: 0.9954 - val_loss: 0.0174 - val_accuracy: 0.9946\n",
            "Epoch 40/100\n",
            "2820/2820 [==============================] - 10s 4ms/step - loss: 0.0137 - accuracy: 0.9953 - val_loss: 0.0200 - val_accuracy: 0.9930\n",
            "Epoch 41/100\n",
            "2820/2820 [==============================] - 10s 4ms/step - loss: 0.0135 - accuracy: 0.9955 - val_loss: 0.0164 - val_accuracy: 0.9947\n",
            "Epoch 42/100\n",
            "2820/2820 [==============================] - 11s 4ms/step - loss: 0.0136 - accuracy: 0.9952 - val_loss: 0.0161 - val_accuracy: 0.9951\n",
            "Epoch 43/100\n",
            "2820/2820 [==============================] - 11s 4ms/step - loss: 0.0136 - accuracy: 0.9952 - val_loss: 0.0160 - val_accuracy: 0.9947\n",
            "Epoch 44/100\n",
            "2820/2820 [==============================] - 9s 3ms/step - loss: 0.0133 - accuracy: 0.9954 - val_loss: 0.0159 - val_accuracy: 0.9943\n",
            "Epoch 45/100\n",
            "2820/2820 [==============================] - 11s 4ms/step - loss: 0.0133 - accuracy: 0.9956 - val_loss: 0.0155 - val_accuracy: 0.9949\n",
            "Epoch 46/100\n",
            "2820/2820 [==============================] - 12s 4ms/step - loss: 0.0134 - accuracy: 0.9957 - val_loss: 0.0163 - val_accuracy: 0.9949\n",
            "Epoch 47/100\n",
            "2820/2820 [==============================] - 10s 4ms/step - loss: 0.0132 - accuracy: 0.9955 - val_loss: 0.0159 - val_accuracy: 0.9948\n",
            "Epoch 48/100\n",
            "2820/2820 [==============================] - 10s 4ms/step - loss: 0.0133 - accuracy: 0.9956 - val_loss: 0.0152 - val_accuracy: 0.9950\n",
            "Epoch 49/100\n",
            "2820/2820 [==============================] - 11s 4ms/step - loss: 0.0132 - accuracy: 0.9955 - val_loss: 0.0162 - val_accuracy: 0.9947\n",
            "Epoch 50/100\n",
            "2820/2820 [==============================] - 11s 4ms/step - loss: 0.0131 - accuracy: 0.9953 - val_loss: 0.0155 - val_accuracy: 0.9950\n",
            "Epoch 51/100\n",
            "2820/2820 [==============================] - 11s 4ms/step - loss: 0.0130 - accuracy: 0.9956 - val_loss: 0.0155 - val_accuracy: 0.9950\n",
            "Epoch 52/100\n",
            "2820/2820 [==============================] - 10s 4ms/step - loss: 0.0128 - accuracy: 0.9958 - val_loss: 0.0158 - val_accuracy: 0.9950\n",
            "Epoch 53/100\n",
            "2820/2820 [==============================] - 12s 4ms/step - loss: 0.0130 - accuracy: 0.9956 - val_loss: 0.0165 - val_accuracy: 0.9951\n",
            "Epoch 54/100\n",
            "2820/2820 [==============================] - 11s 4ms/step - loss: 0.0129 - accuracy: 0.9957 - val_loss: 0.0166 - val_accuracy: 0.9950\n",
            "Epoch 55/100\n",
            "2820/2820 [==============================] - 10s 4ms/step - loss: 0.0130 - accuracy: 0.9957 - val_loss: 0.0150 - val_accuracy: 0.9954\n",
            "Epoch 56/100\n",
            "2820/2820 [==============================] - 10s 3ms/step - loss: 0.0127 - accuracy: 0.9958 - val_loss: 0.0160 - val_accuracy: 0.9950\n",
            "Epoch 57/100\n",
            "2820/2820 [==============================] - 10s 4ms/step - loss: 0.0127 - accuracy: 0.9959 - val_loss: 0.0164 - val_accuracy: 0.9946\n",
            "Epoch 58/100\n",
            "2820/2820 [==============================] - 11s 4ms/step - loss: 0.0127 - accuracy: 0.9959 - val_loss: 0.0158 - val_accuracy: 0.9950\n",
            "Epoch 59/100\n",
            "2820/2820 [==============================] - 12s 4ms/step - loss: 0.0127 - accuracy: 0.9958 - val_loss: 0.0152 - val_accuracy: 0.9955\n",
            "Epoch 60/100\n",
            "2820/2820 [==============================] - 12s 4ms/step - loss: 0.0128 - accuracy: 0.9958 - val_loss: 0.0152 - val_accuracy: 0.9950\n",
            "Epoch 61/100\n",
            "2820/2820 [==============================] - 10s 4ms/step - loss: 0.0126 - accuracy: 0.9959 - val_loss: 0.0151 - val_accuracy: 0.9952\n",
            "Epoch 62/100\n",
            "2820/2820 [==============================] - 10s 4ms/step - loss: 0.0128 - accuracy: 0.9957 - val_loss: 0.0160 - val_accuracy: 0.9952\n",
            "Epoch 63/100\n",
            "2820/2820 [==============================] - 11s 4ms/step - loss: 0.0126 - accuracy: 0.9958 - val_loss: 0.0153 - val_accuracy: 0.9951\n",
            "Epoch 64/100\n",
            "2820/2820 [==============================] - 10s 4ms/step - loss: 0.0126 - accuracy: 0.9959 - val_loss: 0.0152 - val_accuracy: 0.9955\n",
            "Epoch 65/100\n",
            "2820/2820 [==============================] - 10s 4ms/step - loss: 0.0124 - accuracy: 0.9960 - val_loss: 0.0144 - val_accuracy: 0.9959\n",
            "Epoch 66/100\n",
            "2820/2820 [==============================] - 11s 4ms/step - loss: 0.0123 - accuracy: 0.9960 - val_loss: 0.0146 - val_accuracy: 0.9953\n",
            "Epoch 67/100\n",
            "2820/2820 [==============================] - 11s 4ms/step - loss: 0.0125 - accuracy: 0.9959 - val_loss: 0.0154 - val_accuracy: 0.9952\n",
            "Epoch 68/100\n",
            "2820/2820 [==============================] - 11s 4ms/step - loss: 0.0124 - accuracy: 0.9959 - val_loss: 0.0163 - val_accuracy: 0.9944\n",
            "Epoch 69/100\n",
            "2820/2820 [==============================] - 11s 4ms/step - loss: 0.0124 - accuracy: 0.9960 - val_loss: 0.0150 - val_accuracy: 0.9950\n",
            "Epoch 70/100\n",
            "2820/2820 [==============================] - 12s 4ms/step - loss: 0.0122 - accuracy: 0.9959 - val_loss: 0.0142 - val_accuracy: 0.9957\n",
            "Epoch 71/100\n",
            "2820/2820 [==============================] - 10s 4ms/step - loss: 0.0123 - accuracy: 0.9960 - val_loss: 0.0149 - val_accuracy: 0.9951\n",
            "Epoch 72/100\n",
            "2820/2820 [==============================] - 12s 4ms/step - loss: 0.0123 - accuracy: 0.9961 - val_loss: 0.0147 - val_accuracy: 0.9955\n",
            "Epoch 73/100\n",
            "2820/2820 [==============================] - 12s 4ms/step - loss: 0.0119 - accuracy: 0.9962 - val_loss: 0.0155 - val_accuracy: 0.9947\n",
            "Epoch 74/100\n",
            "2820/2820 [==============================] - 11s 4ms/step - loss: 0.0122 - accuracy: 0.9961 - val_loss: 0.0170 - val_accuracy: 0.9945\n",
            "Epoch 75/100\n",
            "2820/2820 [==============================] - 11s 4ms/step - loss: 0.0122 - accuracy: 0.9960 - val_loss: 0.0154 - val_accuracy: 0.9950\n",
            "Epoch 76/100\n",
            "2820/2820 [==============================] - 11s 4ms/step - loss: 0.0120 - accuracy: 0.9960 - val_loss: 0.0184 - val_accuracy: 0.9949\n",
            "Epoch 77/100\n",
            "2820/2820 [==============================] - 10s 4ms/step - loss: 0.0121 - accuracy: 0.9961 - val_loss: 0.0145 - val_accuracy: 0.9954\n",
            "Epoch 78/100\n",
            "2820/2820 [==============================] - 10s 4ms/step - loss: 0.0120 - accuracy: 0.9962 - val_loss: 0.0149 - val_accuracy: 0.9952\n",
            "Epoch 79/100\n",
            "2820/2820 [==============================] - 12s 4ms/step - loss: 0.0116 - accuracy: 0.9962 - val_loss: 0.0157 - val_accuracy: 0.9953\n",
            "Epoch 80/100\n",
            "2820/2820 [==============================] - 13s 5ms/step - loss: 0.0120 - accuracy: 0.9962 - val_loss: 0.0138 - val_accuracy: 0.9958\n",
            "Epoch 81/100\n",
            "2820/2820 [==============================] - 11s 4ms/step - loss: 0.0118 - accuracy: 0.9961 - val_loss: 0.0158 - val_accuracy: 0.9947\n",
            "Epoch 82/100\n",
            "2820/2820 [==============================] - 11s 4ms/step - loss: 0.0118 - accuracy: 0.9962 - val_loss: 0.0161 - val_accuracy: 0.9945\n",
            "Epoch 83/100\n",
            "2820/2820 [==============================] - 10s 3ms/step - loss: 0.0116 - accuracy: 0.9963 - val_loss: 0.0168 - val_accuracy: 0.9948\n",
            "Epoch 84/100\n",
            "2820/2820 [==============================] - 10s 4ms/step - loss: 0.0118 - accuracy: 0.9962 - val_loss: 0.0142 - val_accuracy: 0.9953\n",
            "Epoch 85/100\n",
            "2820/2820 [==============================] - 12s 4ms/step - loss: 0.0116 - accuracy: 0.9962 - val_loss: 0.0147 - val_accuracy: 0.9955\n",
            "Epoch 86/100\n",
            "2820/2820 [==============================] - 12s 4ms/step - loss: 0.0116 - accuracy: 0.9962 - val_loss: 0.0160 - val_accuracy: 0.9944\n",
            "Epoch 87/100\n",
            "2820/2820 [==============================] - 13s 5ms/step - loss: 0.0116 - accuracy: 0.9962 - val_loss: 0.0142 - val_accuracy: 0.9958\n",
            "Epoch 88/100\n",
            "2820/2820 [==============================] - 16s 6ms/step - loss: 0.0114 - accuracy: 0.9963 - val_loss: 0.0159 - val_accuracy: 0.9946\n",
            "Epoch 89/100\n",
            "2820/2820 [==============================] - 14s 5ms/step - loss: 0.0114 - accuracy: 0.9964 - val_loss: 0.0152 - val_accuracy: 0.9953\n",
            "Epoch 90/100\n",
            "2820/2820 [==============================] - 12s 4ms/step - loss: 0.0115 - accuracy: 0.9961 - val_loss: 0.0134 - val_accuracy: 0.9961\n",
            "Epoch 91/100\n",
            "2820/2820 [==============================] - 12s 4ms/step - loss: 0.0115 - accuracy: 0.9961 - val_loss: 0.0145 - val_accuracy: 0.9952\n",
            "Epoch 92/100\n",
            "2820/2820 [==============================] - 12s 4ms/step - loss: 0.0115 - accuracy: 0.9964 - val_loss: 0.0146 - val_accuracy: 0.9952\n",
            "Epoch 93/100\n",
            "2820/2820 [==============================] - 11s 4ms/step - loss: 0.0114 - accuracy: 0.9961 - val_loss: 0.0149 - val_accuracy: 0.9954\n",
            "Epoch 94/100\n",
            "2820/2820 [==============================] - 11s 4ms/step - loss: 0.0114 - accuracy: 0.9964 - val_loss: 0.0145 - val_accuracy: 0.9960\n",
            "Epoch 95/100\n",
            "2820/2820 [==============================] - 10s 3ms/step - loss: 0.0114 - accuracy: 0.9963 - val_loss: 0.0154 - val_accuracy: 0.9947\n",
            "Epoch 96/100\n",
            "2820/2820 [==============================] - 12s 4ms/step - loss: 0.0112 - accuracy: 0.9963 - val_loss: 0.0143 - val_accuracy: 0.9955\n",
            "Epoch 97/100\n",
            "2820/2820 [==============================] - 11s 4ms/step - loss: 0.0113 - accuracy: 0.9964 - val_loss: 0.0142 - val_accuracy: 0.9953\n",
            "Epoch 98/100\n",
            "2820/2820 [==============================] - 11s 4ms/step - loss: 0.0111 - accuracy: 0.9964 - val_loss: 0.0142 - val_accuracy: 0.9957\n",
            "Epoch 99/100\n",
            "2820/2820 [==============================] - 13s 5ms/step - loss: 0.0111 - accuracy: 0.9963 - val_loss: 0.0143 - val_accuracy: 0.9953\n",
            "Epoch 100/100\n",
            "2820/2820 [==============================] - 12s 4ms/step - loss: 0.0112 - accuracy: 0.9963 - val_loss: 0.0140 - val_accuracy: 0.9959\n",
            "940/940 [==============================] - 2s 2ms/step - loss: 0.0140 - accuracy: 0.9959\n",
            "Accuracy: 0.9959108829498291\n",
            "\n",
            "Loss: 0.014049559831619263\n"
          ]
        }
      ]
    },
    {
      "cell_type": "markdown",
      "source": [
        "### Red Neuronal - 2 capas intermedia entre entrada y salida"
      ],
      "metadata": {
        "id": "D4weLxqO-6KW"
      }
    },
    {
      "cell_type": "code",
      "source": [
        "ann_3 = Sequential()\n",
        "ann_3.add(Dense(64, input_shape=(x_train.shape[1],),activation='relu'))\n",
        "ann_3.add(Dense(16 ,activation='relu'))\n",
        "ann_3.add(Dense(4 ,activation='relu'))\n",
        "#output layer with softmax function\n",
        "ann_3.add(Dense(5,activation='softmax'))\n",
        "\n",
        "#compile model\n",
        "ann_3.compile(optimizer='adam', loss='sparse_categorical_crossentropy',metrics=['accuracy'])"
      ],
      "metadata": {
        "id": "Ni3GSbUg-6KW"
      },
      "execution_count": 41,
      "outputs": []
    },
    {
      "cell_type": "code",
      "source": [
        "history= ann_3.fit(x_train,y_train, validation_data=(x_val,y_val),epochs=100, batch_size=32)\n",
        "loss, accuracy= ann_3.evaluate(x_val,y_val)\n",
        "print('Accuracy:', accuracy)\n",
        "print('\\nLoss:',loss)"
      ],
      "metadata": {
        "id": "IBZ7mpS3-6KW"
      },
      "execution_count": null,
      "outputs": []
    },
    {
      "cell_type": "markdown",
      "source": [
        "### Red Neuronal - 3 capas intermedia entre entrada y salida"
      ],
      "metadata": {
        "id": "fzKSrlyf_JVN"
      }
    },
    {
      "cell_type": "code",
      "source": [
        "ann_4 = Sequential()\n",
        "ann_4.add(Dense(256, input_shape=(x_train.shape[1],),activation='relu'))\n",
        "ann_4.add(Dense(64 ,activation='relu'))\n",
        "ann_4.add(Dense(16 ,activation='relu'))\n",
        "ann_4.add(Dense(4 ,activation='relu'))\n",
        "#output layer with softmax function\n",
        "ann_4.add(Dense(5,activation='softmax'))\n",
        "\n",
        "#compile model\n",
        "ann_4.compile(optimizer='adam', loss='sparse_categorical_crossentropy',metrics=['accuracy'])"
      ],
      "metadata": {
        "id": "BVw0K4OE_JVN"
      },
      "execution_count": null,
      "outputs": []
    },
    {
      "cell_type": "code",
      "source": [
        "history= ann_4.fit(x_train,y_train, validation_data=(x_val,y_val),epochs=100, batch_size=32)\n",
        "loss, accuracy= ann_4.evaluate(x_val,y_val)\n",
        "print('Accuracy:', accuracy)\n",
        "print('\\nLoss:',loss)"
      ],
      "metadata": {
        "id": "qOin3-SW_JVN"
      },
      "execution_count": null,
      "outputs": []
    },
    {
      "cell_type": "markdown",
      "source": [
        "### Red Neuronal - 4 capas intermedia entre entrada y salida"
      ],
      "metadata": {
        "id": "rG4WcbnEErdC"
      }
    },
    {
      "cell_type": "code",
      "source": [
        "ann_5 = Sequential()\n",
        "ann_5.add(Dense(256, input_shape=(x_train.shape[1],),activation='relu'))\n",
        "ann_5.add(Dense(64 ,activation='relu'))\n",
        "ann_5.add(Dense(16 ,activation='relu'))\n",
        "ann_5.add(Dense(4 ,activation='relu'))\n",
        "ann_5.add(Dense(4 ,activation='relu'))\n",
        "#output layer with softmax function\n",
        "ann_5.add(Dense(5,activation='softmax'))\n",
        "\n",
        "#compile model\n",
        "ann_5.compile(optimizer='adam', loss='sparse_categorical_crossentropy',metrics=['accuracy'])"
      ],
      "metadata": {
        "id": "SxxtTmuRErdC"
      },
      "execution_count": null,
      "outputs": []
    },
    {
      "cell_type": "code",
      "source": [
        "history= ann_5.fit(x_train,y_train, validation_data=(x_val,y_val),epochs=100, batch_size=32)\n",
        "loss, accuracy= ann_5.evaluate(x_val,y_val)\n",
        "print('Accuracy:', accuracy)\n",
        "print('\\nLoss:',loss)"
      ],
      "metadata": {
        "id": "5_oCBbX-ErdD"
      },
      "execution_count": null,
      "outputs": []
    }
  ]
}