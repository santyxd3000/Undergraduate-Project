{
  "nbformat": 4,
  "nbformat_minor": 0,
  "metadata": {
    "colab": {
      "provenance": [],
      "gpuType": "T4",
      "authorship_tag": "ABX9TyPNxmy4/elyiR/ReNN2eVjD",
      "include_colab_link": true
    },
    "kernelspec": {
      "name": "python3",
      "display_name": "Python 3"
    },
    "language_info": {
      "name": "python"
    },
    "accelerator": "GPU"
  },
  "cells": [
    {
      "cell_type": "markdown",
      "metadata": {
        "id": "view-in-github",
        "colab_type": "text"
      },
      "source": [
        "<a href=\"https://colab.research.google.com/github/santyxd3000/Undergraduate-Project/blob/main/Classifying_Models.ipynb\" target=\"_parent\"><img src=\"https://colab.research.google.com/assets/colab-badge.svg\" alt=\"Open In Colab\"/></a>"
      ]
    },
    {
      "cell_type": "markdown",
      "source": [
        "# **PROYECTO DE GRADO - MODELOS DE CLASIFICACIÓN**\n",
        "\n",
        "Santiago Pardo Morales - 202013025"
      ],
      "metadata": {
        "id": "JOJ2-QsjkVGW"
      }
    },
    {
      "cell_type": "code",
      "source": [
        "#For using the GPU\n",
        "!git clone https://github.com/rapidsai/rapidsai-csp-utils.git\n",
        "!python rapidsai-csp-utils/colab/pip-install.py"
      ],
      "metadata": {
        "colab": {
          "base_uri": "https://localhost:8080/"
        },
        "id": "chvD4QLUYrBP",
        "outputId": "5b19bb10-a3dd-4ab2-d98f-cf41a0df44f8"
      },
      "execution_count": 1,
      "outputs": [
        {
          "output_type": "stream",
          "name": "stdout",
          "text": [
            "Cloning into 'rapidsai-csp-utils'...\n",
            "remote: Enumerating objects: 438, done.\u001b[K\n",
            "remote: Counting objects: 100% (169/169), done.\u001b[K\n",
            "remote: Compressing objects: 100% (115/115), done.\u001b[K\n",
            "remote: Total 438 (delta 121), reused 57 (delta 54), pack-reused 269\u001b[K\n",
            "Receiving objects: 100% (438/438), 118.31 KiB | 4.55 MiB/s, done.\n",
            "Resolving deltas: 100% (223/223), done.\n",
            "***********************************************************************\n",
            "We will now install RAPIDS via pip! \n",
            "Please stand by, should be quick...\n",
            "***********************************************************************\n",
            "\n",
            "Looking in indexes: https://pypi.org/simple, https://pypi.nvidia.com\n",
            "Collecting cudf-cu12==23.12.*\n",
            "  Downloading https://pypi.nvidia.com/cudf-cu12/cudf_cu12-23.12.1-cp310-cp310-manylinux_2_28_x86_64.whl (511.6 MB)\n",
            "     ━━━━━━━━━━━━━━━━━━━━━━━━━━━━━━━━━━━━━━━━ 511.6/511.6 MB 3.3 MB/s eta 0:00:00\n",
            "Collecting cuml-cu12==23.12.*\n",
            "  Downloading https://pypi.nvidia.com/cuml-cu12/cuml_cu12-23.12.0-cp310-cp310-manylinux_2_17_x86_64.manylinux2014_x86_64.whl (955.2 MB)\n",
            "     ━━━━━━━━━━━━━━━━━━━━━━━━━━━━━━━━━━━━━━━━ 955.2/955.2 MB 1.7 MB/s eta 0:00:00\n",
            "Collecting cugraph-cu12==23.12.*\n",
            "  Downloading https://pypi.nvidia.com/cugraph-cu12/cugraph_cu12-23.12.0-cp310-cp310-manylinux_2_17_x86_64.manylinux2014_x86_64.whl (1192.6 MB)\n",
            "     ━━━━━━━━━━━━━━━━━━━━━━━━━━━━━━━━━━━━━━━━ 1.2/1.2 GB 568.5 kB/s eta 0:00:00\n",
            "Collecting cuspatial-cu12==23.12.*\n",
            "  Downloading https://pypi.nvidia.com/cuspatial-cu12/cuspatial_cu12-23.12.1-cp310-cp310-manylinux_2_17_x86_64.manylinux2014_x86_64.whl (142.8 MB)\n",
            "     ━━━━━━━━━━━━━━━━━━━━━━━━━━━━━━━━━━━━━━━━ 142.8/142.8 MB 7.8 MB/s eta 0:00:00\n",
            "Collecting cuproj-cu12==23.12.*\n",
            "  Downloading https://pypi.nvidia.com/cuproj-cu12/cuproj_cu12-23.12.1-cp310-cp310-manylinux_2_17_x86_64.manylinux2014_x86_64.whl (1.0 MB)\n",
            "     ━━━━━━━━━━━━━━━━━━━━━━━━━━━━━━━━━━━━━━━━ 1.0/1.0 MB 70.3 MB/s eta 0:00:00\n",
            "Collecting cuxfilter-cu12==23.12.*\n",
            "  Downloading https://pypi.nvidia.com/cuxfilter-cu12/cuxfilter_cu12-23.12.0-py3-none-any.whl (83 kB)\n",
            "     ━━━━━━━━━━━━━━━━━━━━━━━━━━━━━━━━━━━━━━━━ 83.2/83.2 kB 11.6 MB/s eta 0:00:00\n",
            "Collecting cucim-cu12==23.12.*\n",
            "  Downloading https://pypi.nvidia.com/cucim-cu12/cucim_cu12-23.12.1-cp310-cp310-manylinux_2_17_x86_64.manylinux2014_x86_64.whl (8.2 MB)\n",
            "     ━━━━━━━━━━━━━━━━━━━━━━━━━━━━━━━━━━━━━━━━ 8.2/8.2 MB 100.3 MB/s eta 0:00:00\n",
            "Collecting pylibraft-cu12==23.12.*\n",
            "  Downloading https://pypi.nvidia.com/pylibraft-cu12/pylibraft_cu12-23.12.0-cp310-cp310-manylinux_2_17_x86_64.manylinux2014_x86_64.whl (509.5 MB)\n",
            "     ━━━━━━━━━━━━━━━━━━━━━━━━━━━━━━━━━━━━━━━━ 509.5/509.5 MB 3.3 MB/s eta 0:00:00\n",
            "Collecting raft-dask-cu12==23.12.*\n",
            "  Downloading https://pypi.nvidia.com/raft-dask-cu12/raft_dask_cu12-23.12.0-cp310-cp310-manylinux_2_17_x86_64.manylinux2014_x86_64.whl (163.0 MB)\n",
            "     ━━━━━━━━━━━━━━━━━━━━━━━━━━━━━━━━━━━━━━━━ 163.0/163.0 MB 7.1 MB/s eta 0:00:00\n",
            "Requirement already satisfied: aiohttp in /usr/local/lib/python3.10/dist-packages (3.9.1)\n",
            "Requirement already satisfied: cachetools in /usr/local/lib/python3.10/dist-packages (from cudf-cu12==23.12.*) (5.3.2)\n",
            "Collecting cuda-python<13.0a0,>=12.0 (from cudf-cu12==23.12.*)\n",
            "  Downloading cuda_python-12.3.0-cp310-cp310-manylinux_2_17_x86_64.manylinux2014_x86_64.whl (23.6 MB)\n",
            "     ━━━━━━━━━━━━━━━━━━━━━━━━━━━━━━━━━━━━━━━━ 23.6/23.6 MB 58.5 MB/s eta 0:00:00\n",
            "Requirement already satisfied: cupy-cuda12x>=12.0.0 in /usr/local/lib/python3.10/dist-packages (from cudf-cu12==23.12.*) (12.2.0)\n",
            "Requirement already satisfied: fsspec>=0.6.0 in /usr/local/lib/python3.10/dist-packages (from cudf-cu12==23.12.*) (2023.6.0)\n",
            "Collecting numba<0.58,>=0.57 (from cudf-cu12==23.12.*)\n",
            "  Downloading numba-0.57.1-cp310-cp310-manylinux2014_x86_64.manylinux_2_17_x86_64.whl (3.6 MB)\n",
            "     ━━━━━━━━━━━━━━━━━━━━━━━━━━━━━━━━━━━━━━━━ 3.6/3.6 MB 88.4 MB/s eta 0:00:00\n",
            "Requirement already satisfied: numpy<1.25,>=1.21 in /usr/local/lib/python3.10/dist-packages (from cudf-cu12==23.12.*) (1.23.5)\n",
            "Collecting nvtx>=0.2.1 (from cudf-cu12==23.12.*)\n",
            "  Downloading nvtx-0.2.8-cp310-cp310-manylinux_2_17_x86_64.manylinux2014_x86_64.whl (582 kB)\n",
            "     ━━━━━━━━━━━━━━━━━━━━━━━━━━━━━━━━━━━━━━━━ 582.4/582.4 kB 35.3 MB/s eta 0:00:00\n",
            "Requirement already satisfied: packaging in /usr/local/lib/python3.10/dist-packages (from cudf-cu12==23.12.*) (23.2)\n",
            "Requirement already satisfied: pandas<1.6.0dev0,>=1.3 in /usr/local/lib/python3.10/dist-packages (from cudf-cu12==23.12.*) (1.5.3)\n",
            "Collecting protobuf<5,>=4.21 (from cudf-cu12==23.12.*)\n",
            "  Downloading protobuf-4.25.1-cp37-abi3-manylinux2014_x86_64.whl (294 kB)\n",
            "     ━━━━━━━━━━━━━━━━━━━━━━━━━━━━━━━━━━━━━━━━ 294.6/294.6 kB 28.7 MB/s eta 0:00:00\n",
            "Collecting pyarrow<15.0.0a0,>=14.0.1 (from cudf-cu12==23.12.*)\n",
            "  Downloading pyarrow-14.0.2-cp310-cp310-manylinux_2_28_x86_64.whl (38.0 MB)\n",
            "     ━━━━━━━━━━━━━━━━━━━━━━━━━━━━━━━━━━━━━━━━ 38.0/38.0 MB 11.3 MB/s eta 0:00:00\n",
            "Requirement already satisfied: rich in /usr/local/lib/python3.10/dist-packages (from cudf-cu12==23.12.*) (13.7.0)\n",
            "Collecting rmm-cu12==23.12.* (from cudf-cu12==23.12.*)\n",
            "  Downloading https://pypi.nvidia.com/rmm-cu12/rmm_cu12-23.12.0-cp310-cp310-manylinux_2_17_x86_64.manylinux2014_x86_64.whl (2.0 MB)\n",
            "     ━━━━━━━━━━━━━━━━━━━━━━━━━━━━━━━━━━━━━━━━ 2.0/2.0 MB 88.6 MB/s eta 0:00:00\n",
            "Requirement already satisfied: typing-extensions>=4.0.0 in /usr/local/lib/python3.10/dist-packages (from cudf-cu12==23.12.*) (4.5.0)\n",
            "Collecting dask-cuda==23.12.* (from cuml-cu12==23.12.*)\n",
            "  Downloading dask_cuda-23.12.0-py3-none-any.whl (126 kB)\n",
            "     ━━━━━━━━━━━━━━━━━━━━━━━━━━━━━━━━━━━━━━━━ 126.0/126.0 kB 16.2 MB/s eta 0:00:00\n",
            "Collecting dask-cudf-cu12==23.12.* (from cuml-cu12==23.12.*)\n",
            "  Downloading https://pypi.nvidia.com/dask-cudf-cu12/dask_cudf_cu12-23.12.0-py3-none-any.whl (82 kB)\n",
            "     ━━━━━━━━━━━━━━━━━━━━━━━━━━━━━━━━━━━━━━━━ 82.9/82.9 kB 11.4 MB/s eta 0:00:00\n",
            "Requirement already satisfied: joblib>=0.11 in /usr/local/lib/python3.10/dist-packages (from cuml-cu12==23.12.*) (1.3.2)\n",
            "Collecting rapids-dask-dependency==23.12.* (from cuml-cu12==23.12.*)\n",
            "  Downloading https://pypi.nvidia.com/rapids-dask-dependency/rapids_dask_dependency-23.12.1-py3-none-any.whl (5.4 kB)\n",
            "Requirement already satisfied: scipy>=1.8.0 in /usr/local/lib/python3.10/dist-packages (from cuml-cu12==23.12.*) (1.11.4)\n",
            "Collecting treelite==3.9.1 (from cuml-cu12==23.12.*)\n",
            "  Downloading treelite-3.9.1-py3-none-manylinux2014_x86_64.whl (1.0 MB)\n",
            "     ━━━━━━━━━━━━━━━━━━━━━━━━━━━━━━━━━━━━━━━━ 1.0/1.0 MB 70.1 MB/s eta 0:00:00\n",
            "Collecting treelite-runtime==3.9.1 (from cuml-cu12==23.12.*)\n",
            "  Downloading treelite_runtime-3.9.1-py3-none-manylinux2014_x86_64.whl (198 kB)\n",
            "     ━━━━━━━━━━━━━━━━━━━━━━━━━━━━━━━━━━━━━━━━ 198.7/198.7 kB 28.2 MB/s eta 0:00:00\n",
            "Collecting pylibcugraph-cu12==23.12.* (from cugraph-cu12==23.12.*)\n",
            "  Downloading https://pypi.nvidia.com/pylibcugraph-cu12/pylibcugraph_cu12-23.12.0-cp310-cp310-manylinux_2_17_x86_64.manylinux2014_x86_64.whl (1193.5 MB)\n",
            "     ━━━━━━━━━━━━━━━━━━━━━━━━━━━━━━━━━━━━━━━━ 1.2/1.2 GB 878.0 kB/s eta 0:00:00\n",
            "Collecting ucx-py-cu12==0.35.* (from cugraph-cu12==23.12.*)\n",
            "  Downloading https://pypi.nvidia.com/ucx-py-cu12/ucx_py_cu12-0.35.0-cp310-cp310-manylinux_2_17_x86_64.manylinux2014_x86_64.whl (7.7 MB)\n",
            "     ━━━━━━━━━━━━━━━━━━━━━━━━━━━━━━━━━━━━━━━━ 7.7/7.7 MB 105.5 MB/s eta 0:00:00\n",
            "Requirement already satisfied: geopandas>=0.11.0 in /usr/local/lib/python3.10/dist-packages (from cuspatial-cu12==23.12.*) (0.13.2)\n",
            "Requirement already satisfied: bokeh>=3.1 in /usr/local/lib/python3.10/dist-packages (from cuxfilter-cu12==23.12.*) (3.3.2)\n",
            "Collecting datashader>=0.15 (from cuxfilter-cu12==23.12.*)\n",
            "  Downloading datashader-0.16.0-py2.py3-none-any.whl (18.3 MB)\n",
            "     ━━━━━━━━━━━━━━━━━━━━━━━━━━━━━━━━━━━━━━━━ 18.3/18.3 MB 87.0 MB/s eta 0:00:00\n",
            "Requirement already satisfied: holoviews>=1.16.0 in /usr/local/lib/python3.10/dist-packages (from cuxfilter-cu12==23.12.*) (1.17.1)\n",
            "Collecting jupyter-server-proxy (from cuxfilter-cu12==23.12.*)\n",
            "  Downloading jupyter_server_proxy-4.1.0-py3-none-any.whl (33 kB)\n",
            "Requirement already satisfied: panel>=1.0 in /usr/local/lib/python3.10/dist-packages (from cuxfilter-cu12==23.12.*) (1.3.6)\n",
            "Requirement already satisfied: lazy-loader>=0.1 in /usr/local/lib/python3.10/dist-packages (from cucim-cu12==23.12.*) (0.3)\n",
            "Requirement already satisfied: scikit-image<0.22.0a0,>=0.19.0 in /usr/local/lib/python3.10/dist-packages (from cucim-cu12==23.12.*) (0.19.3)\n",
            "Requirement already satisfied: click>=8.1 in /usr/local/lib/python3.10/dist-packages (from dask-cuda==23.12.*->cuml-cu12==23.12.*) (8.1.7)\n",
            "Collecting pynvml<11.5,>=11.0.0 (from dask-cuda==23.12.*->cuml-cu12==23.12.*)\n",
            "  Downloading pynvml-11.4.1-py3-none-any.whl (46 kB)\n",
            "     ━━━━━━━━━━━━━━━━━━━━━━━━━━━━━━━━━━━━━━━━ 47.0/47.0 kB 6.1 MB/s eta 0:00:00\n",
            "Requirement already satisfied: zict>=2.0.0 in /usr/local/lib/python3.10/dist-packages (from dask-cuda==23.12.*->cuml-cu12==23.12.*) (3.0.0)\n",
            "Collecting dask==2023.11.0 (from rapids-dask-dependency==23.12.*->cuml-cu12==23.12.*)\n",
            "  Downloading dask-2023.11.0-py3-none-any.whl (1.2 MB)\n",
            "     ━━━━━━━━━━━━━━━━━━━━━━━━━━━━━━━━━━━━━━━━ 1.2/1.2 MB 80.7 MB/s eta 0:00:00\n",
            "Collecting distributed==2023.11.0 (from rapids-dask-dependency==23.12.*->cuml-cu12==23.12.*)\n",
            "  Downloading distributed-2023.11.0-py3-none-any.whl (1.0 MB)\n",
            "     ━━━━━━━━━━━━━━━━━━━━━━━━━━━━━━━━━━━━━━━━ 1.0/1.0 MB 75.3 MB/s eta 0:00:00\n",
            "Requirement already satisfied: cloudpickle>=1.5.0 in /usr/local/lib/python3.10/dist-packages (from dask==2023.11.0->rapids-dask-dependency==23.12.*->cuml-cu12==23.12.*) (2.2.1)\n",
            "Requirement already satisfied: partd>=1.2.0 in /usr/local/lib/python3.10/dist-packages (from dask==2023.11.0->rapids-dask-dependency==23.12.*->cuml-cu12==23.12.*) (1.4.1)\n",
            "Requirement already satisfied: pyyaml>=5.3.1 in /usr/local/lib/python3.10/dist-packages (from dask==2023.11.0->rapids-dask-dependency==23.12.*->cuml-cu12==23.12.*) (6.0.1)\n",
            "Requirement already satisfied: toolz>=0.10.0 in /usr/local/lib/python3.10/dist-packages (from dask==2023.11.0->rapids-dask-dependency==23.12.*->cuml-cu12==23.12.*) (0.12.0)\n",
            "Requirement already satisfied: importlib-metadata>=4.13.0 in /usr/local/lib/python3.10/dist-packages (from dask==2023.11.0->rapids-dask-dependency==23.12.*->cuml-cu12==23.12.*) (7.0.0)\n",
            "Requirement already satisfied: jinja2>=2.10.3 in /usr/local/lib/python3.10/dist-packages (from distributed==2023.11.0->rapids-dask-dependency==23.12.*->cuml-cu12==23.12.*) (3.1.2)\n",
            "Requirement already satisfied: locket>=1.0.0 in /usr/local/lib/python3.10/dist-packages (from distributed==2023.11.0->rapids-dask-dependency==23.12.*->cuml-cu12==23.12.*) (1.0.0)\n",
            "Requirement already satisfied: msgpack>=1.0.0 in /usr/local/lib/python3.10/dist-packages (from distributed==2023.11.0->rapids-dask-dependency==23.12.*->cuml-cu12==23.12.*) (1.0.7)\n",
            "Requirement already satisfied: psutil>=5.7.2 in /usr/local/lib/python3.10/dist-packages (from distributed==2023.11.0->rapids-dask-dependency==23.12.*->cuml-cu12==23.12.*) (5.9.5)\n",
            "Requirement already satisfied: sortedcontainers>=2.0.5 in /usr/local/lib/python3.10/dist-packages (from distributed==2023.11.0->rapids-dask-dependency==23.12.*->cuml-cu12==23.12.*) (2.4.0)\n",
            "Requirement already satisfied: tblib>=1.6.0 in /usr/local/lib/python3.10/dist-packages (from distributed==2023.11.0->rapids-dask-dependency==23.12.*->cuml-cu12==23.12.*) (3.0.0)\n",
            "Requirement already satisfied: tornado>=6.0.4 in /usr/local/lib/python3.10/dist-packages (from distributed==2023.11.0->rapids-dask-dependency==23.12.*->cuml-cu12==23.12.*) (6.3.2)\n",
            "Requirement already satisfied: urllib3>=1.24.3 in /usr/local/lib/python3.10/dist-packages (from distributed==2023.11.0->rapids-dask-dependency==23.12.*->cuml-cu12==23.12.*) (2.0.7)\n",
            "Requirement already satisfied: attrs>=17.3.0 in /usr/local/lib/python3.10/dist-packages (from aiohttp) (23.1.0)\n",
            "Requirement already satisfied: multidict<7.0,>=4.5 in /usr/local/lib/python3.10/dist-packages (from aiohttp) (6.0.4)\n",
            "Requirement already satisfied: yarl<2.0,>=1.0 in /usr/local/lib/python3.10/dist-packages (from aiohttp) (1.9.4)\n",
            "Requirement already satisfied: frozenlist>=1.1.1 in /usr/local/lib/python3.10/dist-packages (from aiohttp) (1.4.1)\n",
            "Requirement already satisfied: aiosignal>=1.1.2 in /usr/local/lib/python3.10/dist-packages (from aiohttp) (1.3.1)\n",
            "Requirement already satisfied: async-timeout<5.0,>=4.0 in /usr/local/lib/python3.10/dist-packages (from aiohttp) (4.0.3)\n",
            "Requirement already satisfied: contourpy>=1 in /usr/local/lib/python3.10/dist-packages (from bokeh>=3.1->cuxfilter-cu12==23.12.*) (1.2.0)\n",
            "Requirement already satisfied: pillow>=7.1.0 in /usr/local/lib/python3.10/dist-packages (from bokeh>=3.1->cuxfilter-cu12==23.12.*) (9.4.0)\n",
            "Requirement already satisfied: xyzservices>=2021.09.1 in /usr/local/lib/python3.10/dist-packages (from bokeh>=3.1->cuxfilter-cu12==23.12.*) (2023.10.1)\n",
            "Requirement already satisfied: fastrlock>=0.5 in /usr/local/lib/python3.10/dist-packages (from cupy-cuda12x>=12.0.0->cudf-cu12==23.12.*) (0.8.2)\n",
            "Requirement already satisfied: colorcet in /usr/local/lib/python3.10/dist-packages (from datashader>=0.15->cuxfilter-cu12==23.12.*) (3.0.1)\n",
            "Requirement already satisfied: multipledispatch in /usr/local/lib/python3.10/dist-packages (from datashader>=0.15->cuxfilter-cu12==23.12.*) (1.0.0)\n",
            "Requirement already satisfied: param in /usr/local/lib/python3.10/dist-packages (from datashader>=0.15->cuxfilter-cu12==23.12.*) (2.0.1)\n",
            "Requirement already satisfied: pyct in /usr/local/lib/python3.10/dist-packages (from datashader>=0.15->cuxfilter-cu12==23.12.*) (0.5.0)\n",
            "Requirement already satisfied: requests in /usr/local/lib/python3.10/dist-packages (from datashader>=0.15->cuxfilter-cu12==23.12.*) (2.31.0)\n",
            "Requirement already satisfied: xarray in /usr/local/lib/python3.10/dist-packages (from datashader>=0.15->cuxfilter-cu12==23.12.*) (2023.7.0)\n",
            "Requirement already satisfied: fiona>=1.8.19 in /usr/local/lib/python3.10/dist-packages (from geopandas>=0.11.0->cuspatial-cu12==23.12.*) (1.9.5)\n",
            "Requirement already satisfied: pyproj>=3.0.1 in /usr/local/lib/python3.10/dist-packages (from geopandas>=0.11.0->cuspatial-cu12==23.12.*) (3.6.1)\n",
            "Requirement already satisfied: shapely>=1.7.1 in /usr/local/lib/python3.10/dist-packages (from geopandas>=0.11.0->cuspatial-cu12==23.12.*) (2.0.2)\n",
            "Requirement already satisfied: pyviz-comms>=0.7.4 in /usr/local/lib/python3.10/dist-packages (from holoviews>=1.16.0->cuxfilter-cu12==23.12.*) (3.0.0)\n",
            "Collecting llvmlite<0.41,>=0.40.0dev0 (from numba<0.58,>=0.57->cudf-cu12==23.12.*)\n",
            "  Downloading llvmlite-0.40.1-cp310-cp310-manylinux_2_17_x86_64.manylinux2014_x86_64.whl (42.1 MB)\n",
            "     ━━━━━━━━━━━━━━━━━━━━━━━━━━━━━━━━━━━━━━━━ 42.1/42.1 MB 12.3 MB/s eta 0:00:00\n",
            "Requirement already satisfied: python-dateutil>=2.8.1 in /usr/local/lib/python3.10/dist-packages (from pandas<1.6.0dev0,>=1.3->cudf-cu12==23.12.*) (2.8.2)\n",
            "Requirement already satisfied: pytz>=2020.1 in /usr/local/lib/python3.10/dist-packages (from pandas<1.6.0dev0,>=1.3->cudf-cu12==23.12.*) (2023.3.post1)\n",
            "Requirement already satisfied: markdown in /usr/local/lib/python3.10/dist-packages (from panel>=1.0->cuxfilter-cu12==23.12.*) (3.5.1)\n",
            "Requirement already satisfied: markdown-it-py in /usr/local/lib/python3.10/dist-packages (from panel>=1.0->cuxfilter-cu12==23.12.*) (3.0.0)\n",
            "Requirement already satisfied: linkify-it-py in /usr/local/lib/python3.10/dist-packages (from panel>=1.0->cuxfilter-cu12==23.12.*) (2.0.2)\n",
            "Requirement already satisfied: mdit-py-plugins in /usr/local/lib/python3.10/dist-packages (from panel>=1.0->cuxfilter-cu12==23.12.*) (0.4.0)\n",
            "Requirement already satisfied: tqdm>=4.48.0 in /usr/local/lib/python3.10/dist-packages (from panel>=1.0->cuxfilter-cu12==23.12.*) (4.66.1)\n",
            "Requirement already satisfied: bleach in /usr/local/lib/python3.10/dist-packages (from panel>=1.0->cuxfilter-cu12==23.12.*) (6.1.0)\n",
            "Requirement already satisfied: networkx>=2.2 in /usr/local/lib/python3.10/dist-packages (from scikit-image<0.22.0a0,>=0.19.0->cucim-cu12==23.12.*) (3.2.1)\n",
            "Requirement already satisfied: imageio>=2.4.1 in /usr/local/lib/python3.10/dist-packages (from scikit-image<0.22.0a0,>=0.19.0->cucim-cu12==23.12.*) (2.31.6)\n",
            "Requirement already satisfied: tifffile>=2019.7.26 in /usr/local/lib/python3.10/dist-packages (from scikit-image<0.22.0a0,>=0.19.0->cucim-cu12==23.12.*) (2023.12.9)\n",
            "Requirement already satisfied: PyWavelets>=1.1.1 in /usr/local/lib/python3.10/dist-packages (from scikit-image<0.22.0a0,>=0.19.0->cucim-cu12==23.12.*) (1.5.0)\n",
            "Requirement already satisfied: idna>=2.0 in /usr/local/lib/python3.10/dist-packages (from yarl<2.0,>=1.0->aiohttp) (3.6)\n",
            "Requirement already satisfied: jupyter-server>=1.0 in /usr/local/lib/python3.10/dist-packages (from jupyter-server-proxy->cuxfilter-cu12==23.12.*) (1.24.0)\n",
            "Collecting simpervisor>=1.0 (from jupyter-server-proxy->cuxfilter-cu12==23.12.*)\n",
            "  Downloading simpervisor-1.0.0-py3-none-any.whl (8.3 kB)\n",
            "Requirement already satisfied: pygments<3.0.0,>=2.13.0 in /usr/local/lib/python3.10/dist-packages (from rich->cudf-cu12==23.12.*) (2.16.1)\n",
            "Requirement already satisfied: certifi in /usr/local/lib/python3.10/dist-packages (from fiona>=1.8.19->geopandas>=0.11.0->cuspatial-cu12==23.12.*) (2023.11.17)\n",
            "Requirement already satisfied: click-plugins>=1.0 in /usr/local/lib/python3.10/dist-packages (from fiona>=1.8.19->geopandas>=0.11.0->cuspatial-cu12==23.12.*) (1.1.1)\n",
            "Requirement already satisfied: cligj>=0.5 in /usr/local/lib/python3.10/dist-packages (from fiona>=1.8.19->geopandas>=0.11.0->cuspatial-cu12==23.12.*) (0.7.2)\n",
            "Requirement already satisfied: six in /usr/local/lib/python3.10/dist-packages (from fiona>=1.8.19->geopandas>=0.11.0->cuspatial-cu12==23.12.*) (1.16.0)\n",
            "Requirement already satisfied: setuptools in /usr/local/lib/python3.10/dist-packages (from fiona>=1.8.19->geopandas>=0.11.0->cuspatial-cu12==23.12.*) (67.7.2)\n",
            "Requirement already satisfied: MarkupSafe>=2.0 in /usr/local/lib/python3.10/dist-packages (from jinja2>=2.10.3->distributed==2023.11.0->rapids-dask-dependency==23.12.*->cuml-cu12==23.12.*) (2.1.3)\n",
            "Requirement already satisfied: anyio<4,>=3.1.0 in /usr/local/lib/python3.10/dist-packages (from jupyter-server>=1.0->jupyter-server-proxy->cuxfilter-cu12==23.12.*) (3.7.1)\n",
            "Requirement already satisfied: argon2-cffi in /usr/local/lib/python3.10/dist-packages (from jupyter-server>=1.0->jupyter-server-proxy->cuxfilter-cu12==23.12.*) (23.1.0)\n",
            "Requirement already satisfied: jupyter-client>=6.1.12 in /usr/local/lib/python3.10/dist-packages (from jupyter-server>=1.0->jupyter-server-proxy->cuxfilter-cu12==23.12.*) (6.1.12)\n",
            "Requirement already satisfied: jupyter-core!=5.0.*,>=4.12 in /usr/local/lib/python3.10/dist-packages (from jupyter-server>=1.0->jupyter-server-proxy->cuxfilter-cu12==23.12.*) (5.5.1)\n",
            "Requirement already satisfied: nbconvert>=6.4.4 in /usr/local/lib/python3.10/dist-packages (from jupyter-server>=1.0->jupyter-server-proxy->cuxfilter-cu12==23.12.*) (6.5.4)\n",
            "Requirement already satisfied: nbformat>=5.2.0 in /usr/local/lib/python3.10/dist-packages (from jupyter-server>=1.0->jupyter-server-proxy->cuxfilter-cu12==23.12.*) (5.9.2)\n",
            "Requirement already satisfied: prometheus-client in /usr/local/lib/python3.10/dist-packages (from jupyter-server>=1.0->jupyter-server-proxy->cuxfilter-cu12==23.12.*) (0.19.0)\n",
            "Requirement already satisfied: pyzmq>=17 in /usr/local/lib/python3.10/dist-packages (from jupyter-server>=1.0->jupyter-server-proxy->cuxfilter-cu12==23.12.*) (23.2.1)\n",
            "Requirement already satisfied: Send2Trash in /usr/local/lib/python3.10/dist-packages (from jupyter-server>=1.0->jupyter-server-proxy->cuxfilter-cu12==23.12.*) (1.8.2)\n",
            "Requirement already satisfied: terminado>=0.8.3 in /usr/local/lib/python3.10/dist-packages (from jupyter-server>=1.0->jupyter-server-proxy->cuxfilter-cu12==23.12.*) (0.18.0)\n",
            "Requirement already satisfied: traitlets>=5.1 in /usr/local/lib/python3.10/dist-packages (from jupyter-server>=1.0->jupyter-server-proxy->cuxfilter-cu12==23.12.*) (5.7.1)\n",
            "Requirement already satisfied: websocket-client in /usr/local/lib/python3.10/dist-packages (from jupyter-server>=1.0->jupyter-server-proxy->cuxfilter-cu12==23.12.*) (1.7.0)\n",
            "Requirement already satisfied: mdurl~=0.1 in /usr/local/lib/python3.10/dist-packages (from markdown-it-py->panel>=1.0->cuxfilter-cu12==23.12.*) (0.1.2)\n",
            "Requirement already satisfied: webencodings in /usr/local/lib/python3.10/dist-packages (from bleach->panel>=1.0->cuxfilter-cu12==23.12.*) (0.5.1)\n",
            "Requirement already satisfied: uc-micro-py in /usr/local/lib/python3.10/dist-packages (from linkify-it-py->panel>=1.0->cuxfilter-cu12==23.12.*) (1.0.2)\n",
            "Requirement already satisfied: charset-normalizer<4,>=2 in /usr/local/lib/python3.10/dist-packages (from requests->datashader>=0.15->cuxfilter-cu12==23.12.*) (3.3.2)\n",
            "Requirement already satisfied: sniffio>=1.1 in /usr/local/lib/python3.10/dist-packages (from anyio<4,>=3.1.0->jupyter-server>=1.0->jupyter-server-proxy->cuxfilter-cu12==23.12.*) (1.3.0)\n",
            "Requirement already satisfied: exceptiongroup in /usr/local/lib/python3.10/dist-packages (from anyio<4,>=3.1.0->jupyter-server>=1.0->jupyter-server-proxy->cuxfilter-cu12==23.12.*) (1.2.0)\n",
            "Requirement already satisfied: zipp>=0.5 in /usr/local/lib/python3.10/dist-packages (from importlib-metadata>=4.13.0->dask==2023.11.0->rapids-dask-dependency==23.12.*->cuml-cu12==23.12.*) (3.17.0)\n",
            "Requirement already satisfied: platformdirs>=2.5 in /usr/local/lib/python3.10/dist-packages (from jupyter-core!=5.0.*,>=4.12->jupyter-server>=1.0->jupyter-server-proxy->cuxfilter-cu12==23.12.*) (4.1.0)\n",
            "Requirement already satisfied: lxml in /usr/local/lib/python3.10/dist-packages (from nbconvert>=6.4.4->jupyter-server>=1.0->jupyter-server-proxy->cuxfilter-cu12==23.12.*) (4.9.4)\n",
            "Requirement already satisfied: beautifulsoup4 in /usr/local/lib/python3.10/dist-packages (from nbconvert>=6.4.4->jupyter-server>=1.0->jupyter-server-proxy->cuxfilter-cu12==23.12.*) (4.11.2)\n",
            "Requirement already satisfied: defusedxml in /usr/local/lib/python3.10/dist-packages (from nbconvert>=6.4.4->jupyter-server>=1.0->jupyter-server-proxy->cuxfilter-cu12==23.12.*) (0.7.1)\n",
            "Requirement already satisfied: entrypoints>=0.2.2 in /usr/local/lib/python3.10/dist-packages (from nbconvert>=6.4.4->jupyter-server>=1.0->jupyter-server-proxy->cuxfilter-cu12==23.12.*) (0.4)\n",
            "Requirement already satisfied: jupyterlab-pygments in /usr/local/lib/python3.10/dist-packages (from nbconvert>=6.4.4->jupyter-server>=1.0->jupyter-server-proxy->cuxfilter-cu12==23.12.*) (0.3.0)\n",
            "Requirement already satisfied: mistune<2,>=0.8.1 in /usr/local/lib/python3.10/dist-packages (from nbconvert>=6.4.4->jupyter-server>=1.0->jupyter-server-proxy->cuxfilter-cu12==23.12.*) (0.8.4)\n",
            "Requirement already satisfied: nbclient>=0.5.0 in /usr/local/lib/python3.10/dist-packages (from nbconvert>=6.4.4->jupyter-server>=1.0->jupyter-server-proxy->cuxfilter-cu12==23.12.*) (0.9.0)\n",
            "Requirement already satisfied: pandocfilters>=1.4.1 in /usr/local/lib/python3.10/dist-packages (from nbconvert>=6.4.4->jupyter-server>=1.0->jupyter-server-proxy->cuxfilter-cu12==23.12.*) (1.5.0)\n",
            "Requirement already satisfied: tinycss2 in /usr/local/lib/python3.10/dist-packages (from nbconvert>=6.4.4->jupyter-server>=1.0->jupyter-server-proxy->cuxfilter-cu12==23.12.*) (1.2.1)\n",
            "Requirement already satisfied: fastjsonschema in /usr/local/lib/python3.10/dist-packages (from nbformat>=5.2.0->jupyter-server>=1.0->jupyter-server-proxy->cuxfilter-cu12==23.12.*) (2.19.0)\n",
            "Requirement already satisfied: jsonschema>=2.6 in /usr/local/lib/python3.10/dist-packages (from nbformat>=5.2.0->jupyter-server>=1.0->jupyter-server-proxy->cuxfilter-cu12==23.12.*) (4.19.2)\n",
            "Requirement already satisfied: ptyprocess in /usr/local/lib/python3.10/dist-packages (from terminado>=0.8.3->jupyter-server>=1.0->jupyter-server-proxy->cuxfilter-cu12==23.12.*) (0.7.0)\n",
            "Requirement already satisfied: argon2-cffi-bindings in /usr/local/lib/python3.10/dist-packages (from argon2-cffi->jupyter-server>=1.0->jupyter-server-proxy->cuxfilter-cu12==23.12.*) (21.2.0)\n",
            "Requirement already satisfied: jsonschema-specifications>=2023.03.6 in /usr/local/lib/python3.10/dist-packages (from jsonschema>=2.6->nbformat>=5.2.0->jupyter-server>=1.0->jupyter-server-proxy->cuxfilter-cu12==23.12.*) (2023.11.2)\n",
            "Requirement already satisfied: referencing>=0.28.4 in /usr/local/lib/python3.10/dist-packages (from jsonschema>=2.6->nbformat>=5.2.0->jupyter-server>=1.0->jupyter-server-proxy->cuxfilter-cu12==23.12.*) (0.32.0)\n",
            "Requirement already satisfied: rpds-py>=0.7.1 in /usr/local/lib/python3.10/dist-packages (from jsonschema>=2.6->nbformat>=5.2.0->jupyter-server>=1.0->jupyter-server-proxy->cuxfilter-cu12==23.12.*) (0.15.2)\n",
            "Requirement already satisfied: cffi>=1.0.1 in /usr/local/lib/python3.10/dist-packages (from argon2-cffi-bindings->argon2-cffi->jupyter-server>=1.0->jupyter-server-proxy->cuxfilter-cu12==23.12.*) (1.16.0)\n",
            "Requirement already satisfied: soupsieve>1.2 in /usr/local/lib/python3.10/dist-packages (from beautifulsoup4->nbconvert>=6.4.4->jupyter-server>=1.0->jupyter-server-proxy->cuxfilter-cu12==23.12.*) (2.5)\n",
            "Requirement already satisfied: pycparser in /usr/local/lib/python3.10/dist-packages (from cffi>=1.0.1->argon2-cffi-bindings->argon2-cffi->jupyter-server>=1.0->jupyter-server-proxy->cuxfilter-cu12==23.12.*) (2.21)\n",
            "Installing collected packages: nvtx, cuda-python, simpervisor, pynvml, pyarrow, protobuf, llvmlite, ucx-py-cu12, treelite-runtime, treelite, numba, dask, rmm-cu12, distributed, cucim-cu12, rapids-dask-dependency, pylibraft-cu12, datashader, cuproj-cu12, cudf-cu12, pylibcugraph-cu12, dask-cudf-cu12, dask-cuda, cuspatial-cu12, raft-dask-cu12, cuml-cu12, cugraph-cu12, jupyter-server-proxy, cuxfilter-cu12\n",
            "  Attempting uninstall: pyarrow\n",
            "    Found existing installation: pyarrow 10.0.1\n",
            "    Uninstalling pyarrow-10.0.1:\n",
            "      Successfully uninstalled pyarrow-10.0.1\n",
            "  Attempting uninstall: protobuf\n",
            "    Found existing installation: protobuf 3.20.3\n",
            "    Uninstalling protobuf-3.20.3:\n",
            "      Successfully uninstalled protobuf-3.20.3\n",
            "  Attempting uninstall: llvmlite\n",
            "    Found existing installation: llvmlite 0.41.1\n",
            "    Uninstalling llvmlite-0.41.1:\n",
            "      Successfully uninstalled llvmlite-0.41.1\n",
            "  Attempting uninstall: numba\n",
            "    Found existing installation: numba 0.58.1\n",
            "    Uninstalling numba-0.58.1:\n",
            "      Successfully uninstalled numba-0.58.1\n",
            "  Attempting uninstall: dask\n",
            "    Found existing installation: dask 2023.8.1\n",
            "    Uninstalling dask-2023.8.1:\n",
            "      Successfully uninstalled dask-2023.8.1\n",
            "  Attempting uninstall: distributed\n",
            "    Found existing installation: distributed 2023.8.1\n",
            "    Uninstalling distributed-2023.8.1:\n",
            "      Successfully uninstalled distributed-2023.8.1\n",
            "ERROR: pip's dependency resolver does not currently take into account all the packages that are installed. This behaviour is the source of the following dependency conflicts.\n",
            "ibis-framework 6.2.0 requires pyarrow<13,>=2, but you have pyarrow 14.0.2 which is incompatible.\n",
            "tensorboard 2.15.1 requires protobuf<4.24,>=3.19.6, but you have protobuf 4.25.1 which is incompatible.\n",
            "tensorflow-metadata 1.14.0 requires protobuf<4.21,>=3.20.3, but you have protobuf 4.25.1 which is incompatible.\n",
            "Successfully installed cucim-cu12-23.12.1 cuda-python-12.3.0 cudf-cu12-23.12.1 cugraph-cu12-23.12.0 cuml-cu12-23.12.0 cuproj-cu12-23.12.1 cuspatial-cu12-23.12.1 cuxfilter-cu12-23.12.0 dask-2023.11.0 dask-cuda-23.12.0 dask-cudf-cu12-23.12.0 datashader-0.16.0 distributed-2023.11.0 jupyter-server-proxy-4.1.0 llvmlite-0.40.1 numba-0.57.1 nvtx-0.2.8 protobuf-4.25.1 pyarrow-14.0.2 pylibcugraph-cu12-23.12.0 pylibraft-cu12-23.12.0 pynvml-11.4.1 raft-dask-cu12-23.12.0 rapids-dask-dependency-23.12.1 rmm-cu12-23.12.0 simpervisor-1.0.0 treelite-3.9.1 treelite-runtime-3.9.1 ucx-py-cu12-0.35.0\n",
            "Collecting cupy-cuda12x\n",
            "  Downloading cupy_cuda12x-12.3.0-cp310-cp310-manylinux2014_x86_64.whl (81.8 MB)\n",
            "     ━━━━━━━━━━━━━━━━━━━━━━━━━━━━━━━━━━━━━━━━ 81.8/81.8 MB 9.6 MB/s eta 0:00:00\n",
            "Requirement already satisfied: numpy<1.29,>=1.20 in /usr/local/lib/python3.10/dist-packages (from cupy-cuda12x) (1.23.5)\n",
            "Requirement already satisfied: fastrlock>=0.5 in /usr/local/lib/python3.10/dist-packages (from cupy-cuda12x) (0.8.2)\n",
            "Installing collected packages: cupy-cuda12x\n",
            "Successfully installed cupy-cuda12x-12.3.0\n",
            "\n",
            "        ***********************************************************************\n",
            "        The pip install of RAPIDS is complete.\n",
            "        \n",
            "        Please do not run any further installation from the conda based installation methods, as they may cause issues!\n",
            "        \n",
            "        Please ensure that you're pulling from the git repo to remain updated with the latest working install scripts.\n",
            "\n",
            "        Troubleshooting:\n",
            "            - If there is an installation failure, please check back on RAPIDSAI owned templates/notebooks to see how to update your personal files. \n",
            "            - If an installation failure persists when using the latest script, please make an issue on https://github.com/rapidsai-community/rapidsai-csp-utils\n",
            "        ***********************************************************************\n",
            "        \n"
          ]
        }
      ]
    },
    {
      "cell_type": "code",
      "source": [
        "import pandas as pd\n",
        "import numpy as np\n",
        "import matplotlib.pyplot as plt\n",
        "import seaborn as sns\n",
        "import ipywidgets as widgets\n",
        "from IPython.display import display\n",
        "import datetime\n",
        "import scipy\n",
        "sns.set()\n",
        "from sklearn.cluster import KMeans\n",
        "from sklearn.preprocessing import StandardScaler\n",
        "from sklearn.metrics import pairwise_distances_argmin_min\n",
        "from sklearn.ensemble import IsolationForest\n",
        "from sklearn.svm import OneClassSVM\n",
        "import io\n",
        "from sklearn.model_selection import GridSearchCV\n",
        "from sklearn.metrics import make_scorer, f1_score\n",
        "from sklearn import model_selection\n",
        "from sklearn.datasets import make_classification\n",
        "from sklearn.model_selection import ParameterGrid\n",
        "from sklearn.neighbors import LocalOutlierFactor\n",
        "from sklearn.neural_network import MLPRegressor\n",
        "from sklearn.metrics import mean_squared_error\n",
        "from sklearn.neural_network import MLPRegressor\n",
        "import cudf\n",
        "import cuml\n",
        "import cupy as cp\n",
        "from cuml import preprocessing as cpp\n",
        "import tensorflow as tf\n",
        "from keras.layers import Input, Dropout, Dense, LSTM, TimeDistributed, RepeatVector\n",
        "from keras.models import Model\n",
        "from keras import regularizers\n",
        "from sklearn.metrics import accuracy_score\n",
        "from sklearn.metrics import f1_score\n",
        "from sklearn.metrics import precision_score\n",
        "from sklearn.metrics import recall_score\n",
        "physical_devices = tf.config.list_physical_devices('GPU')\n",
        "from sklearn.model_selection import train_test_split\n",
        "from keras.models import Sequential\n",
        "from keras.layers import Dense\n",
        "from cuml.svm import SVC\n",
        "from cuml.multiclass import OneVsOneClassifier\n",
        "from cuml.multiclass import OneVsRestClassifier"
      ],
      "metadata": {
        "id": "22BWwGAymhIg"
      },
      "execution_count": 22,
      "outputs": []
    },
    {
      "cell_type": "code",
      "source": [
        "print(\"GPU:\", tf.config.list_physical_devices('GPU'))\n",
        "print(\"Num GPUs:\", len(physical_devices))"
      ],
      "metadata": {
        "colab": {
          "base_uri": "https://localhost:8080/"
        },
        "id": "_lerTLc6bGCV",
        "outputId": "df733b0f-fac5-4b15-ec8e-d7be727c5ca4"
      },
      "execution_count": 50,
      "outputs": [
        {
          "output_type": "stream",
          "name": "stdout",
          "text": [
            "GPU: [PhysicalDevice(name='/physical_device:GPU:0', device_type='GPU')]\n",
            "Num GPUs: 1\n"
          ]
        }
      ]
    },
    {
      "cell_type": "code",
      "execution_count": 8,
      "metadata": {
        "id": "kuNJsRxlkI2B"
      },
      "outputs": [],
      "source": [
        "#Leer datos etiquetados\n",
        "df = pd.read_csv('df_with_labels.csv',sep=';').dropna()"
      ]
    },
    {
      "cell_type": "code",
      "source": [
        "df['Label'].unique()"
      ],
      "metadata": {
        "colab": {
          "base_uri": "https://localhost:8080/"
        },
        "id": "DdiwwBpwmmZ-",
        "outputId": "127953f8-c6be-483a-f677-b0018b4e38f9"
      },
      "execution_count": 9,
      "outputs": [
        {
          "output_type": "execute_result",
          "data": {
            "text/plain": [
              "array(['No Fault', 'Shading', 'Open Circuit', 'Unknown', 'Short Circuit'],\n",
              "      dtype=object)"
            ]
          },
          "metadata": {},
          "execution_count": 9
        }
      ]
    },
    {
      "cell_type": "markdown",
      "source": [
        "## **MÉTODO 1 - RED NEURONAL**"
      ],
      "metadata": {
        "id": "Zne0_h0xxx_U"
      }
    },
    {
      "cell_type": "code",
      "source": [
        "df['Label'].replace({'No Fault': 0, 'Shading': 1, 'Open Circuit': 2, 'Short Circuit': 3, 'Unknown':4}, inplace=True)"
      ],
      "metadata": {
        "id": "f1u0tYeDs_D1"
      },
      "execution_count": 10,
      "outputs": []
    },
    {
      "cell_type": "code",
      "source": [
        "df[df['Label']==1].shape"
      ],
      "metadata": {
        "colab": {
          "base_uri": "https://localhost:8080/"
        },
        "id": "31hDnu3MtZGB",
        "outputId": "3f5ce801-9523-4946-d928-4ad921035887"
      },
      "execution_count": null,
      "outputs": [
        {
          "output_type": "execute_result",
          "data": {
            "text/plain": [
              "(47256, 6)"
            ]
          },
          "metadata": {},
          "execution_count": 8
        }
      ]
    },
    {
      "cell_type": "code",
      "source": [
        "x_data = df[['U_DC1','U_DC2','I_DC1','I_DC2']]\n",
        "y_data = df[['Label']]"
      ],
      "metadata": {
        "id": "wqjyarAkubfM"
      },
      "execution_count": null,
      "outputs": []
    },
    {
      "cell_type": "code",
      "source": [
        "scaler = StandardScaler()\n",
        "x_scaled = scaler.fit_transform(x_data)\n",
        "y_data = np.array(y_data)"
      ],
      "metadata": {
        "id": "PRcl1cRTwkin"
      },
      "execution_count": null,
      "outputs": []
    },
    {
      "cell_type": "code",
      "source": [
        "#Divide data\n",
        "x_train, x_temp, y_train, y_temp = train_test_split(x_scaled, y_data, train_size = 0.6, random_state=42)\n",
        "x_val, x_test, y_val, y_test = train_test_split(x_temp, y_temp, train_size = 0.5, random_state=42)"
      ],
      "metadata": {
        "id": "wBg84ey_w7dD"
      },
      "execution_count": null,
      "outputs": []
    },
    {
      "cell_type": "markdown",
      "source": [
        "### Red Neuronal - Solo capa de entrada y de salida"
      ],
      "metadata": {
        "id": "o2Lr_soPyEtG"
      }
    },
    {
      "cell_type": "code",
      "source": [
        "ann_1 = Sequential()\n",
        "ann_1.add(Dense(4, input_shape=(x_train.shape[1],),activation='relu'))\n",
        "\n",
        "#output layer with softmax function\n",
        "ann_1.add(Dense(5,activation='softmax'))\n",
        "\n",
        "#compile model\n",
        "ann_1.compile(optimizer='adam', loss='sparse_categorical_crossentropy',metrics=['accuracy'])"
      ],
      "metadata": {
        "id": "SydXSG0cyZT3"
      },
      "execution_count": null,
      "outputs": []
    },
    {
      "cell_type": "code",
      "source": [
        "history= ann_1.fit(x_train,y_train, validation_data=(x_val,y_val),epochs=100, batch_size=32)\n",
        "loss, accuracy= ann_1.evaluate(x_val,y_val)\n",
        "print('Accuracy:', accuracy)\n",
        "print('\\nLoss:',loss)"
      ],
      "metadata": {
        "colab": {
          "base_uri": "https://localhost:8080/"
        },
        "id": "dNEz-vvVzZzs",
        "outputId": "8878422e-2f8d-4a5c-8766-44bb7fbed503"
      },
      "execution_count": null,
      "outputs": [
        {
          "output_type": "stream",
          "name": "stdout",
          "text": [
            "Epoch 1/100\n",
            "2820/2820 [==============================] - 12s 4ms/step - loss: 0.3189 - accuracy: 0.9439 - val_loss: 0.1056 - val_accuracy: 0.9806\n",
            "Epoch 2/100\n",
            "2820/2820 [==============================] - 11s 4ms/step - loss: 0.0822 - accuracy: 0.9823 - val_loss: 0.0721 - val_accuracy: 0.9819\n",
            "Epoch 3/100\n",
            "2820/2820 [==============================] - 11s 4ms/step - loss: 0.0626 - accuracy: 0.9835 - val_loss: 0.0609 - val_accuracy: 0.9826\n",
            "Epoch 4/100\n",
            "2820/2820 [==============================] - 9s 3ms/step - loss: 0.0527 - accuracy: 0.9844 - val_loss: 0.0525 - val_accuracy: 0.9839\n",
            "Epoch 5/100\n",
            "2820/2820 [==============================] - 8s 3ms/step - loss: 0.0434 - accuracy: 0.9858 - val_loss: 0.0441 - val_accuracy: 0.9857\n",
            "Epoch 6/100\n",
            "2820/2820 [==============================] - 11s 4ms/step - loss: 0.0370 - accuracy: 0.9876 - val_loss: 0.0401 - val_accuracy: 0.9887\n",
            "Epoch 7/100\n",
            "2820/2820 [==============================] - 9s 3ms/step - loss: 0.0341 - accuracy: 0.9903 - val_loss: 0.0387 - val_accuracy: 0.9904\n",
            "Epoch 8/100\n",
            "2820/2820 [==============================] - 10s 3ms/step - loss: 0.0325 - accuracy: 0.9913 - val_loss: 0.0371 - val_accuracy: 0.9908\n",
            "Epoch 9/100\n",
            "2820/2820 [==============================] - 9s 3ms/step - loss: 0.0313 - accuracy: 0.9918 - val_loss: 0.0366 - val_accuracy: 0.9908\n",
            "Epoch 10/100\n",
            "2820/2820 [==============================] - 9s 3ms/step - loss: 0.0305 - accuracy: 0.9921 - val_loss: 0.0349 - val_accuracy: 0.9909\n",
            "Epoch 11/100\n",
            "2820/2820 [==============================] - 9s 3ms/step - loss: 0.0299 - accuracy: 0.9922 - val_loss: 0.0339 - val_accuracy: 0.9910\n",
            "Epoch 12/100\n",
            "2820/2820 [==============================] - 10s 3ms/step - loss: 0.0293 - accuracy: 0.9924 - val_loss: 0.0334 - val_accuracy: 0.9916\n",
            "Epoch 13/100\n",
            "2820/2820 [==============================] - 10s 3ms/step - loss: 0.0289 - accuracy: 0.9925 - val_loss: 0.0329 - val_accuracy: 0.9917\n",
            "Epoch 14/100\n",
            "2820/2820 [==============================] - 9s 3ms/step - loss: 0.0286 - accuracy: 0.9926 - val_loss: 0.0325 - val_accuracy: 0.9915\n",
            "Epoch 15/100\n",
            "2820/2820 [==============================] - 9s 3ms/step - loss: 0.0284 - accuracy: 0.9927 - val_loss: 0.0323 - val_accuracy: 0.9918\n",
            "Epoch 16/100\n",
            "2820/2820 [==============================] - 10s 3ms/step - loss: 0.0282 - accuracy: 0.9927 - val_loss: 0.0321 - val_accuracy: 0.9917\n",
            "Epoch 17/100\n",
            "2820/2820 [==============================] - 10s 4ms/step - loss: 0.0281 - accuracy: 0.9927 - val_loss: 0.0319 - val_accuracy: 0.9918\n",
            "Epoch 18/100\n",
            "2820/2820 [==============================] - 12s 4ms/step - loss: 0.0280 - accuracy: 0.9928 - val_loss: 0.0321 - val_accuracy: 0.9918\n",
            "Epoch 19/100\n",
            "2820/2820 [==============================] - 10s 4ms/step - loss: 0.0278 - accuracy: 0.9928 - val_loss: 0.0320 - val_accuracy: 0.9916\n",
            "Epoch 20/100\n",
            "2820/2820 [==============================] - 10s 3ms/step - loss: 0.0278 - accuracy: 0.9929 - val_loss: 0.0326 - val_accuracy: 0.9917\n",
            "Epoch 21/100\n",
            "2820/2820 [==============================] - 10s 3ms/step - loss: 0.0277 - accuracy: 0.9929 - val_loss: 0.0316 - val_accuracy: 0.9918\n",
            "Epoch 22/100\n",
            "2820/2820 [==============================] - 10s 4ms/step - loss: 0.0276 - accuracy: 0.9928 - val_loss: 0.0316 - val_accuracy: 0.9917\n",
            "Epoch 23/100\n",
            "2820/2820 [==============================] - 11s 4ms/step - loss: 0.0275 - accuracy: 0.9928 - val_loss: 0.0312 - val_accuracy: 0.9918\n",
            "Epoch 24/100\n",
            "2820/2820 [==============================] - 14s 5ms/step - loss: 0.0275 - accuracy: 0.9929 - val_loss: 0.0312 - val_accuracy: 0.9915\n",
            "Epoch 25/100\n",
            "2820/2820 [==============================] - 12s 4ms/step - loss: 0.0274 - accuracy: 0.9929 - val_loss: 0.0310 - val_accuracy: 0.9918\n",
            "Epoch 26/100\n",
            "2820/2820 [==============================] - 13s 5ms/step - loss: 0.0274 - accuracy: 0.9928 - val_loss: 0.0307 - val_accuracy: 0.9918\n",
            "Epoch 27/100\n",
            "2820/2820 [==============================] - 11s 4ms/step - loss: 0.0273 - accuracy: 0.9930 - val_loss: 0.0313 - val_accuracy: 0.9918\n",
            "Epoch 28/100\n",
            "2820/2820 [==============================] - 11s 4ms/step - loss: 0.0272 - accuracy: 0.9928 - val_loss: 0.0314 - val_accuracy: 0.9917\n",
            "Epoch 29/100\n",
            "2820/2820 [==============================] - 10s 4ms/step - loss: 0.0271 - accuracy: 0.9928 - val_loss: 0.0303 - val_accuracy: 0.9918\n",
            "Epoch 30/100\n",
            "2820/2820 [==============================] - 10s 3ms/step - loss: 0.0271 - accuracy: 0.9929 - val_loss: 0.0310 - val_accuracy: 0.9918\n",
            "Epoch 31/100\n",
            "2820/2820 [==============================] - 12s 4ms/step - loss: 0.0271 - accuracy: 0.9929 - val_loss: 0.0304 - val_accuracy: 0.9921\n",
            "Epoch 32/100\n",
            "2820/2820 [==============================] - 12s 4ms/step - loss: 0.0270 - accuracy: 0.9930 - val_loss: 0.0305 - val_accuracy: 0.9921\n",
            "Epoch 33/100\n",
            "2820/2820 [==============================] - 13s 4ms/step - loss: 0.0269 - accuracy: 0.9930 - val_loss: 0.0301 - val_accuracy: 0.9922\n",
            "Epoch 34/100\n",
            "2820/2820 [==============================] - 14s 5ms/step - loss: 0.0268 - accuracy: 0.9929 - val_loss: 0.0307 - val_accuracy: 0.9919\n",
            "Epoch 35/100\n",
            "2820/2820 [==============================] - 12s 4ms/step - loss: 0.0268 - accuracy: 0.9929 - val_loss: 0.0300 - val_accuracy: 0.9921\n",
            "Epoch 36/100\n",
            "2820/2820 [==============================] - 14s 5ms/step - loss: 0.0268 - accuracy: 0.9930 - val_loss: 0.0298 - val_accuracy: 0.9922\n",
            "Epoch 37/100\n",
            "2820/2820 [==============================] - 9s 3ms/step - loss: 0.0267 - accuracy: 0.9930 - val_loss: 0.0300 - val_accuracy: 0.9918\n",
            "Epoch 38/100\n",
            "2820/2820 [==============================] - 10s 3ms/step - loss: 0.0267 - accuracy: 0.9930 - val_loss: 0.0298 - val_accuracy: 0.9921\n",
            "Epoch 39/100\n",
            "2820/2820 [==============================] - 9s 3ms/step - loss: 0.0266 - accuracy: 0.9930 - val_loss: 0.0302 - val_accuracy: 0.9918\n",
            "Epoch 40/100\n",
            "2820/2820 [==============================] - 11s 4ms/step - loss: 0.0267 - accuracy: 0.9929 - val_loss: 0.0300 - val_accuracy: 0.9920\n",
            "Epoch 41/100\n",
            "2820/2820 [==============================] - 10s 3ms/step - loss: 0.0267 - accuracy: 0.9930 - val_loss: 0.0302 - val_accuracy: 0.9919\n",
            "Epoch 42/100\n",
            "2820/2820 [==============================] - 10s 4ms/step - loss: 0.0266 - accuracy: 0.9929 - val_loss: 0.0303 - val_accuracy: 0.9922\n",
            "Epoch 43/100\n",
            "2820/2820 [==============================] - 10s 4ms/step - loss: 0.0267 - accuracy: 0.9930 - val_loss: 0.0298 - val_accuracy: 0.9920\n",
            "Epoch 44/100\n",
            "2820/2820 [==============================] - 9s 3ms/step - loss: 0.0267 - accuracy: 0.9929 - val_loss: 0.0301 - val_accuracy: 0.9922\n",
            "Epoch 45/100\n",
            "2820/2820 [==============================] - 11s 4ms/step - loss: 0.0265 - accuracy: 0.9930 - val_loss: 0.0306 - val_accuracy: 0.9916\n",
            "Epoch 46/100\n",
            "2820/2820 [==============================] - 15s 5ms/step - loss: 0.0266 - accuracy: 0.9929 - val_loss: 0.0299 - val_accuracy: 0.9920\n",
            "Epoch 47/100\n",
            "2820/2820 [==============================] - 15s 5ms/step - loss: 0.0266 - accuracy: 0.9929 - val_loss: 0.0296 - val_accuracy: 0.9922\n",
            "Epoch 48/100\n",
            "2820/2820 [==============================] - 11s 4ms/step - loss: 0.0266 - accuracy: 0.9929 - val_loss: 0.0299 - val_accuracy: 0.9921\n",
            "Epoch 49/100\n",
            "2820/2820 [==============================] - 10s 4ms/step - loss: 0.0265 - accuracy: 0.9929 - val_loss: 0.0297 - val_accuracy: 0.9922\n",
            "Epoch 50/100\n",
            "2820/2820 [==============================] - 10s 3ms/step - loss: 0.0265 - accuracy: 0.9930 - val_loss: 0.0297 - val_accuracy: 0.9921\n",
            "Epoch 51/100\n",
            "2820/2820 [==============================] - 10s 4ms/step - loss: 0.0265 - accuracy: 0.9929 - val_loss: 0.0303 - val_accuracy: 0.9921\n",
            "Epoch 52/100\n",
            "2820/2820 [==============================] - 10s 3ms/step - loss: 0.0264 - accuracy: 0.9929 - val_loss: 0.0296 - val_accuracy: 0.9922\n",
            "Epoch 53/100\n",
            "2820/2820 [==============================] - 12s 4ms/step - loss: 0.0265 - accuracy: 0.9928 - val_loss: 0.0297 - val_accuracy: 0.9920\n",
            "Epoch 54/100\n",
            "2820/2820 [==============================] - 11s 4ms/step - loss: 0.0265 - accuracy: 0.9928 - val_loss: 0.0302 - val_accuracy: 0.9920\n",
            "Epoch 55/100\n",
            "2820/2820 [==============================] - 13s 5ms/step - loss: 0.0265 - accuracy: 0.9930 - val_loss: 0.0299 - val_accuracy: 0.9920\n",
            "Epoch 56/100\n",
            "2820/2820 [==============================] - 13s 5ms/step - loss: 0.0265 - accuracy: 0.9929 - val_loss: 0.0296 - val_accuracy: 0.9920\n",
            "Epoch 57/100\n",
            "2820/2820 [==============================] - 12s 4ms/step - loss: 0.0264 - accuracy: 0.9928 - val_loss: 0.0310 - val_accuracy: 0.9919\n",
            "Epoch 58/100\n",
            "2820/2820 [==============================] - 15s 5ms/step - loss: 0.0264 - accuracy: 0.9929 - val_loss: 0.0294 - val_accuracy: 0.9922\n",
            "Epoch 59/100\n",
            "2820/2820 [==============================] - 13s 4ms/step - loss: 0.0263 - accuracy: 0.9929 - val_loss: 0.0295 - val_accuracy: 0.9922\n",
            "Epoch 60/100\n",
            "2820/2820 [==============================] - 11s 4ms/step - loss: 0.0262 - accuracy: 0.9929 - val_loss: 0.0296 - val_accuracy: 0.9921\n",
            "Epoch 61/100\n",
            "2820/2820 [==============================] - 15s 5ms/step - loss: 0.0262 - accuracy: 0.9929 - val_loss: 0.0299 - val_accuracy: 0.9919\n",
            "Epoch 62/100\n",
            "2820/2820 [==============================] - 12s 4ms/step - loss: 0.0262 - accuracy: 0.9930 - val_loss: 0.0297 - val_accuracy: 0.9921\n",
            "Epoch 63/100\n",
            "2820/2820 [==============================] - 11s 4ms/step - loss: 0.0261 - accuracy: 0.9929 - val_loss: 0.0293 - val_accuracy: 0.9920\n",
            "Epoch 64/100\n",
            "2820/2820 [==============================] - 12s 4ms/step - loss: 0.0262 - accuracy: 0.9929 - val_loss: 0.0295 - val_accuracy: 0.9921\n",
            "Epoch 65/100\n",
            "2820/2820 [==============================] - 10s 3ms/step - loss: 0.0260 - accuracy: 0.9930 - val_loss: 0.0299 - val_accuracy: 0.9919\n",
            "Epoch 66/100\n",
            "2820/2820 [==============================] - 11s 4ms/step - loss: 0.0260 - accuracy: 0.9930 - val_loss: 0.0290 - val_accuracy: 0.9921\n",
            "Epoch 67/100\n",
            "2820/2820 [==============================] - 11s 4ms/step - loss: 0.0260 - accuracy: 0.9930 - val_loss: 0.0293 - val_accuracy: 0.9921\n",
            "Epoch 68/100\n",
            "2820/2820 [==============================] - 10s 3ms/step - loss: 0.0259 - accuracy: 0.9930 - val_loss: 0.0289 - val_accuracy: 0.9922\n",
            "Epoch 69/100\n",
            "2820/2820 [==============================] - 9s 3ms/step - loss: 0.0259 - accuracy: 0.9929 - val_loss: 0.0304 - val_accuracy: 0.9920\n",
            "Epoch 70/100\n",
            "2820/2820 [==============================] - 10s 4ms/step - loss: 0.0260 - accuracy: 0.9930 - val_loss: 0.0292 - val_accuracy: 0.9918\n",
            "Epoch 71/100\n",
            "2820/2820 [==============================] - 11s 4ms/step - loss: 0.0259 - accuracy: 0.9930 - val_loss: 0.0290 - val_accuracy: 0.9921\n",
            "Epoch 72/100\n",
            "2820/2820 [==============================] - 10s 4ms/step - loss: 0.0258 - accuracy: 0.9930 - val_loss: 0.0295 - val_accuracy: 0.9921\n",
            "Epoch 73/100\n",
            "2820/2820 [==============================] - 10s 4ms/step - loss: 0.0259 - accuracy: 0.9929 - val_loss: 0.0289 - val_accuracy: 0.9921\n",
            "Epoch 74/100\n",
            "2820/2820 [==============================] - 9s 3ms/step - loss: 0.0258 - accuracy: 0.9929 - val_loss: 0.0288 - val_accuracy: 0.9922\n",
            "Epoch 75/100\n",
            "2820/2820 [==============================] - 10s 3ms/step - loss: 0.0257 - accuracy: 0.9930 - val_loss: 0.0288 - val_accuracy: 0.9922\n",
            "Epoch 76/100\n",
            "2820/2820 [==============================] - 10s 3ms/step - loss: 0.0258 - accuracy: 0.9929 - val_loss: 0.0292 - val_accuracy: 0.9920\n",
            "Epoch 77/100\n",
            "2820/2820 [==============================] - 9s 3ms/step - loss: 0.0257 - accuracy: 0.9930 - val_loss: 0.0292 - val_accuracy: 0.9920\n",
            "Epoch 78/100\n",
            "2820/2820 [==============================] - 10s 4ms/step - loss: 0.0257 - accuracy: 0.9929 - val_loss: 0.0288 - val_accuracy: 0.9921\n",
            "Epoch 79/100\n",
            "2820/2820 [==============================] - 11s 4ms/step - loss: 0.0258 - accuracy: 0.9930 - val_loss: 0.0289 - val_accuracy: 0.9921\n",
            "Epoch 80/100\n",
            "2820/2820 [==============================] - 11s 4ms/step - loss: 0.0257 - accuracy: 0.9929 - val_loss: 0.0295 - val_accuracy: 0.9921\n",
            "Epoch 81/100\n",
            "2820/2820 [==============================] - 10s 3ms/step - loss: 0.0257 - accuracy: 0.9931 - val_loss: 0.0297 - val_accuracy: 0.9918\n",
            "Epoch 82/100\n",
            "2820/2820 [==============================] - 9s 3ms/step - loss: 0.0257 - accuracy: 0.9929 - val_loss: 0.0287 - val_accuracy: 0.9921\n",
            "Epoch 83/100\n",
            "2820/2820 [==============================] - 11s 4ms/step - loss: 0.0257 - accuracy: 0.9930 - val_loss: 0.0287 - val_accuracy: 0.9922\n",
            "Epoch 84/100\n",
            "2820/2820 [==============================] - 10s 3ms/step - loss: 0.0256 - accuracy: 0.9929 - val_loss: 0.0291 - val_accuracy: 0.9919\n",
            "Epoch 85/100\n",
            "2820/2820 [==============================] - 10s 3ms/step - loss: 0.0256 - accuracy: 0.9930 - val_loss: 0.0289 - val_accuracy: 0.9919\n",
            "Epoch 86/100\n",
            "2820/2820 [==============================] - 10s 3ms/step - loss: 0.0256 - accuracy: 0.9930 - val_loss: 0.0294 - val_accuracy: 0.9920\n",
            "Epoch 87/100\n",
            "2820/2820 [==============================] - 9s 3ms/step - loss: 0.0256 - accuracy: 0.9931 - val_loss: 0.0286 - val_accuracy: 0.9922\n",
            "Epoch 88/100\n",
            "2820/2820 [==============================] - 11s 4ms/step - loss: 0.0255 - accuracy: 0.9931 - val_loss: 0.0289 - val_accuracy: 0.9919\n",
            "Epoch 89/100\n",
            "2820/2820 [==============================] - 11s 4ms/step - loss: 0.0256 - accuracy: 0.9930 - val_loss: 0.0287 - val_accuracy: 0.9922\n",
            "Epoch 90/100\n",
            "2820/2820 [==============================] - 10s 4ms/step - loss: 0.0255 - accuracy: 0.9929 - val_loss: 0.0287 - val_accuracy: 0.9921\n",
            "Epoch 91/100\n",
            "2820/2820 [==============================] - 10s 4ms/step - loss: 0.0255 - accuracy: 0.9930 - val_loss: 0.0286 - val_accuracy: 0.9922\n",
            "Epoch 92/100\n",
            "2820/2820 [==============================] - 10s 4ms/step - loss: 0.0255 - accuracy: 0.9930 - val_loss: 0.0287 - val_accuracy: 0.9921\n",
            "Epoch 93/100\n",
            "2820/2820 [==============================] - 11s 4ms/step - loss: 0.0255 - accuracy: 0.9928 - val_loss: 0.0287 - val_accuracy: 0.9920\n",
            "Epoch 94/100\n",
            "2820/2820 [==============================] - 10s 3ms/step - loss: 0.0255 - accuracy: 0.9929 - val_loss: 0.0291 - val_accuracy: 0.9920\n",
            "Epoch 95/100\n",
            "2820/2820 [==============================] - 10s 3ms/step - loss: 0.0255 - accuracy: 0.9930 - val_loss: 0.0293 - val_accuracy: 0.9921\n",
            "Epoch 96/100\n",
            "2820/2820 [==============================] - 9s 3ms/step - loss: 0.0254 - accuracy: 0.9929 - val_loss: 0.0291 - val_accuracy: 0.9922\n",
            "Epoch 97/100\n",
            "2820/2820 [==============================] - 11s 4ms/step - loss: 0.0254 - accuracy: 0.9930 - val_loss: 0.0288 - val_accuracy: 0.9919\n",
            "Epoch 98/100\n",
            "2820/2820 [==============================] - 11s 4ms/step - loss: 0.0255 - accuracy: 0.9930 - val_loss: 0.0288 - val_accuracy: 0.9920\n",
            "Epoch 99/100\n",
            "2820/2820 [==============================] - 9s 3ms/step - loss: 0.0254 - accuracy: 0.9930 - val_loss: 0.0288 - val_accuracy: 0.9923\n",
            "Epoch 100/100\n",
            "2820/2820 [==============================] - 9s 3ms/step - loss: 0.0254 - accuracy: 0.9930 - val_loss: 0.0291 - val_accuracy: 0.9920\n",
            "940/940 [==============================] - 2s 3ms/step - loss: 0.0291 - accuracy: 0.9920\n",
            "Accuracy: 0.9920212626457214\n",
            "\n",
            "Loss: 0.02911405637860298\n"
          ]
        }
      ]
    },
    {
      "cell_type": "markdown",
      "source": [
        "### Red Neuronal - Capa intermedia entre entrada y salida"
      ],
      "metadata": {
        "id": "gKwXlwTI93tw"
      }
    },
    {
      "cell_type": "code",
      "source": [
        "ann_2 = Sequential()\n",
        "ann_2.add(Dense(16, input_shape=(x_train.shape[1],),activation='relu'))\n",
        "ann_2.add(Dense(4 ,activation='relu'))\n",
        "#output layer with softmax function\n",
        "ann_2.add(Dense(5,activation='softmax'))\n",
        "\n",
        "#compile model\n",
        "ann_2.compile(optimizer='adam', loss='sparse_categorical_crossentropy',metrics=['accuracy'])"
      ],
      "metadata": {
        "id": "1FCUMISO9_2X"
      },
      "execution_count": null,
      "outputs": []
    },
    {
      "cell_type": "code",
      "source": [
        "history= ann_2.fit(x_train,y_train, validation_data=(x_val,y_val),epochs=100, batch_size=32)\n",
        "loss, accuracy= ann_2.evaluate(x_val,y_val)\n",
        "print('Accuracy:', accuracy)\n",
        "print('\\nLoss:',loss)"
      ],
      "metadata": {
        "colab": {
          "base_uri": "https://localhost:8080/"
        },
        "id": "1npshcpP-hTu",
        "outputId": "a07e43d5-7ada-4286-b270-28a1c4ebb8ee"
      },
      "execution_count": null,
      "outputs": [
        {
          "output_type": "stream",
          "name": "stdout",
          "text": [
            "Epoch 1/100\n",
            "2820/2820 [==============================] - 12s 4ms/step - loss: 0.1932 - accuracy: 0.9629 - val_loss: 0.0429 - val_accuracy: 0.9906\n",
            "Epoch 2/100\n",
            "2820/2820 [==============================] - 10s 4ms/step - loss: 0.0326 - accuracy: 0.9921 - val_loss: 0.0336 - val_accuracy: 0.9910\n",
            "Epoch 3/100\n",
            "2820/2820 [==============================] - 10s 4ms/step - loss: 0.0280 - accuracy: 0.9926 - val_loss: 0.0324 - val_accuracy: 0.9908\n",
            "Epoch 4/100\n",
            "2820/2820 [==============================] - 11s 4ms/step - loss: 0.0265 - accuracy: 0.9927 - val_loss: 0.0312 - val_accuracy: 0.9907\n",
            "Epoch 5/100\n",
            "2820/2820 [==============================] - 9s 3ms/step - loss: 0.0252 - accuracy: 0.9928 - val_loss: 0.0284 - val_accuracy: 0.9917\n",
            "Epoch 6/100\n",
            "2820/2820 [==============================] - 10s 4ms/step - loss: 0.0245 - accuracy: 0.9928 - val_loss: 0.0278 - val_accuracy: 0.9913\n",
            "Epoch 7/100\n",
            "2820/2820 [==============================] - 11s 4ms/step - loss: 0.0235 - accuracy: 0.9932 - val_loss: 0.0280 - val_accuracy: 0.9919\n",
            "Epoch 8/100\n",
            "2820/2820 [==============================] - 11s 4ms/step - loss: 0.0227 - accuracy: 0.9931 - val_loss: 0.0248 - val_accuracy: 0.9926\n",
            "Epoch 9/100\n",
            "2820/2820 [==============================] - 10s 4ms/step - loss: 0.0219 - accuracy: 0.9932 - val_loss: 0.0245 - val_accuracy: 0.9922\n",
            "Epoch 10/100\n",
            "2820/2820 [==============================] - 10s 4ms/step - loss: 0.0211 - accuracy: 0.9933 - val_loss: 0.0230 - val_accuracy: 0.9925\n",
            "Epoch 11/100\n",
            "2820/2820 [==============================] - 10s 3ms/step - loss: 0.0204 - accuracy: 0.9937 - val_loss: 0.0235 - val_accuracy: 0.9931\n",
            "Epoch 12/100\n",
            "2820/2820 [==============================] - 11s 4ms/step - loss: 0.0197 - accuracy: 0.9937 - val_loss: 0.0226 - val_accuracy: 0.9936\n",
            "Epoch 13/100\n",
            "2820/2820 [==============================] - 10s 4ms/step - loss: 0.0192 - accuracy: 0.9940 - val_loss: 0.0221 - val_accuracy: 0.9929\n",
            "Epoch 14/100\n",
            "2820/2820 [==============================] - 10s 4ms/step - loss: 0.0186 - accuracy: 0.9940 - val_loss: 0.0207 - val_accuracy: 0.9938\n",
            "Epoch 15/100\n",
            "2820/2820 [==============================] - 10s 3ms/step - loss: 0.0182 - accuracy: 0.9940 - val_loss: 0.0210 - val_accuracy: 0.9931\n",
            "Epoch 16/100\n",
            "2820/2820 [==============================] - 11s 4ms/step - loss: 0.0177 - accuracy: 0.9941 - val_loss: 0.0201 - val_accuracy: 0.9937\n",
            "Epoch 17/100\n",
            "2820/2820 [==============================] - 10s 4ms/step - loss: 0.0174 - accuracy: 0.9943 - val_loss: 0.0213 - val_accuracy: 0.9924\n",
            "Epoch 18/100\n",
            "2820/2820 [==============================] - 11s 4ms/step - loss: 0.0172 - accuracy: 0.9943 - val_loss: 0.0203 - val_accuracy: 0.9939\n",
            "Epoch 19/100\n",
            "2820/2820 [==============================] - 10s 4ms/step - loss: 0.0168 - accuracy: 0.9946 - val_loss: 0.0210 - val_accuracy: 0.9934\n",
            "Epoch 20/100\n",
            "2820/2820 [==============================] - 11s 4ms/step - loss: 0.0163 - accuracy: 0.9946 - val_loss: 0.0200 - val_accuracy: 0.9938\n",
            "Epoch 21/100\n",
            "2820/2820 [==============================] - 11s 4ms/step - loss: 0.0162 - accuracy: 0.9948 - val_loss: 0.0195 - val_accuracy: 0.9937\n",
            "Epoch 22/100\n",
            "2820/2820 [==============================] - 10s 3ms/step - loss: 0.0162 - accuracy: 0.9946 - val_loss: 0.0189 - val_accuracy: 0.9938\n",
            "Epoch 23/100\n",
            "2820/2820 [==============================] - 10s 4ms/step - loss: 0.0159 - accuracy: 0.9948 - val_loss: 0.0179 - val_accuracy: 0.9943\n",
            "Epoch 24/100\n",
            "2820/2820 [==============================] - 10s 4ms/step - loss: 0.0159 - accuracy: 0.9946 - val_loss: 0.0182 - val_accuracy: 0.9944\n",
            "Epoch 25/100\n",
            "2820/2820 [==============================] - 11s 4ms/step - loss: 0.0157 - accuracy: 0.9949 - val_loss: 0.0184 - val_accuracy: 0.9941\n",
            "Epoch 26/100\n",
            "2820/2820 [==============================] - 11s 4ms/step - loss: 0.0155 - accuracy: 0.9950 - val_loss: 0.0180 - val_accuracy: 0.9941\n",
            "Epoch 27/100\n",
            "2820/2820 [==============================] - 10s 4ms/step - loss: 0.0155 - accuracy: 0.9949 - val_loss: 0.0189 - val_accuracy: 0.9938\n",
            "Epoch 28/100\n",
            "2820/2820 [==============================] - 11s 4ms/step - loss: 0.0153 - accuracy: 0.9950 - val_loss: 0.0173 - val_accuracy: 0.9943\n",
            "Epoch 29/100\n",
            "2820/2820 [==============================] - 10s 4ms/step - loss: 0.0151 - accuracy: 0.9951 - val_loss: 0.0176 - val_accuracy: 0.9944\n",
            "Epoch 30/100\n",
            "2820/2820 [==============================] - 12s 4ms/step - loss: 0.0148 - accuracy: 0.9951 - val_loss: 0.0179 - val_accuracy: 0.9942\n",
            "Epoch 31/100\n",
            "2820/2820 [==============================] - 12s 4ms/step - loss: 0.0148 - accuracy: 0.9950 - val_loss: 0.0171 - val_accuracy: 0.9947\n",
            "Epoch 32/100\n",
            "2820/2820 [==============================] - 10s 4ms/step - loss: 0.0145 - accuracy: 0.9951 - val_loss: 0.0194 - val_accuracy: 0.9939\n",
            "Epoch 33/100\n",
            "2820/2820 [==============================] - 11s 4ms/step - loss: 0.0146 - accuracy: 0.9951 - val_loss: 0.0185 - val_accuracy: 0.9936\n",
            "Epoch 34/100\n",
            "2820/2820 [==============================] - 10s 4ms/step - loss: 0.0144 - accuracy: 0.9953 - val_loss: 0.0187 - val_accuracy: 0.9943\n",
            "Epoch 35/100\n",
            "2820/2820 [==============================] - 11s 4ms/step - loss: 0.0142 - accuracy: 0.9954 - val_loss: 0.0184 - val_accuracy: 0.9936\n",
            "Epoch 36/100\n",
            "2820/2820 [==============================] - 12s 4ms/step - loss: 0.0139 - accuracy: 0.9953 - val_loss: 0.0165 - val_accuracy: 0.9945\n",
            "Epoch 37/100\n",
            "2820/2820 [==============================] - 10s 4ms/step - loss: 0.0139 - accuracy: 0.9953 - val_loss: 0.0164 - val_accuracy: 0.9946\n",
            "Epoch 38/100\n",
            "2820/2820 [==============================] - 10s 4ms/step - loss: 0.0138 - accuracy: 0.9953 - val_loss: 0.0166 - val_accuracy: 0.9944\n",
            "Epoch 39/100\n",
            "2820/2820 [==============================] - 10s 3ms/step - loss: 0.0139 - accuracy: 0.9954 - val_loss: 0.0174 - val_accuracy: 0.9946\n",
            "Epoch 40/100\n",
            "2820/2820 [==============================] - 10s 4ms/step - loss: 0.0137 - accuracy: 0.9953 - val_loss: 0.0200 - val_accuracy: 0.9930\n",
            "Epoch 41/100\n",
            "2820/2820 [==============================] - 10s 4ms/step - loss: 0.0135 - accuracy: 0.9955 - val_loss: 0.0164 - val_accuracy: 0.9947\n",
            "Epoch 42/100\n",
            "2820/2820 [==============================] - 11s 4ms/step - loss: 0.0136 - accuracy: 0.9952 - val_loss: 0.0161 - val_accuracy: 0.9951\n",
            "Epoch 43/100\n",
            "2820/2820 [==============================] - 11s 4ms/step - loss: 0.0136 - accuracy: 0.9952 - val_loss: 0.0160 - val_accuracy: 0.9947\n",
            "Epoch 44/100\n",
            "2820/2820 [==============================] - 9s 3ms/step - loss: 0.0133 - accuracy: 0.9954 - val_loss: 0.0159 - val_accuracy: 0.9943\n",
            "Epoch 45/100\n",
            "2820/2820 [==============================] - 11s 4ms/step - loss: 0.0133 - accuracy: 0.9956 - val_loss: 0.0155 - val_accuracy: 0.9949\n",
            "Epoch 46/100\n",
            "2820/2820 [==============================] - 12s 4ms/step - loss: 0.0134 - accuracy: 0.9957 - val_loss: 0.0163 - val_accuracy: 0.9949\n",
            "Epoch 47/100\n",
            "2820/2820 [==============================] - 10s 4ms/step - loss: 0.0132 - accuracy: 0.9955 - val_loss: 0.0159 - val_accuracy: 0.9948\n",
            "Epoch 48/100\n",
            "2820/2820 [==============================] - 10s 4ms/step - loss: 0.0133 - accuracy: 0.9956 - val_loss: 0.0152 - val_accuracy: 0.9950\n",
            "Epoch 49/100\n",
            "2820/2820 [==============================] - 11s 4ms/step - loss: 0.0132 - accuracy: 0.9955 - val_loss: 0.0162 - val_accuracy: 0.9947\n",
            "Epoch 50/100\n",
            "2820/2820 [==============================] - 11s 4ms/step - loss: 0.0131 - accuracy: 0.9953 - val_loss: 0.0155 - val_accuracy: 0.9950\n",
            "Epoch 51/100\n",
            "2820/2820 [==============================] - 11s 4ms/step - loss: 0.0130 - accuracy: 0.9956 - val_loss: 0.0155 - val_accuracy: 0.9950\n",
            "Epoch 52/100\n",
            "2820/2820 [==============================] - 10s 4ms/step - loss: 0.0128 - accuracy: 0.9958 - val_loss: 0.0158 - val_accuracy: 0.9950\n",
            "Epoch 53/100\n",
            "2820/2820 [==============================] - 12s 4ms/step - loss: 0.0130 - accuracy: 0.9956 - val_loss: 0.0165 - val_accuracy: 0.9951\n",
            "Epoch 54/100\n",
            "2820/2820 [==============================] - 11s 4ms/step - loss: 0.0129 - accuracy: 0.9957 - val_loss: 0.0166 - val_accuracy: 0.9950\n",
            "Epoch 55/100\n",
            "2820/2820 [==============================] - 10s 4ms/step - loss: 0.0130 - accuracy: 0.9957 - val_loss: 0.0150 - val_accuracy: 0.9954\n",
            "Epoch 56/100\n",
            "2820/2820 [==============================] - 10s 3ms/step - loss: 0.0127 - accuracy: 0.9958 - val_loss: 0.0160 - val_accuracy: 0.9950\n",
            "Epoch 57/100\n",
            "2820/2820 [==============================] - 10s 4ms/step - loss: 0.0127 - accuracy: 0.9959 - val_loss: 0.0164 - val_accuracy: 0.9946\n",
            "Epoch 58/100\n",
            "2820/2820 [==============================] - 11s 4ms/step - loss: 0.0127 - accuracy: 0.9959 - val_loss: 0.0158 - val_accuracy: 0.9950\n",
            "Epoch 59/100\n",
            "2820/2820 [==============================] - 12s 4ms/step - loss: 0.0127 - accuracy: 0.9958 - val_loss: 0.0152 - val_accuracy: 0.9955\n",
            "Epoch 60/100\n",
            "2820/2820 [==============================] - 12s 4ms/step - loss: 0.0128 - accuracy: 0.9958 - val_loss: 0.0152 - val_accuracy: 0.9950\n",
            "Epoch 61/100\n",
            "2820/2820 [==============================] - 10s 4ms/step - loss: 0.0126 - accuracy: 0.9959 - val_loss: 0.0151 - val_accuracy: 0.9952\n",
            "Epoch 62/100\n",
            "2820/2820 [==============================] - 10s 4ms/step - loss: 0.0128 - accuracy: 0.9957 - val_loss: 0.0160 - val_accuracy: 0.9952\n",
            "Epoch 63/100\n",
            "2820/2820 [==============================] - 11s 4ms/step - loss: 0.0126 - accuracy: 0.9958 - val_loss: 0.0153 - val_accuracy: 0.9951\n",
            "Epoch 64/100\n",
            "2820/2820 [==============================] - 10s 4ms/step - loss: 0.0126 - accuracy: 0.9959 - val_loss: 0.0152 - val_accuracy: 0.9955\n",
            "Epoch 65/100\n",
            "2820/2820 [==============================] - 10s 4ms/step - loss: 0.0124 - accuracy: 0.9960 - val_loss: 0.0144 - val_accuracy: 0.9959\n",
            "Epoch 66/100\n",
            "2820/2820 [==============================] - 11s 4ms/step - loss: 0.0123 - accuracy: 0.9960 - val_loss: 0.0146 - val_accuracy: 0.9953\n",
            "Epoch 67/100\n",
            "2820/2820 [==============================] - 11s 4ms/step - loss: 0.0125 - accuracy: 0.9959 - val_loss: 0.0154 - val_accuracy: 0.9952\n",
            "Epoch 68/100\n",
            "2820/2820 [==============================] - 11s 4ms/step - loss: 0.0124 - accuracy: 0.9959 - val_loss: 0.0163 - val_accuracy: 0.9944\n",
            "Epoch 69/100\n",
            "2820/2820 [==============================] - 11s 4ms/step - loss: 0.0124 - accuracy: 0.9960 - val_loss: 0.0150 - val_accuracy: 0.9950\n",
            "Epoch 70/100\n",
            "2820/2820 [==============================] - 12s 4ms/step - loss: 0.0122 - accuracy: 0.9959 - val_loss: 0.0142 - val_accuracy: 0.9957\n",
            "Epoch 71/100\n",
            "2820/2820 [==============================] - 10s 4ms/step - loss: 0.0123 - accuracy: 0.9960 - val_loss: 0.0149 - val_accuracy: 0.9951\n",
            "Epoch 72/100\n",
            "2820/2820 [==============================] - 12s 4ms/step - loss: 0.0123 - accuracy: 0.9961 - val_loss: 0.0147 - val_accuracy: 0.9955\n",
            "Epoch 73/100\n",
            "2820/2820 [==============================] - 12s 4ms/step - loss: 0.0119 - accuracy: 0.9962 - val_loss: 0.0155 - val_accuracy: 0.9947\n",
            "Epoch 74/100\n",
            "2820/2820 [==============================] - 11s 4ms/step - loss: 0.0122 - accuracy: 0.9961 - val_loss: 0.0170 - val_accuracy: 0.9945\n",
            "Epoch 75/100\n",
            "2820/2820 [==============================] - 11s 4ms/step - loss: 0.0122 - accuracy: 0.9960 - val_loss: 0.0154 - val_accuracy: 0.9950\n",
            "Epoch 76/100\n",
            "2820/2820 [==============================] - 11s 4ms/step - loss: 0.0120 - accuracy: 0.9960 - val_loss: 0.0184 - val_accuracy: 0.9949\n",
            "Epoch 77/100\n",
            "2820/2820 [==============================] - 10s 4ms/step - loss: 0.0121 - accuracy: 0.9961 - val_loss: 0.0145 - val_accuracy: 0.9954\n",
            "Epoch 78/100\n",
            "2820/2820 [==============================] - 10s 4ms/step - loss: 0.0120 - accuracy: 0.9962 - val_loss: 0.0149 - val_accuracy: 0.9952\n",
            "Epoch 79/100\n",
            "2820/2820 [==============================] - 12s 4ms/step - loss: 0.0116 - accuracy: 0.9962 - val_loss: 0.0157 - val_accuracy: 0.9953\n",
            "Epoch 80/100\n",
            "2820/2820 [==============================] - 13s 5ms/step - loss: 0.0120 - accuracy: 0.9962 - val_loss: 0.0138 - val_accuracy: 0.9958\n",
            "Epoch 81/100\n",
            "2820/2820 [==============================] - 11s 4ms/step - loss: 0.0118 - accuracy: 0.9961 - val_loss: 0.0158 - val_accuracy: 0.9947\n",
            "Epoch 82/100\n",
            "2820/2820 [==============================] - 11s 4ms/step - loss: 0.0118 - accuracy: 0.9962 - val_loss: 0.0161 - val_accuracy: 0.9945\n",
            "Epoch 83/100\n",
            "2820/2820 [==============================] - 10s 3ms/step - loss: 0.0116 - accuracy: 0.9963 - val_loss: 0.0168 - val_accuracy: 0.9948\n",
            "Epoch 84/100\n",
            "2820/2820 [==============================] - 10s 4ms/step - loss: 0.0118 - accuracy: 0.9962 - val_loss: 0.0142 - val_accuracy: 0.9953\n",
            "Epoch 85/100\n",
            "2820/2820 [==============================] - 12s 4ms/step - loss: 0.0116 - accuracy: 0.9962 - val_loss: 0.0147 - val_accuracy: 0.9955\n",
            "Epoch 86/100\n",
            "2820/2820 [==============================] - 12s 4ms/step - loss: 0.0116 - accuracy: 0.9962 - val_loss: 0.0160 - val_accuracy: 0.9944\n",
            "Epoch 87/100\n",
            "2820/2820 [==============================] - 13s 5ms/step - loss: 0.0116 - accuracy: 0.9962 - val_loss: 0.0142 - val_accuracy: 0.9958\n",
            "Epoch 88/100\n",
            "2820/2820 [==============================] - 16s 6ms/step - loss: 0.0114 - accuracy: 0.9963 - val_loss: 0.0159 - val_accuracy: 0.9946\n",
            "Epoch 89/100\n",
            "2820/2820 [==============================] - 14s 5ms/step - loss: 0.0114 - accuracy: 0.9964 - val_loss: 0.0152 - val_accuracy: 0.9953\n",
            "Epoch 90/100\n",
            "2820/2820 [==============================] - 12s 4ms/step - loss: 0.0115 - accuracy: 0.9961 - val_loss: 0.0134 - val_accuracy: 0.9961\n",
            "Epoch 91/100\n",
            "2820/2820 [==============================] - 12s 4ms/step - loss: 0.0115 - accuracy: 0.9961 - val_loss: 0.0145 - val_accuracy: 0.9952\n",
            "Epoch 92/100\n",
            "2820/2820 [==============================] - 12s 4ms/step - loss: 0.0115 - accuracy: 0.9964 - val_loss: 0.0146 - val_accuracy: 0.9952\n",
            "Epoch 93/100\n",
            "2820/2820 [==============================] - 11s 4ms/step - loss: 0.0114 - accuracy: 0.9961 - val_loss: 0.0149 - val_accuracy: 0.9954\n",
            "Epoch 94/100\n",
            "2820/2820 [==============================] - 11s 4ms/step - loss: 0.0114 - accuracy: 0.9964 - val_loss: 0.0145 - val_accuracy: 0.9960\n",
            "Epoch 95/100\n",
            "2820/2820 [==============================] - 10s 3ms/step - loss: 0.0114 - accuracy: 0.9963 - val_loss: 0.0154 - val_accuracy: 0.9947\n",
            "Epoch 96/100\n",
            "2820/2820 [==============================] - 12s 4ms/step - loss: 0.0112 - accuracy: 0.9963 - val_loss: 0.0143 - val_accuracy: 0.9955\n",
            "Epoch 97/100\n",
            "2820/2820 [==============================] - 11s 4ms/step - loss: 0.0113 - accuracy: 0.9964 - val_loss: 0.0142 - val_accuracy: 0.9953\n",
            "Epoch 98/100\n",
            "2820/2820 [==============================] - 11s 4ms/step - loss: 0.0111 - accuracy: 0.9964 - val_loss: 0.0142 - val_accuracy: 0.9957\n",
            "Epoch 99/100\n",
            "2820/2820 [==============================] - 13s 5ms/step - loss: 0.0111 - accuracy: 0.9963 - val_loss: 0.0143 - val_accuracy: 0.9953\n",
            "Epoch 100/100\n",
            "2820/2820 [==============================] - 12s 4ms/step - loss: 0.0112 - accuracy: 0.9963 - val_loss: 0.0140 - val_accuracy: 0.9959\n",
            "940/940 [==============================] - 2s 2ms/step - loss: 0.0140 - accuracy: 0.9959\n",
            "Accuracy: 0.9959108829498291\n",
            "\n",
            "Loss: 0.014049559831619263\n"
          ]
        }
      ]
    },
    {
      "cell_type": "markdown",
      "source": [
        "### Red Neuronal - 2 capas intermedia entre entrada y salida"
      ],
      "metadata": {
        "id": "D4weLxqO-6KW"
      }
    },
    {
      "cell_type": "code",
      "source": [
        "ann_3 = Sequential()\n",
        "ann_3.add(Dense(64, input_shape=(x_train.shape[1],),activation='relu'))\n",
        "ann_3.add(Dense(16 ,activation='relu'))\n",
        "ann_3.add(Dense(4 ,activation='relu'))\n",
        "#output layer with softmax function\n",
        "ann_3.add(Dense(5,activation='softmax'))\n",
        "\n",
        "#compile model\n",
        "ann_3.compile(optimizer='adam', loss='sparse_categorical_crossentropy',metrics=['accuracy'])"
      ],
      "metadata": {
        "id": "Ni3GSbUg-6KW"
      },
      "execution_count": null,
      "outputs": []
    },
    {
      "cell_type": "code",
      "source": [
        "history= ann_3.fit(x_train,y_train, validation_data=(x_val,y_val),epochs=100, batch_size=32)\n",
        "loss, accuracy= ann_3.evaluate(x_val,y_val)\n",
        "print('Accuracy:', accuracy)\n",
        "print('\\nLoss:',loss)"
      ],
      "metadata": {
        "colab": {
          "base_uri": "https://localhost:8080/"
        },
        "id": "IBZ7mpS3-6KW",
        "outputId": "d1486bec-5790-48a5-962c-43f4d64a7af0"
      },
      "execution_count": null,
      "outputs": [
        {
          "output_type": "stream",
          "name": "stdout",
          "text": [
            "Epoch 1/100\n",
            "2820/2820 [==============================] - 13s 4ms/step - loss: 0.0953 - accuracy: 0.9715 - val_loss: 0.0372 - val_accuracy: 0.9901\n",
            "Epoch 2/100\n",
            "2820/2820 [==============================] - 12s 4ms/step - loss: 0.0296 - accuracy: 0.9918 - val_loss: 0.0304 - val_accuracy: 0.9914\n",
            "Epoch 3/100\n",
            "2820/2820 [==============================] - 11s 4ms/step - loss: 0.0262 - accuracy: 0.9922 - val_loss: 0.0262 - val_accuracy: 0.9916\n",
            "Epoch 4/100\n",
            "2820/2820 [==============================] - 11s 4ms/step - loss: 0.0240 - accuracy: 0.9926 - val_loss: 0.0266 - val_accuracy: 0.9907\n",
            "Epoch 5/100\n",
            "2820/2820 [==============================] - 12s 4ms/step - loss: 0.0227 - accuracy: 0.9928 - val_loss: 0.0245 - val_accuracy: 0.9911\n",
            "Epoch 6/100\n",
            "2820/2820 [==============================] - 12s 4ms/step - loss: 0.0213 - accuracy: 0.9933 - val_loss: 0.0223 - val_accuracy: 0.9925\n",
            "Epoch 7/100\n",
            "2820/2820 [==============================] - 12s 4ms/step - loss: 0.0193 - accuracy: 0.9934 - val_loss: 0.0280 - val_accuracy: 0.9903\n",
            "Epoch 8/100\n",
            "2820/2820 [==============================] - 11s 4ms/step - loss: 0.0179 - accuracy: 0.9939 - val_loss: 0.0181 - val_accuracy: 0.9941\n",
            "Epoch 9/100\n",
            "2820/2820 [==============================] - 11s 4ms/step - loss: 0.0164 - accuracy: 0.9944 - val_loss: 0.0166 - val_accuracy: 0.9944\n",
            "Epoch 10/100\n",
            "2820/2820 [==============================] - 11s 4ms/step - loss: 0.0152 - accuracy: 0.9949 - val_loss: 0.0170 - val_accuracy: 0.9943\n",
            "Epoch 11/100\n",
            "2820/2820 [==============================] - 13s 4ms/step - loss: 0.0149 - accuracy: 0.9948 - val_loss: 0.0160 - val_accuracy: 0.9950\n",
            "Epoch 12/100\n",
            "2820/2820 [==============================] - 11s 4ms/step - loss: 0.0143 - accuracy: 0.9952 - val_loss: 0.0173 - val_accuracy: 0.9943\n",
            "Epoch 13/100\n",
            "2820/2820 [==============================] - 12s 4ms/step - loss: 0.0139 - accuracy: 0.9952 - val_loss: 0.0146 - val_accuracy: 0.9950\n",
            "Epoch 14/100\n",
            "2820/2820 [==============================] - 12s 4ms/step - loss: 0.0139 - accuracy: 0.9952 - val_loss: 0.0161 - val_accuracy: 0.9948\n",
            "Epoch 15/100\n",
            "2820/2820 [==============================] - 12s 4ms/step - loss: 0.0133 - accuracy: 0.9953 - val_loss: 0.0139 - val_accuracy: 0.9954\n",
            "Epoch 16/100\n",
            "2820/2820 [==============================] - 12s 4ms/step - loss: 0.0132 - accuracy: 0.9955 - val_loss: 0.0234 - val_accuracy: 0.9923\n",
            "Epoch 17/100\n",
            "2820/2820 [==============================] - 12s 4ms/step - loss: 0.0133 - accuracy: 0.9955 - val_loss: 0.0141 - val_accuracy: 0.9952\n",
            "Epoch 18/100\n",
            "2820/2820 [==============================] - 12s 4ms/step - loss: 0.0131 - accuracy: 0.9954 - val_loss: 0.0182 - val_accuracy: 0.9944\n",
            "Epoch 19/100\n",
            "2820/2820 [==============================] - 11s 4ms/step - loss: 0.0130 - accuracy: 0.9955 - val_loss: 0.0133 - val_accuracy: 0.9953\n",
            "Epoch 20/100\n",
            "2820/2820 [==============================] - 10s 4ms/step - loss: 0.0126 - accuracy: 0.9956 - val_loss: 0.0162 - val_accuracy: 0.9949\n",
            "Epoch 21/100\n",
            "2820/2820 [==============================] - 11s 4ms/step - loss: 0.0122 - accuracy: 0.9960 - val_loss: 0.0144 - val_accuracy: 0.9954\n",
            "Epoch 22/100\n",
            "2820/2820 [==============================] - 13s 4ms/step - loss: 0.0124 - accuracy: 0.9959 - val_loss: 0.0142 - val_accuracy: 0.9954\n",
            "Epoch 23/100\n",
            "2820/2820 [==============================] - 13s 4ms/step - loss: 0.0121 - accuracy: 0.9958 - val_loss: 0.0155 - val_accuracy: 0.9949\n",
            "Epoch 24/100\n",
            "2820/2820 [==============================] - 11s 4ms/step - loss: 0.0119 - accuracy: 0.9960 - val_loss: 0.0122 - val_accuracy: 0.9956\n",
            "Epoch 25/100\n",
            "2820/2820 [==============================] - 13s 4ms/step - loss: 0.0118 - accuracy: 0.9961 - val_loss: 0.0132 - val_accuracy: 0.9955\n",
            "Epoch 26/100\n",
            "2820/2820 [==============================] - 11s 4ms/step - loss: 0.0121 - accuracy: 0.9958 - val_loss: 0.0128 - val_accuracy: 0.9956\n",
            "Epoch 27/100\n",
            "2820/2820 [==============================] - 13s 4ms/step - loss: 0.0114 - accuracy: 0.9963 - val_loss: 0.0131 - val_accuracy: 0.9957\n",
            "Epoch 28/100\n",
            "2820/2820 [==============================] - 13s 4ms/step - loss: 0.0125 - accuracy: 0.9959 - val_loss: 0.0135 - val_accuracy: 0.9955\n",
            "Epoch 29/100\n",
            "2820/2820 [==============================] - 11s 4ms/step - loss: 0.0114 - accuracy: 0.9964 - val_loss: 0.0141 - val_accuracy: 0.9957\n",
            "Epoch 30/100\n",
            "2820/2820 [==============================] - 12s 4ms/step - loss: 0.0118 - accuracy: 0.9960 - val_loss: 0.0139 - val_accuracy: 0.9958\n",
            "Epoch 31/100\n",
            "2820/2820 [==============================] - 12s 4ms/step - loss: 0.0116 - accuracy: 0.9960 - val_loss: 0.0144 - val_accuracy: 0.9953\n",
            "Epoch 32/100\n",
            "2820/2820 [==============================] - 12s 4ms/step - loss: 0.0111 - accuracy: 0.9964 - val_loss: 0.0140 - val_accuracy: 0.9948\n",
            "Epoch 33/100\n",
            "2820/2820 [==============================] - 12s 4ms/step - loss: 0.0114 - accuracy: 0.9960 - val_loss: 0.0140 - val_accuracy: 0.9952\n",
            "Epoch 34/100\n",
            "2820/2820 [==============================] - 11s 4ms/step - loss: 0.0112 - accuracy: 0.9961 - val_loss: 0.0150 - val_accuracy: 0.9949\n",
            "Epoch 35/100\n",
            "2820/2820 [==============================] - 11s 4ms/step - loss: 0.0111 - accuracy: 0.9962 - val_loss: 0.0131 - val_accuracy: 0.9954\n",
            "Epoch 36/100\n",
            "2820/2820 [==============================] - 13s 4ms/step - loss: 0.0110 - accuracy: 0.9963 - val_loss: 0.0116 - val_accuracy: 0.9963\n",
            "Epoch 37/100\n",
            "2820/2820 [==============================] - 12s 4ms/step - loss: 0.0113 - accuracy: 0.9963 - val_loss: 0.0123 - val_accuracy: 0.9959\n",
            "Epoch 38/100\n",
            "2820/2820 [==============================] - 11s 4ms/step - loss: 0.0109 - accuracy: 0.9963 - val_loss: 0.0119 - val_accuracy: 0.9964\n",
            "Epoch 39/100\n",
            "2820/2820 [==============================] - 12s 4ms/step - loss: 0.0110 - accuracy: 0.9963 - val_loss: 0.0130 - val_accuracy: 0.9958\n",
            "Epoch 40/100\n",
            "2820/2820 [==============================] - 11s 4ms/step - loss: 0.0110 - accuracy: 0.9962 - val_loss: 0.0134 - val_accuracy: 0.9951\n",
            "Epoch 41/100\n",
            "2820/2820 [==============================] - 12s 4ms/step - loss: 0.0107 - accuracy: 0.9965 - val_loss: 0.0134 - val_accuracy: 0.9955\n",
            "Epoch 42/100\n",
            "2820/2820 [==============================] - 12s 4ms/step - loss: 0.0107 - accuracy: 0.9963 - val_loss: 0.0141 - val_accuracy: 0.9953\n",
            "Epoch 43/100\n",
            "2820/2820 [==============================] - 11s 4ms/step - loss: 0.0105 - accuracy: 0.9965 - val_loss: 0.0132 - val_accuracy: 0.9954\n",
            "Epoch 44/100\n",
            "2820/2820 [==============================] - 12s 4ms/step - loss: 0.0106 - accuracy: 0.9965 - val_loss: 0.0126 - val_accuracy: 0.9957\n",
            "Epoch 45/100\n",
            "2820/2820 [==============================] - 11s 4ms/step - loss: 0.0105 - accuracy: 0.9964 - val_loss: 0.0141 - val_accuracy: 0.9951\n",
            "Epoch 46/100\n",
            "2820/2820 [==============================] - 12s 4ms/step - loss: 0.0107 - accuracy: 0.9965 - val_loss: 0.0139 - val_accuracy: 0.9955\n",
            "Epoch 47/100\n",
            "2820/2820 [==============================] - 11s 4ms/step - loss: 0.0108 - accuracy: 0.9964 - val_loss: 0.0126 - val_accuracy: 0.9959\n",
            "Epoch 48/100\n",
            "2820/2820 [==============================] - 12s 4ms/step - loss: 0.0104 - accuracy: 0.9965 - val_loss: 0.0161 - val_accuracy: 0.9949\n",
            "Epoch 49/100\n",
            "2820/2820 [==============================] - 11s 4ms/step - loss: 0.0107 - accuracy: 0.9964 - val_loss: 0.0113 - val_accuracy: 0.9964\n",
            "Epoch 50/100\n",
            "2820/2820 [==============================] - 13s 4ms/step - loss: 0.0104 - accuracy: 0.9966 - val_loss: 0.0137 - val_accuracy: 0.9952\n",
            "Epoch 51/100\n",
            "2820/2820 [==============================] - 11s 4ms/step - loss: 0.0105 - accuracy: 0.9964 - val_loss: 0.0118 - val_accuracy: 0.9961\n",
            "Epoch 52/100\n",
            "2820/2820 [==============================] - 13s 4ms/step - loss: 0.0099 - accuracy: 0.9966 - val_loss: 0.0116 - val_accuracy: 0.9959\n",
            "Epoch 53/100\n",
            "2820/2820 [==============================] - 13s 4ms/step - loss: 0.0105 - accuracy: 0.9964 - val_loss: 0.0114 - val_accuracy: 0.9963\n",
            "Epoch 54/100\n",
            "2820/2820 [==============================] - 11s 4ms/step - loss: 0.0106 - accuracy: 0.9965 - val_loss: 0.0122 - val_accuracy: 0.9958\n",
            "Epoch 55/100\n",
            "2820/2820 [==============================] - 12s 4ms/step - loss: 0.0104 - accuracy: 0.9966 - val_loss: 0.0119 - val_accuracy: 0.9961\n",
            "Epoch 56/100\n",
            "2820/2820 [==============================] - 11s 4ms/step - loss: 0.0104 - accuracy: 0.9965 - val_loss: 0.0112 - val_accuracy: 0.9965\n",
            "Epoch 57/100\n",
            "2820/2820 [==============================] - 11s 4ms/step - loss: 0.0099 - accuracy: 0.9967 - val_loss: 0.0119 - val_accuracy: 0.9961\n",
            "Epoch 58/100\n",
            "2820/2820 [==============================] - 13s 4ms/step - loss: 0.0099 - accuracy: 0.9966 - val_loss: 0.0119 - val_accuracy: 0.9964\n",
            "Epoch 59/100\n",
            "2820/2820 [==============================] - 11s 4ms/step - loss: 0.0103 - accuracy: 0.9967 - val_loss: 0.0138 - val_accuracy: 0.9953\n",
            "Epoch 60/100\n",
            "2820/2820 [==============================] - 11s 4ms/step - loss: 0.0098 - accuracy: 0.9966 - val_loss: 0.0139 - val_accuracy: 0.9957\n",
            "Epoch 61/100\n",
            "2820/2820 [==============================] - 11s 4ms/step - loss: 0.0099 - accuracy: 0.9967 - val_loss: 0.0132 - val_accuracy: 0.9957\n",
            "Epoch 62/100\n",
            "2820/2820 [==============================] - 11s 4ms/step - loss: 0.0101 - accuracy: 0.9966 - val_loss: 0.0125 - val_accuracy: 0.9965\n",
            "Epoch 63/100\n",
            "2820/2820 [==============================] - 12s 4ms/step - loss: 0.0099 - accuracy: 0.9966 - val_loss: 0.0120 - val_accuracy: 0.9963\n",
            "Epoch 64/100\n",
            "2820/2820 [==============================] - 11s 4ms/step - loss: 0.0101 - accuracy: 0.9965 - val_loss: 0.0125 - val_accuracy: 0.9956\n",
            "Epoch 65/100\n",
            "2820/2820 [==============================] - 12s 4ms/step - loss: 0.0099 - accuracy: 0.9966 - val_loss: 0.0111 - val_accuracy: 0.9965\n",
            "Epoch 66/100\n",
            "2820/2820 [==============================] - 11s 4ms/step - loss: 0.0098 - accuracy: 0.9968 - val_loss: 0.0125 - val_accuracy: 0.9957\n",
            "Epoch 67/100\n",
            "2820/2820 [==============================] - 12s 4ms/step - loss: 0.0099 - accuracy: 0.9966 - val_loss: 0.0120 - val_accuracy: 0.9964\n",
            "Epoch 68/100\n",
            "2820/2820 [==============================] - 13s 5ms/step - loss: 0.0100 - accuracy: 0.9966 - val_loss: 0.0137 - val_accuracy: 0.9955\n",
            "Epoch 69/100\n",
            "2820/2820 [==============================] - 12s 4ms/step - loss: 0.0100 - accuracy: 0.9967 - val_loss: 0.0109 - val_accuracy: 0.9965\n",
            "Epoch 70/100\n",
            "2820/2820 [==============================] - 12s 4ms/step - loss: 0.0098 - accuracy: 0.9967 - val_loss: 0.0112 - val_accuracy: 0.9964\n",
            "Epoch 71/100\n",
            "2820/2820 [==============================] - 13s 5ms/step - loss: 0.0095 - accuracy: 0.9967 - val_loss: 0.0114 - val_accuracy: 0.9965\n",
            "Epoch 72/100\n",
            "2820/2820 [==============================] - 13s 5ms/step - loss: 0.0097 - accuracy: 0.9968 - val_loss: 0.0136 - val_accuracy: 0.9961\n",
            "Epoch 73/100\n",
            "2820/2820 [==============================] - 12s 4ms/step - loss: 0.0096 - accuracy: 0.9968 - val_loss: 0.0128 - val_accuracy: 0.9955\n",
            "Epoch 74/100\n",
            "2820/2820 [==============================] - 13s 5ms/step - loss: 0.0095 - accuracy: 0.9968 - val_loss: 0.0153 - val_accuracy: 0.9949\n",
            "Epoch 75/100\n",
            "2820/2820 [==============================] - 12s 4ms/step - loss: 0.0095 - accuracy: 0.9967 - val_loss: 0.0146 - val_accuracy: 0.9951\n",
            "Epoch 76/100\n",
            "2820/2820 [==============================] - 13s 4ms/step - loss: 0.0091 - accuracy: 0.9970 - val_loss: 0.0116 - val_accuracy: 0.9962\n",
            "Epoch 77/100\n",
            "2820/2820 [==============================] - 12s 4ms/step - loss: 0.0094 - accuracy: 0.9968 - val_loss: 0.0113 - val_accuracy: 0.9966\n",
            "Epoch 78/100\n",
            "2820/2820 [==============================] - 12s 4ms/step - loss: 0.0094 - accuracy: 0.9968 - val_loss: 0.0116 - val_accuracy: 0.9967\n",
            "Epoch 79/100\n",
            "2820/2820 [==============================] - 12s 4ms/step - loss: 0.0093 - accuracy: 0.9970 - val_loss: 0.0112 - val_accuracy: 0.9963\n",
            "Epoch 80/100\n",
            "2820/2820 [==============================] - 11s 4ms/step - loss: 0.0094 - accuracy: 0.9970 - val_loss: 0.0109 - val_accuracy: 0.9965\n",
            "Epoch 81/100\n",
            "2820/2820 [==============================] - 11s 4ms/step - loss: 0.0094 - accuracy: 0.9967 - val_loss: 0.0119 - val_accuracy: 0.9962\n",
            "Epoch 82/100\n",
            "2820/2820 [==============================] - 13s 5ms/step - loss: 0.0093 - accuracy: 0.9967 - val_loss: 0.0111 - val_accuracy: 0.9967\n",
            "Epoch 83/100\n",
            "2820/2820 [==============================] - 12s 4ms/step - loss: 0.0096 - accuracy: 0.9969 - val_loss: 0.0154 - val_accuracy: 0.9951\n",
            "Epoch 84/100\n",
            "2820/2820 [==============================] - 13s 5ms/step - loss: 0.0093 - accuracy: 0.9969 - val_loss: 0.0110 - val_accuracy: 0.9963\n",
            "Epoch 85/100\n",
            "2820/2820 [==============================] - 13s 4ms/step - loss: 0.0094 - accuracy: 0.9968 - val_loss: 0.0101 - val_accuracy: 0.9969\n",
            "Epoch 86/100\n",
            "2820/2820 [==============================] - 12s 4ms/step - loss: 0.0092 - accuracy: 0.9969 - val_loss: 0.0110 - val_accuracy: 0.9969\n",
            "Epoch 87/100\n",
            "2820/2820 [==============================] - 13s 4ms/step - loss: 0.0094 - accuracy: 0.9968 - val_loss: 0.0107 - val_accuracy: 0.9967\n",
            "Epoch 88/100\n",
            "2820/2820 [==============================] - 13s 5ms/step - loss: 0.0094 - accuracy: 0.9968 - val_loss: 0.0146 - val_accuracy: 0.9947\n",
            "Epoch 89/100\n",
            "2820/2820 [==============================] - 12s 4ms/step - loss: 0.0090 - accuracy: 0.9970 - val_loss: 0.0149 - val_accuracy: 0.9950\n",
            "Epoch 90/100\n",
            "2820/2820 [==============================] - 13s 5ms/step - loss: 0.0090 - accuracy: 0.9970 - val_loss: 0.0113 - val_accuracy: 0.9963\n",
            "Epoch 91/100\n",
            "2820/2820 [==============================] - 13s 5ms/step - loss: 0.0092 - accuracy: 0.9970 - val_loss: 0.0110 - val_accuracy: 0.9965\n",
            "Epoch 92/100\n",
            "2820/2820 [==============================] - 13s 4ms/step - loss: 0.0090 - accuracy: 0.9971 - val_loss: 0.0119 - val_accuracy: 0.9960\n",
            "Epoch 93/100\n",
            "2820/2820 [==============================] - 12s 4ms/step - loss: 0.0091 - accuracy: 0.9969 - val_loss: 0.0115 - val_accuracy: 0.9963\n",
            "Epoch 94/100\n",
            "2820/2820 [==============================] - 12s 4ms/step - loss: 0.0092 - accuracy: 0.9968 - val_loss: 0.0112 - val_accuracy: 0.9967\n",
            "Epoch 95/100\n",
            "2820/2820 [==============================] - 11s 4ms/step - loss: 0.0092 - accuracy: 0.9969 - val_loss: 0.0113 - val_accuracy: 0.9965\n",
            "Epoch 96/100\n",
            "2820/2820 [==============================] - 11s 4ms/step - loss: 0.0089 - accuracy: 0.9970 - val_loss: 0.0118 - val_accuracy: 0.9961\n",
            "Epoch 97/100\n",
            "2820/2820 [==============================] - 12s 4ms/step - loss: 0.0089 - accuracy: 0.9971 - val_loss: 0.0129 - val_accuracy: 0.9954\n",
            "Epoch 98/100\n",
            "2820/2820 [==============================] - 12s 4ms/step - loss: 0.0088 - accuracy: 0.9970 - val_loss: 0.0110 - val_accuracy: 0.9967\n",
            "Epoch 99/100\n",
            "2820/2820 [==============================] - 13s 5ms/step - loss: 0.0090 - accuracy: 0.9970 - val_loss: 0.0118 - val_accuracy: 0.9965\n",
            "Epoch 100/100\n",
            "2820/2820 [==============================] - 12s 4ms/step - loss: 0.0089 - accuracy: 0.9968 - val_loss: 0.0110 - val_accuracy: 0.9966\n",
            "940/940 [==============================] - 2s 2ms/step - loss: 0.0110 - accuracy: 0.9966\n",
            "Accuracy: 0.9965757727622986\n",
            "\n",
            "Loss: 0.010955102741718292\n"
          ]
        }
      ]
    },
    {
      "cell_type": "markdown",
      "source": [
        "### Red Neuronal - 3 capas intermedia entre entrada y salida"
      ],
      "metadata": {
        "id": "fzKSrlyf_JVN"
      }
    },
    {
      "cell_type": "code",
      "source": [
        "ann_4 = Sequential()\n",
        "ann_4.add(Dense(256, input_shape=(x_train.shape[1],),activation='relu'))\n",
        "ann_4.add(Dense(64 ,activation='relu'))\n",
        "ann_4.add(Dense(16 ,activation='relu'))\n",
        "ann_4.add(Dense(4 ,activation='relu'))\n",
        "#output layer with softmax function\n",
        "ann_4.add(Dense(5,activation='softmax'))\n",
        "\n",
        "#compile model\n",
        "ann_4.compile(optimizer='adam', loss='sparse_categorical_crossentropy',metrics=['accuracy'])"
      ],
      "metadata": {
        "id": "BVw0K4OE_JVN"
      },
      "execution_count": null,
      "outputs": []
    },
    {
      "cell_type": "code",
      "source": [
        "history= ann_4.fit(x_train,y_train, validation_data=(x_val,y_val),epochs=100, batch_size=32)\n",
        "loss, accuracy= ann_4.evaluate(x_val,y_val)\n",
        "print('Accuracy:', accuracy)\n",
        "print('\\nLoss:',loss)"
      ],
      "metadata": {
        "colab": {
          "base_uri": "https://localhost:8080/"
        },
        "id": "qOin3-SW_JVN",
        "outputId": "85e60fd5-21d4-4252-96d2-fb0dbcba54bb"
      },
      "execution_count": null,
      "outputs": [
        {
          "output_type": "stream",
          "name": "stdout",
          "text": [
            "Epoch 1/100\n",
            "2820/2820 [==============================] - 14s 4ms/step - loss: 0.0640 - accuracy: 0.9852 - val_loss: 0.0350 - val_accuracy: 0.9908\n",
            "Epoch 2/100\n",
            "2820/2820 [==============================] - 12s 4ms/step - loss: 0.0284 - accuracy: 0.9916 - val_loss: 0.0300 - val_accuracy: 0.9912\n",
            "Epoch 3/100\n",
            "2820/2820 [==============================] - 12s 4ms/step - loss: 0.0254 - accuracy: 0.9925 - val_loss: 0.0264 - val_accuracy: 0.9915\n",
            "Epoch 4/100\n",
            "2820/2820 [==============================] - 12s 4ms/step - loss: 0.0227 - accuracy: 0.9925 - val_loss: 0.0232 - val_accuracy: 0.9918\n",
            "Epoch 5/100\n",
            "2820/2820 [==============================] - 12s 4ms/step - loss: 0.0204 - accuracy: 0.9930 - val_loss: 0.0244 - val_accuracy: 0.9915\n",
            "Epoch 6/100\n",
            "2820/2820 [==============================] - 12s 4ms/step - loss: 0.0189 - accuracy: 0.9933 - val_loss: 0.0227 - val_accuracy: 0.9922\n",
            "Epoch 7/100\n",
            "2820/2820 [==============================] - 13s 5ms/step - loss: 0.0173 - accuracy: 0.9940 - val_loss: 0.0185 - val_accuracy: 0.9937\n",
            "Epoch 8/100\n",
            "2820/2820 [==============================] - 13s 5ms/step - loss: 0.0168 - accuracy: 0.9943 - val_loss: 0.0181 - val_accuracy: 0.9935\n",
            "Epoch 9/100\n",
            "2820/2820 [==============================] - 12s 4ms/step - loss: 0.0157 - accuracy: 0.9944 - val_loss: 0.0218 - val_accuracy: 0.9923\n",
            "Epoch 10/100\n",
            "2820/2820 [==============================] - 12s 4ms/step - loss: 0.0155 - accuracy: 0.9944 - val_loss: 0.0173 - val_accuracy: 0.9938\n",
            "Epoch 11/100\n",
            "2820/2820 [==============================] - 12s 4ms/step - loss: 0.0146 - accuracy: 0.9951 - val_loss: 0.0156 - val_accuracy: 0.9950\n",
            "Epoch 12/100\n",
            "2820/2820 [==============================] - 12s 4ms/step - loss: 0.0143 - accuracy: 0.9951 - val_loss: 0.0148 - val_accuracy: 0.9946\n",
            "Epoch 13/100\n",
            "2820/2820 [==============================] - 12s 4ms/step - loss: 0.0143 - accuracy: 0.9950 - val_loss: 0.0145 - val_accuracy: 0.9953\n",
            "Epoch 14/100\n",
            "2820/2820 [==============================] - 12s 4ms/step - loss: 0.0143 - accuracy: 0.9951 - val_loss: 0.0167 - val_accuracy: 0.9939\n",
            "Epoch 15/100\n",
            "2820/2820 [==============================] - 12s 4ms/step - loss: 0.0134 - accuracy: 0.9952 - val_loss: 0.0144 - val_accuracy: 0.9945\n",
            "Epoch 16/100\n",
            "2820/2820 [==============================] - 12s 4ms/step - loss: 0.0129 - accuracy: 0.9956 - val_loss: 0.0156 - val_accuracy: 0.9952\n",
            "Epoch 17/100\n",
            "2820/2820 [==============================] - 13s 4ms/step - loss: 0.0131 - accuracy: 0.9954 - val_loss: 0.0168 - val_accuracy: 0.9945\n",
            "Epoch 18/100\n",
            "2820/2820 [==============================] - 13s 5ms/step - loss: 0.0131 - accuracy: 0.9956 - val_loss: 0.0169 - val_accuracy: 0.9941\n",
            "Epoch 19/100\n",
            "2820/2820 [==============================] - 13s 5ms/step - loss: 0.0121 - accuracy: 0.9961 - val_loss: 0.0165 - val_accuracy: 0.9947\n",
            "Epoch 20/100\n",
            "2820/2820 [==============================] - 13s 5ms/step - loss: 0.0125 - accuracy: 0.9959 - val_loss: 0.0163 - val_accuracy: 0.9944\n",
            "Epoch 21/100\n",
            "2820/2820 [==============================] - 12s 4ms/step - loss: 0.0123 - accuracy: 0.9959 - val_loss: 0.0164 - val_accuracy: 0.9943\n",
            "Epoch 22/100\n",
            "2820/2820 [==============================] - 13s 5ms/step - loss: 0.0119 - accuracy: 0.9961 - val_loss: 0.0155 - val_accuracy: 0.9945\n",
            "Epoch 23/100\n",
            "2820/2820 [==============================] - 13s 5ms/step - loss: 0.0115 - accuracy: 0.9961 - val_loss: 0.0142 - val_accuracy: 0.9951\n",
            "Epoch 24/100\n",
            "2820/2820 [==============================] - 13s 4ms/step - loss: 0.0121 - accuracy: 0.9960 - val_loss: 0.0162 - val_accuracy: 0.9944\n",
            "Epoch 25/100\n",
            "2820/2820 [==============================] - 12s 4ms/step - loss: 0.0119 - accuracy: 0.9961 - val_loss: 0.0121 - val_accuracy: 0.9963\n",
            "Epoch 26/100\n",
            "2820/2820 [==============================] - 13s 5ms/step - loss: 0.0115 - accuracy: 0.9961 - val_loss: 0.0135 - val_accuracy: 0.9953\n",
            "Epoch 27/100\n",
            "2820/2820 [==============================] - 13s 5ms/step - loss: 0.0114 - accuracy: 0.9962 - val_loss: 0.0139 - val_accuracy: 0.9954\n",
            "Epoch 28/100\n",
            "2820/2820 [==============================] - 12s 4ms/step - loss: 0.0120 - accuracy: 0.9959 - val_loss: 0.0196 - val_accuracy: 0.9943\n",
            "Epoch 29/100\n",
            "2820/2820 [==============================] - 12s 4ms/step - loss: 0.0112 - accuracy: 0.9962 - val_loss: 0.0163 - val_accuracy: 0.9950\n",
            "Epoch 30/100\n",
            "2820/2820 [==============================] - 12s 4ms/step - loss: 0.0115 - accuracy: 0.9960 - val_loss: 0.0143 - val_accuracy: 0.9956\n",
            "Epoch 31/100\n",
            "2820/2820 [==============================] - 13s 5ms/step - loss: 0.0106 - accuracy: 0.9965 - val_loss: 0.0128 - val_accuracy: 0.9963\n",
            "Epoch 32/100\n",
            "2820/2820 [==============================] - 12s 4ms/step - loss: 0.0108 - accuracy: 0.9963 - val_loss: 0.0177 - val_accuracy: 0.9942\n",
            "Epoch 33/100\n",
            "2820/2820 [==============================] - 13s 5ms/step - loss: 0.0113 - accuracy: 0.9963 - val_loss: 0.0122 - val_accuracy: 0.9962\n",
            "Epoch 34/100\n",
            "2820/2820 [==============================] - 12s 4ms/step - loss: 0.0108 - accuracy: 0.9963 - val_loss: 0.0129 - val_accuracy: 0.9958\n",
            "Epoch 35/100\n",
            "2820/2820 [==============================] - 13s 5ms/step - loss: 0.0107 - accuracy: 0.9964 - val_loss: 0.0124 - val_accuracy: 0.9959\n",
            "Epoch 36/100\n",
            "2820/2820 [==============================] - 12s 4ms/step - loss: 0.0110 - accuracy: 0.9963 - val_loss: 0.0118 - val_accuracy: 0.9960\n",
            "Epoch 37/100\n",
            "2820/2820 [==============================] - 12s 4ms/step - loss: 0.0104 - accuracy: 0.9966 - val_loss: 0.0148 - val_accuracy: 0.9952\n",
            "Epoch 38/100\n",
            "2820/2820 [==============================] - 13s 5ms/step - loss: 0.0105 - accuracy: 0.9965 - val_loss: 0.0170 - val_accuracy: 0.9951\n",
            "Epoch 39/100\n",
            "2820/2820 [==============================] - 13s 5ms/step - loss: 0.0109 - accuracy: 0.9963 - val_loss: 0.0134 - val_accuracy: 0.9956\n",
            "Epoch 40/100\n",
            "2820/2820 [==============================] - 13s 5ms/step - loss: 0.0106 - accuracy: 0.9964 - val_loss: 0.0186 - val_accuracy: 0.9941\n",
            "Epoch 41/100\n",
            "2820/2820 [==============================] - 13s 5ms/step - loss: 0.0107 - accuracy: 0.9964 - val_loss: 0.0133 - val_accuracy: 0.9961\n",
            "Epoch 42/100\n",
            "2820/2820 [==============================] - 12s 4ms/step - loss: 0.0109 - accuracy: 0.9964 - val_loss: 0.0149 - val_accuracy: 0.9952\n",
            "Epoch 43/100\n",
            "2820/2820 [==============================] - 12s 4ms/step - loss: 0.0106 - accuracy: 0.9965 - val_loss: 0.0127 - val_accuracy: 0.9961\n",
            "Epoch 44/100\n",
            "2820/2820 [==============================] - 12s 4ms/step - loss: 0.0103 - accuracy: 0.9965 - val_loss: 0.0142 - val_accuracy: 0.9949\n",
            "Epoch 45/100\n",
            "2820/2820 [==============================] - 12s 4ms/step - loss: 0.0097 - accuracy: 0.9967 - val_loss: 0.0135 - val_accuracy: 0.9957\n",
            "Epoch 46/100\n",
            "2820/2820 [==============================] - 12s 4ms/step - loss: 0.0105 - accuracy: 0.9963 - val_loss: 0.0125 - val_accuracy: 0.9961\n",
            "Epoch 47/100\n",
            "2820/2820 [==============================] - 13s 4ms/step - loss: 0.0095 - accuracy: 0.9968 - val_loss: 0.0124 - val_accuracy: 0.9960\n",
            "Epoch 48/100\n",
            "2820/2820 [==============================] - 13s 5ms/step - loss: 0.0102 - accuracy: 0.9966 - val_loss: 0.0142 - val_accuracy: 0.9951\n",
            "Epoch 49/100\n",
            "2820/2820 [==============================] - 12s 4ms/step - loss: 0.0101 - accuracy: 0.9966 - val_loss: 0.0133 - val_accuracy: 0.9960\n",
            "Epoch 50/100\n",
            "2820/2820 [==============================] - 14s 5ms/step - loss: 0.0105 - accuracy: 0.9966 - val_loss: 0.0138 - val_accuracy: 0.9957\n",
            "Epoch 51/100\n",
            "2820/2820 [==============================] - 12s 4ms/step - loss: 0.0099 - accuracy: 0.9967 - val_loss: 0.0120 - val_accuracy: 0.9964\n",
            "Epoch 52/100\n",
            "2820/2820 [==============================] - 14s 5ms/step - loss: 0.0101 - accuracy: 0.9965 - val_loss: 0.0139 - val_accuracy: 0.9952\n",
            "Epoch 53/100\n",
            "2820/2820 [==============================] - 13s 4ms/step - loss: 0.0097 - accuracy: 0.9966 - val_loss: 0.0152 - val_accuracy: 0.9957\n",
            "Epoch 54/100\n",
            "2820/2820 [==============================] - 13s 4ms/step - loss: 0.0097 - accuracy: 0.9967 - val_loss: 0.0125 - val_accuracy: 0.9960\n",
            "Epoch 55/100\n",
            "2820/2820 [==============================] - 13s 4ms/step - loss: 0.0100 - accuracy: 0.9968 - val_loss: 0.0143 - val_accuracy: 0.9955\n",
            "Epoch 56/100\n",
            "2820/2820 [==============================] - 12s 4ms/step - loss: 0.0098 - accuracy: 0.9965 - val_loss: 0.0121 - val_accuracy: 0.9961\n",
            "Epoch 57/100\n",
            "2820/2820 [==============================] - 13s 4ms/step - loss: 0.0100 - accuracy: 0.9966 - val_loss: 0.0127 - val_accuracy: 0.9961\n",
            "Epoch 58/100\n",
            "2820/2820 [==============================] - 12s 4ms/step - loss: 0.0101 - accuracy: 0.9967 - val_loss: 0.0143 - val_accuracy: 0.9959\n",
            "Epoch 59/100\n",
            "2820/2820 [==============================] - 12s 4ms/step - loss: 0.0095 - accuracy: 0.9967 - val_loss: 0.0130 - val_accuracy: 0.9961\n",
            "Epoch 60/100\n",
            "2820/2820 [==============================] - 12s 4ms/step - loss: 0.0100 - accuracy: 0.9967 - val_loss: 0.0132 - val_accuracy: 0.9961\n",
            "Epoch 61/100\n",
            "2820/2820 [==============================] - 13s 5ms/step - loss: 0.0095 - accuracy: 0.9969 - val_loss: 0.0133 - val_accuracy: 0.9964\n",
            "Epoch 62/100\n",
            "2820/2820 [==============================] - 13s 5ms/step - loss: 0.0099 - accuracy: 0.9966 - val_loss: 0.0187 - val_accuracy: 0.9947\n",
            "Epoch 63/100\n",
            "2820/2820 [==============================] - 14s 5ms/step - loss: 0.0098 - accuracy: 0.9967 - val_loss: 0.0186 - val_accuracy: 0.9943\n",
            "Epoch 64/100\n",
            "2820/2820 [==============================] - 12s 4ms/step - loss: 0.0098 - accuracy: 0.9968 - val_loss: 0.0134 - val_accuracy: 0.9963\n",
            "Epoch 65/100\n",
            "2820/2820 [==============================] - 12s 4ms/step - loss: 0.0095 - accuracy: 0.9967 - val_loss: 0.0146 - val_accuracy: 0.9960\n",
            "Epoch 66/100\n",
            "2820/2820 [==============================] - 12s 4ms/step - loss: 0.0096 - accuracy: 0.9971 - val_loss: 0.0133 - val_accuracy: 0.9962\n",
            "Epoch 67/100\n",
            "2820/2820 [==============================] - 12s 4ms/step - loss: 0.0096 - accuracy: 0.9970 - val_loss: 0.0132 - val_accuracy: 0.9963\n",
            "Epoch 68/100\n",
            "2820/2820 [==============================] - 13s 5ms/step - loss: 0.0096 - accuracy: 0.9967 - val_loss: 0.0132 - val_accuracy: 0.9959\n",
            "Epoch 69/100\n",
            "2820/2820 [==============================] - 12s 4ms/step - loss: 0.0092 - accuracy: 0.9969 - val_loss: 0.0177 - val_accuracy: 0.9948\n",
            "Epoch 70/100\n",
            "2820/2820 [==============================] - 12s 4ms/step - loss: 0.0095 - accuracy: 0.9968 - val_loss: 0.0155 - val_accuracy: 0.9954\n",
            "Epoch 71/100\n",
            "2820/2820 [==============================] - 13s 5ms/step - loss: 0.0094 - accuracy: 0.9968 - val_loss: 0.0137 - val_accuracy: 0.9963\n",
            "Epoch 72/100\n",
            "2820/2820 [==============================] - 13s 5ms/step - loss: 0.0093 - accuracy: 0.9969 - val_loss: 0.0143 - val_accuracy: 0.9961\n",
            "Epoch 73/100\n",
            "2820/2820 [==============================] - 12s 4ms/step - loss: 0.0094 - accuracy: 0.9967 - val_loss: 0.0157 - val_accuracy: 0.9954\n",
            "Epoch 74/100\n",
            "2820/2820 [==============================] - 12s 4ms/step - loss: 0.0095 - accuracy: 0.9968 - val_loss: 0.0146 - val_accuracy: 0.9958\n",
            "Epoch 75/100\n",
            "2820/2820 [==============================] - 12s 4ms/step - loss: 0.0101 - accuracy: 0.9969 - val_loss: 0.0136 - val_accuracy: 0.9965\n",
            "Epoch 76/100\n",
            "2820/2820 [==============================] - 13s 4ms/step - loss: 0.0089 - accuracy: 0.9970 - val_loss: 0.0143 - val_accuracy: 0.9962\n",
            "Epoch 77/100\n",
            "2820/2820 [==============================] - 12s 4ms/step - loss: 0.0099 - accuracy: 0.9969 - val_loss: 0.0163 - val_accuracy: 0.9957\n",
            "Epoch 78/100\n",
            "2820/2820 [==============================] - 12s 4ms/step - loss: 0.0090 - accuracy: 0.9970 - val_loss: 0.0141 - val_accuracy: 0.9965\n",
            "Epoch 79/100\n",
            "2820/2820 [==============================] - 12s 4ms/step - loss: 0.0092 - accuracy: 0.9969 - val_loss: 0.0135 - val_accuracy: 0.9962\n",
            "Epoch 80/100\n",
            "2820/2820 [==============================] - 12s 4ms/step - loss: 0.0091 - accuracy: 0.9970 - val_loss: 0.0135 - val_accuracy: 0.9965\n",
            "Epoch 81/100\n",
            "2820/2820 [==============================] - 13s 5ms/step - loss: 0.0089 - accuracy: 0.9970 - val_loss: 0.0148 - val_accuracy: 0.9962\n",
            "Epoch 82/100\n",
            "2820/2820 [==============================] - 12s 4ms/step - loss: 0.0090 - accuracy: 0.9970 - val_loss: 0.0138 - val_accuracy: 0.9966\n",
            "Epoch 83/100\n",
            "2820/2820 [==============================] - 12s 4ms/step - loss: 0.0093 - accuracy: 0.9970 - val_loss: 0.0138 - val_accuracy: 0.9965\n",
            "Epoch 84/100\n",
            "2820/2820 [==============================] - 13s 5ms/step - loss: 0.0091 - accuracy: 0.9970 - val_loss: 0.0147 - val_accuracy: 0.9960\n",
            "Epoch 85/100\n",
            "2820/2820 [==============================] - 12s 4ms/step - loss: 0.0088 - accuracy: 0.9972 - val_loss: 0.0145 - val_accuracy: 0.9962\n",
            "Epoch 86/100\n",
            "2820/2820 [==============================] - 13s 5ms/step - loss: 0.0093 - accuracy: 0.9970 - val_loss: 0.0133 - val_accuracy: 0.9968\n",
            "Epoch 87/100\n",
            "2820/2820 [==============================] - 13s 5ms/step - loss: 0.0085 - accuracy: 0.9971 - val_loss: 0.0165 - val_accuracy: 0.9956\n",
            "Epoch 88/100\n",
            "2820/2820 [==============================] - 14s 5ms/step - loss: 0.0094 - accuracy: 0.9971 - val_loss: 0.0132 - val_accuracy: 0.9964\n",
            "Epoch 89/100\n",
            "2820/2820 [==============================] - 12s 4ms/step - loss: 0.0086 - accuracy: 0.9971 - val_loss: 0.0133 - val_accuracy: 0.9962\n",
            "Epoch 90/100\n",
            "2820/2820 [==============================] - 12s 4ms/step - loss: 0.0091 - accuracy: 0.9971 - val_loss: 0.0177 - val_accuracy: 0.9957\n",
            "Epoch 91/100\n",
            "2820/2820 [==============================] - 12s 4ms/step - loss: 0.0088 - accuracy: 0.9971 - val_loss: 0.0148 - val_accuracy: 0.9960\n",
            "Epoch 92/100\n",
            "2820/2820 [==============================] - 13s 5ms/step - loss: 0.0092 - accuracy: 0.9972 - val_loss: 0.0150 - val_accuracy: 0.9960\n",
            "Epoch 93/100\n",
            "2820/2820 [==============================] - 13s 5ms/step - loss: 0.0086 - accuracy: 0.9973 - val_loss: 0.0135 - val_accuracy: 0.9965\n",
            "Epoch 94/100\n",
            "2820/2820 [==============================] - 12s 4ms/step - loss: 0.0088 - accuracy: 0.9970 - val_loss: 0.0150 - val_accuracy: 0.9961\n",
            "Epoch 95/100\n",
            "2820/2820 [==============================] - 13s 5ms/step - loss: 0.0086 - accuracy: 0.9972 - val_loss: 0.0133 - val_accuracy: 0.9964\n",
            "Epoch 96/100\n",
            "2820/2820 [==============================] - 13s 5ms/step - loss: 0.0088 - accuracy: 0.9970 - val_loss: 0.0121 - val_accuracy: 0.9968\n",
            "Epoch 97/100\n",
            "2820/2820 [==============================] - 12s 4ms/step - loss: 0.0087 - accuracy: 0.9971 - val_loss: 0.0149 - val_accuracy: 0.9964\n",
            "Epoch 98/100\n",
            "2820/2820 [==============================] - 13s 5ms/step - loss: 0.0086 - accuracy: 0.9971 - val_loss: 0.0134 - val_accuracy: 0.9958\n",
            "Epoch 99/100\n",
            "2820/2820 [==============================] - 13s 5ms/step - loss: 0.0086 - accuracy: 0.9971 - val_loss: 0.0136 - val_accuracy: 0.9970\n",
            "Epoch 100/100\n",
            "2820/2820 [==============================] - 13s 5ms/step - loss: 0.0088 - accuracy: 0.9975 - val_loss: 0.0144 - val_accuracy: 0.9963\n",
            "940/940 [==============================] - 2s 2ms/step - loss: 0.0144 - accuracy: 0.9963\n",
            "Accuracy: 0.9963430762290955\n",
            "\n",
            "Loss: 0.014356578700244427\n"
          ]
        }
      ]
    },
    {
      "cell_type": "markdown",
      "source": [
        "### Red Neuronal - 4 capas intermedia entre entrada y salida"
      ],
      "metadata": {
        "id": "rG4WcbnEErdC"
      }
    },
    {
      "cell_type": "code",
      "source": [
        "ann_5 = Sequential()\n",
        "ann_5.add(Dense(256, input_shape=(x_train.shape[1],),activation='relu'))\n",
        "ann_5.add(Dense(64 ,activation='relu'))\n",
        "ann_5.add(Dense(16 ,activation='relu'))\n",
        "ann_5.add(Dense(4 ,activation='relu'))\n",
        "ann_5.add(Dense(4 ,activation='relu'))\n",
        "#output layer with softmax function\n",
        "ann_5.add(Dense(5,activation='softmax'))\n",
        "\n",
        "#compile model\n",
        "ann_5.compile(optimizer='adam', loss='sparse_categorical_crossentropy',metrics=['accuracy'])"
      ],
      "metadata": {
        "id": "SxxtTmuRErdC"
      },
      "execution_count": null,
      "outputs": []
    },
    {
      "cell_type": "code",
      "source": [
        "history= ann_5.fit(x_train,y_train, validation_data=(x_val,y_val),epochs=100, batch_size=32)\n",
        "loss, accuracy= ann_5.evaluate(x_val,y_val)\n",
        "print('Accuracy:', accuracy)\n",
        "print('\\nLoss:',loss)"
      ],
      "metadata": {
        "colab": {
          "base_uri": "https://localhost:8080/"
        },
        "id": "5_oCBbX-ErdD",
        "outputId": "e7e1f5e4-175f-40f4-e6ae-f823d443eb9e"
      },
      "execution_count": null,
      "outputs": [
        {
          "output_type": "stream",
          "name": "stdout",
          "text": [
            "Epoch 1/100\n",
            "2820/2820 [==============================] - 16s 5ms/step - loss: 0.0838 - accuracy: 0.9689 - val_loss: 0.0348 - val_accuracy: 0.9907\n",
            "Epoch 2/100\n",
            "2820/2820 [==============================] - 13s 5ms/step - loss: 0.0306 - accuracy: 0.9916 - val_loss: 0.0315 - val_accuracy: 0.9913\n",
            "Epoch 3/100\n",
            "2820/2820 [==============================] - 14s 5ms/step - loss: 0.0267 - accuracy: 0.9923 - val_loss: 0.0292 - val_accuracy: 0.9912\n",
            "Epoch 4/100\n",
            "2820/2820 [==============================] - 13s 5ms/step - loss: 0.0240 - accuracy: 0.9925 - val_loss: 0.0240 - val_accuracy: 0.9920\n",
            "Epoch 5/100\n",
            "2820/2820 [==============================] - 13s 5ms/step - loss: 0.0210 - accuracy: 0.9932 - val_loss: 0.0275 - val_accuracy: 0.9901\n",
            "Epoch 6/100\n",
            "2820/2820 [==============================] - 14s 5ms/step - loss: 0.0191 - accuracy: 0.9936 - val_loss: 0.0203 - val_accuracy: 0.9930\n",
            "Epoch 7/100\n",
            "2820/2820 [==============================] - 14s 5ms/step - loss: 0.0178 - accuracy: 0.9943 - val_loss: 0.0180 - val_accuracy: 0.9934\n",
            "Epoch 8/100\n",
            "2820/2820 [==============================] - 13s 5ms/step - loss: 0.0169 - accuracy: 0.9946 - val_loss: 0.0189 - val_accuracy: 0.9937\n",
            "Epoch 9/100\n",
            "2820/2820 [==============================] - 14s 5ms/step - loss: 0.0166 - accuracy: 0.9944 - val_loss: 0.0174 - val_accuracy: 0.9945\n",
            "Epoch 10/100\n",
            "2820/2820 [==============================] - 13s 5ms/step - loss: 0.0162 - accuracy: 0.9949 - val_loss: 0.0159 - val_accuracy: 0.9946\n",
            "Epoch 11/100\n",
            "2820/2820 [==============================] - 13s 5ms/step - loss: 0.0153 - accuracy: 0.9949 - val_loss: 0.0184 - val_accuracy: 0.9940\n",
            "Epoch 12/100\n",
            "2820/2820 [==============================] - 14s 5ms/step - loss: 0.0155 - accuracy: 0.9950 - val_loss: 0.0149 - val_accuracy: 0.9958\n",
            "Epoch 13/100\n",
            "2820/2820 [==============================] - 13s 5ms/step - loss: 0.0147 - accuracy: 0.9953 - val_loss: 0.0204 - val_accuracy: 0.9935\n",
            "Epoch 14/100\n",
            "2820/2820 [==============================] - 14s 5ms/step - loss: 0.0144 - accuracy: 0.9952 - val_loss: 0.0205 - val_accuracy: 0.9931\n",
            "Epoch 15/100\n",
            "2820/2820 [==============================] - 13s 5ms/step - loss: 0.0151 - accuracy: 0.9949 - val_loss: 0.0266 - val_accuracy: 0.9870\n",
            "Epoch 16/100\n",
            "2820/2820 [==============================] - 13s 5ms/step - loss: 0.0194 - accuracy: 0.9932 - val_loss: 0.0199 - val_accuracy: 0.9940\n",
            "Epoch 17/100\n",
            "2820/2820 [==============================] - 13s 5ms/step - loss: 0.0153 - accuracy: 0.9949 - val_loss: 0.0168 - val_accuracy: 0.9944\n",
            "Epoch 18/100\n",
            "2820/2820 [==============================] - 13s 5ms/step - loss: 0.0139 - accuracy: 0.9954 - val_loss: 0.0221 - val_accuracy: 0.9939\n",
            "Epoch 19/100\n",
            "2820/2820 [==============================] - 13s 5ms/step - loss: 0.0141 - accuracy: 0.9956 - val_loss: 0.0173 - val_accuracy: 0.9945\n",
            "Epoch 20/100\n",
            "2820/2820 [==============================] - 14s 5ms/step - loss: 0.0131 - accuracy: 0.9957 - val_loss: 0.0153 - val_accuracy: 0.9951\n",
            "Epoch 21/100\n",
            "2820/2820 [==============================] - 13s 5ms/step - loss: 0.0132 - accuracy: 0.9957 - val_loss: 0.0157 - val_accuracy: 0.9948\n",
            "Epoch 22/100\n",
            "2820/2820 [==============================] - 14s 5ms/step - loss: 0.0128 - accuracy: 0.9955 - val_loss: 0.0147 - val_accuracy: 0.9953\n",
            "Epoch 23/100\n",
            "2820/2820 [==============================] - 14s 5ms/step - loss: 0.0130 - accuracy: 0.9958 - val_loss: 0.0265 - val_accuracy: 0.9927\n",
            "Epoch 24/100\n",
            "2820/2820 [==============================] - 13s 5ms/step - loss: 0.0126 - accuracy: 0.9960 - val_loss: 0.0138 - val_accuracy: 0.9960\n",
            "Epoch 25/100\n",
            "2820/2820 [==============================] - 13s 5ms/step - loss: 0.0124 - accuracy: 0.9960 - val_loss: 0.0126 - val_accuracy: 0.9959\n",
            "Epoch 26/100\n",
            "2820/2820 [==============================] - 13s 5ms/step - loss: 0.0124 - accuracy: 0.9959 - val_loss: 0.0139 - val_accuracy: 0.9956\n",
            "Epoch 27/100\n",
            "2820/2820 [==============================] - 14s 5ms/step - loss: 0.0127 - accuracy: 0.9958 - val_loss: 0.0141 - val_accuracy: 0.9959\n",
            "Epoch 28/100\n",
            "2820/2820 [==============================] - 14s 5ms/step - loss: 0.0122 - accuracy: 0.9960 - val_loss: 0.0130 - val_accuracy: 0.9959\n",
            "Epoch 29/100\n",
            "2820/2820 [==============================] - 14s 5ms/step - loss: 0.0118 - accuracy: 0.9961 - val_loss: 0.0130 - val_accuracy: 0.9961\n",
            "Epoch 30/100\n",
            "2820/2820 [==============================] - 14s 5ms/step - loss: 0.0120 - accuracy: 0.9962 - val_loss: 0.0128 - val_accuracy: 0.9957\n",
            "Epoch 31/100\n",
            "2820/2820 [==============================] - 14s 5ms/step - loss: 0.0119 - accuracy: 0.9961 - val_loss: 0.0146 - val_accuracy: 0.9951\n",
            "Epoch 32/100\n",
            "2820/2820 [==============================] - 14s 5ms/step - loss: 0.0120 - accuracy: 0.9959 - val_loss: 0.0137 - val_accuracy: 0.9961\n",
            "Epoch 33/100\n",
            "2820/2820 [==============================] - 13s 5ms/step - loss: 0.0116 - accuracy: 0.9961 - val_loss: 0.0145 - val_accuracy: 0.9954\n",
            "Epoch 34/100\n",
            "2820/2820 [==============================] - 13s 5ms/step - loss: 0.0112 - accuracy: 0.9964 - val_loss: 0.0165 - val_accuracy: 0.9950\n",
            "Epoch 35/100\n",
            "2820/2820 [==============================] - 14s 5ms/step - loss: 0.0116 - accuracy: 0.9962 - val_loss: 0.0131 - val_accuracy: 0.9956\n",
            "Epoch 36/100\n",
            "2820/2820 [==============================] - 14s 5ms/step - loss: 0.0112 - accuracy: 0.9963 - val_loss: 0.0177 - val_accuracy: 0.9939\n",
            "Epoch 37/100\n",
            "2820/2820 [==============================] - 13s 5ms/step - loss: 0.0113 - accuracy: 0.9963 - val_loss: 0.0129 - val_accuracy: 0.9959\n",
            "Epoch 38/100\n",
            "2820/2820 [==============================] - 13s 5ms/step - loss: 0.0112 - accuracy: 0.9965 - val_loss: 0.0142 - val_accuracy: 0.9957\n",
            "Epoch 39/100\n",
            "2820/2820 [==============================] - 13s 5ms/step - loss: 0.0111 - accuracy: 0.9963 - val_loss: 0.0134 - val_accuracy: 0.9956\n",
            "Epoch 40/100\n",
            "2820/2820 [==============================] - 13s 5ms/step - loss: 0.0110 - accuracy: 0.9963 - val_loss: 0.0162 - val_accuracy: 0.9950\n",
            "Epoch 41/100\n",
            "2820/2820 [==============================] - 13s 5ms/step - loss: 0.0114 - accuracy: 0.9963 - val_loss: 0.0150 - val_accuracy: 0.9953\n",
            "Epoch 42/100\n",
            "2820/2820 [==============================] - 13s 5ms/step - loss: 0.0111 - accuracy: 0.9962 - val_loss: 0.0129 - val_accuracy: 0.9961\n",
            "Epoch 43/100\n",
            "2820/2820 [==============================] - 13s 5ms/step - loss: 0.0109 - accuracy: 0.9964 - val_loss: 0.0145 - val_accuracy: 0.9951\n",
            "Epoch 44/100\n",
            "2820/2820 [==============================] - 14s 5ms/step - loss: 0.0111 - accuracy: 0.9965 - val_loss: 0.0136 - val_accuracy: 0.9957\n",
            "Epoch 45/100\n",
            "2820/2820 [==============================] - 14s 5ms/step - loss: 0.0105 - accuracy: 0.9964 - val_loss: 0.0135 - val_accuracy: 0.9957\n",
            "Epoch 46/100\n",
            "2820/2820 [==============================] - 13s 5ms/step - loss: 0.0109 - accuracy: 0.9963 - val_loss: 0.0166 - val_accuracy: 0.9946\n",
            "Epoch 47/100\n",
            "2820/2820 [==============================] - 14s 5ms/step - loss: 0.0108 - accuracy: 0.9965 - val_loss: 0.0146 - val_accuracy: 0.9957\n",
            "Epoch 48/100\n",
            "2820/2820 [==============================] - 13s 5ms/step - loss: 0.0106 - accuracy: 0.9963 - val_loss: 0.0130 - val_accuracy: 0.9961\n",
            "Epoch 49/100\n",
            "2820/2820 [==============================] - 14s 5ms/step - loss: 0.0105 - accuracy: 0.9967 - val_loss: 0.0134 - val_accuracy: 0.9958\n",
            "Epoch 50/100\n",
            "2820/2820 [==============================] - 13s 5ms/step - loss: 0.0106 - accuracy: 0.9965 - val_loss: 0.0149 - val_accuracy: 0.9961\n",
            "Epoch 51/100\n",
            "2820/2820 [==============================] - 13s 5ms/step - loss: 0.0106 - accuracy: 0.9966 - val_loss: 0.0151 - val_accuracy: 0.9949\n",
            "Epoch 52/100\n",
            "2820/2820 [==============================] - 14s 5ms/step - loss: 0.0106 - accuracy: 0.9964 - val_loss: 0.0125 - val_accuracy: 0.9965\n",
            "Epoch 53/100\n",
            "2820/2820 [==============================] - 14s 5ms/step - loss: 0.0108 - accuracy: 0.9963 - val_loss: 0.0136 - val_accuracy: 0.9960\n",
            "Epoch 54/100\n",
            "2820/2820 [==============================] - 14s 5ms/step - loss: 0.0103 - accuracy: 0.9968 - val_loss: 0.0115 - val_accuracy: 0.9966\n",
            "Epoch 55/100\n",
            "2820/2820 [==============================] - 14s 5ms/step - loss: 0.0105 - accuracy: 0.9966 - val_loss: 0.0139 - val_accuracy: 0.9958\n",
            "Epoch 56/100\n",
            "2820/2820 [==============================] - 14s 5ms/step - loss: 0.0106 - accuracy: 0.9966 - val_loss: 0.0135 - val_accuracy: 0.9957\n",
            "Epoch 57/100\n",
            "2820/2820 [==============================] - 14s 5ms/step - loss: 0.0103 - accuracy: 0.9967 - val_loss: 0.0131 - val_accuracy: 0.9960\n",
            "Epoch 58/100\n",
            "2820/2820 [==============================] - 14s 5ms/step - loss: 0.0100 - accuracy: 0.9968 - val_loss: 0.0119 - val_accuracy: 0.9967\n",
            "Epoch 59/100\n",
            "2820/2820 [==============================] - 14s 5ms/step - loss: 0.0101 - accuracy: 0.9966 - val_loss: 0.0129 - val_accuracy: 0.9962\n",
            "Epoch 60/100\n",
            "2820/2820 [==============================] - 13s 5ms/step - loss: 0.0096 - accuracy: 0.9968 - val_loss: 0.0125 - val_accuracy: 0.9961\n",
            "Epoch 61/100\n",
            "2820/2820 [==============================] - 14s 5ms/step - loss: 0.0101 - accuracy: 0.9967 - val_loss: 0.0125 - val_accuracy: 0.9962\n",
            "Epoch 62/100\n",
            "2820/2820 [==============================] - 13s 5ms/step - loss: 0.0101 - accuracy: 0.9967 - val_loss: 0.0138 - val_accuracy: 0.9960\n",
            "Epoch 63/100\n",
            "2820/2820 [==============================] - 14s 5ms/step - loss: 0.0100 - accuracy: 0.9968 - val_loss: 0.0132 - val_accuracy: 0.9960\n",
            "Epoch 64/100\n",
            "2820/2820 [==============================] - 14s 5ms/step - loss: 0.0100 - accuracy: 0.9968 - val_loss: 0.0144 - val_accuracy: 0.9956\n",
            "Epoch 65/100\n",
            "2820/2820 [==============================] - 13s 5ms/step - loss: 0.0096 - accuracy: 0.9969 - val_loss: 0.0128 - val_accuracy: 0.9961\n",
            "Epoch 66/100\n",
            "2820/2820 [==============================] - 13s 5ms/step - loss: 0.0099 - accuracy: 0.9969 - val_loss: 0.0135 - val_accuracy: 0.9956\n",
            "Epoch 67/100\n",
            "2820/2820 [==============================] - 13s 5ms/step - loss: 0.0102 - accuracy: 0.9969 - val_loss: 0.0126 - val_accuracy: 0.9963\n",
            "Epoch 68/100\n",
            "2820/2820 [==============================] - 13s 5ms/step - loss: 0.0099 - accuracy: 0.9969 - val_loss: 0.0130 - val_accuracy: 0.9957\n",
            "Epoch 69/100\n",
            "2820/2820 [==============================] - 15s 5ms/step - loss: 0.0098 - accuracy: 0.9966 - val_loss: 0.0192 - val_accuracy: 0.9953\n",
            "Epoch 70/100\n",
            "2820/2820 [==============================] - 13s 5ms/step - loss: 0.0102 - accuracy: 0.9964 - val_loss: 0.0155 - val_accuracy: 0.9953\n",
            "Epoch 71/100\n",
            "2820/2820 [==============================] - 14s 5ms/step - loss: 0.0097 - accuracy: 0.9969 - val_loss: 0.0111 - val_accuracy: 0.9965\n",
            "Epoch 72/100\n",
            "2820/2820 [==============================] - 15s 5ms/step - loss: 0.0097 - accuracy: 0.9967 - val_loss: 0.0124 - val_accuracy: 0.9961\n",
            "Epoch 73/100\n",
            "2820/2820 [==============================] - 15s 5ms/step - loss: 0.0095 - accuracy: 0.9969 - val_loss: 0.0121 - val_accuracy: 0.9968\n",
            "Epoch 74/100\n",
            "2820/2820 [==============================] - 14s 5ms/step - loss: 0.0098 - accuracy: 0.9968 - val_loss: 0.0113 - val_accuracy: 0.9965\n",
            "Epoch 75/100\n",
            "2820/2820 [==============================] - 13s 5ms/step - loss: 0.0097 - accuracy: 0.9969 - val_loss: 0.0116 - val_accuracy: 0.9964\n",
            "Epoch 76/100\n",
            "2820/2820 [==============================] - 14s 5ms/step - loss: 0.0098 - accuracy: 0.9969 - val_loss: 0.0123 - val_accuracy: 0.9963\n",
            "Epoch 77/100\n",
            "2820/2820 [==============================] - 14s 5ms/step - loss: 0.0094 - accuracy: 0.9969 - val_loss: 0.0130 - val_accuracy: 0.9965\n",
            "Epoch 78/100\n",
            "2820/2820 [==============================] - 13s 5ms/step - loss: 0.0095 - accuracy: 0.9970 - val_loss: 0.0117 - val_accuracy: 0.9963\n",
            "Epoch 79/100\n",
            "2820/2820 [==============================] - 13s 5ms/step - loss: 0.0100 - accuracy: 0.9968 - val_loss: 0.0122 - val_accuracy: 0.9963\n",
            "Epoch 80/100\n",
            "2820/2820 [==============================] - 13s 5ms/step - loss: 0.0097 - accuracy: 0.9970 - val_loss: 0.0113 - val_accuracy: 0.9964\n",
            "Epoch 81/100\n",
            "2820/2820 [==============================] - 13s 5ms/step - loss: 0.0096 - accuracy: 0.9969 - val_loss: 0.0133 - val_accuracy: 0.9960\n",
            "Epoch 82/100\n",
            "2820/2820 [==============================] - 14s 5ms/step - loss: 0.0094 - accuracy: 0.9969 - val_loss: 0.0149 - val_accuracy: 0.9952\n",
            "Epoch 83/100\n",
            "2820/2820 [==============================] - 14s 5ms/step - loss: 0.0111 - accuracy: 0.9970 - val_loss: 0.0119 - val_accuracy: 0.9968\n",
            "Epoch 84/100\n",
            "2820/2820 [==============================] - 14s 5ms/step - loss: 0.0094 - accuracy: 0.9970 - val_loss: 0.0118 - val_accuracy: 0.9965\n",
            "Epoch 85/100\n",
            "2820/2820 [==============================] - 13s 5ms/step - loss: 0.0093 - accuracy: 0.9970 - val_loss: 0.0126 - val_accuracy: 0.9961\n",
            "Epoch 86/100\n",
            "2820/2820 [==============================] - 13s 5ms/step - loss: 0.0092 - accuracy: 0.9969 - val_loss: 0.0137 - val_accuracy: 0.9957\n",
            "Epoch 87/100\n",
            "2820/2820 [==============================] - 14s 5ms/step - loss: 0.0104 - accuracy: 0.9969 - val_loss: 0.0120 - val_accuracy: 0.9966\n",
            "Epoch 88/100\n",
            "2820/2820 [==============================] - 15s 5ms/step - loss: 0.0092 - accuracy: 0.9971 - val_loss: 0.0126 - val_accuracy: 0.9962\n",
            "Epoch 89/100\n",
            "2820/2820 [==============================] - 15s 5ms/step - loss: 0.0094 - accuracy: 0.9971 - val_loss: 0.0127 - val_accuracy: 0.9960\n",
            "Epoch 90/100\n",
            "2820/2820 [==============================] - 14s 5ms/step - loss: 0.0090 - accuracy: 0.9971 - val_loss: 0.0120 - val_accuracy: 0.9968\n",
            "Epoch 91/100\n",
            "2820/2820 [==============================] - 14s 5ms/step - loss: 0.0094 - accuracy: 0.9969 - val_loss: 0.0105 - val_accuracy: 0.9970\n",
            "Epoch 92/100\n",
            "2820/2820 [==============================] - 14s 5ms/step - loss: 0.0090 - accuracy: 0.9971 - val_loss: 0.0116 - val_accuracy: 0.9967\n",
            "Epoch 93/100\n",
            "2820/2820 [==============================] - 13s 5ms/step - loss: 0.0091 - accuracy: 0.9973 - val_loss: 0.0158 - val_accuracy: 0.9955\n",
            "Epoch 94/100\n",
            "2820/2820 [==============================] - 14s 5ms/step - loss: 0.0096 - accuracy: 0.9969 - val_loss: 0.0133 - val_accuracy: 0.9962\n",
            "Epoch 95/100\n",
            "2820/2820 [==============================] - 15s 5ms/step - loss: 0.0091 - accuracy: 0.9969 - val_loss: 0.0125 - val_accuracy: 0.9962\n",
            "Epoch 96/100\n",
            "2820/2820 [==============================] - 13s 5ms/step - loss: 0.0088 - accuracy: 0.9970 - val_loss: 0.0135 - val_accuracy: 0.9958\n",
            "Epoch 97/100\n",
            "2820/2820 [==============================] - 14s 5ms/step - loss: 0.0093 - accuracy: 0.9971 - val_loss: 0.0137 - val_accuracy: 0.9965\n",
            "Epoch 98/100\n",
            "2820/2820 [==============================] - 13s 5ms/step - loss: 0.0090 - accuracy: 0.9971 - val_loss: 0.0117 - val_accuracy: 0.9966\n",
            "Epoch 99/100\n",
            "2820/2820 [==============================] - 13s 5ms/step - loss: 0.0091 - accuracy: 0.9972 - val_loss: 0.0182 - val_accuracy: 0.9948\n",
            "Epoch 100/100\n",
            "2820/2820 [==============================] - 13s 5ms/step - loss: 0.0094 - accuracy: 0.9971 - val_loss: 0.0138 - val_accuracy: 0.9960\n",
            "940/940 [==============================] - 2s 2ms/step - loss: 0.0138 - accuracy: 0.9960\n",
            "Accuracy: 0.9960106611251831\n",
            "\n",
            "Loss: 0.013818714767694473\n"
          ]
        }
      ]
    },
    {
      "cell_type": "markdown",
      "source": [
        "### Modelo Escogido - Red Neuronal con 2 capas intermedias entre entrada y salida"
      ],
      "metadata": {
        "id": "LFl5dMQZY6jG"
      }
    },
    {
      "cell_type": "code",
      "source": [
        "ann_predict_test = ann_3.predict(x_test)"
      ],
      "metadata": {
        "colab": {
          "base_uri": "https://localhost:8080/"
        },
        "id": "lCdCU3DiZCRx",
        "outputId": "e7bfe48a-fa7b-47dd-a354-1209dc11ce14"
      },
      "execution_count": null,
      "outputs": [
        {
          "output_type": "stream",
          "name": "stdout",
          "text": [
            "940/940 [==============================] - 2s 2ms/step\n"
          ]
        }
      ]
    },
    {
      "cell_type": "code",
      "source": [
        "ann_predict_test = np.argmax(ann_predict_test, axis=1)"
      ],
      "metadata": {
        "id": "wsUBBXpMavvY"
      },
      "execution_count": null,
      "outputs": []
    },
    {
      "cell_type": "code",
      "source": [
        "from sklearn.metrics import confusion_matrix, ConfusionMatrixDisplay\n",
        "\n",
        "labels = ['NF','S','OC','SC','U']\n",
        "\n",
        "cm = confusion_matrix(y_test, ann_predict_test)\n",
        "disp = ConfusionMatrixDisplay(confusion_matrix=cm, display_labels=labels)\n",
        "\n",
        "plt.figure(figsize=(30,8))\n",
        "disp.plot()\n",
        "plt.title(\"Confusion Matrix - ANN - Test Data\")\n",
        "plt.show()"
      ],
      "metadata": {
        "colab": {
          "base_uri": "https://localhost:8080/",
          "height": 498
        },
        "id": "lqQ9hjnydPdw",
        "outputId": "ec0b080e-3cc9-4df5-a5bd-6dac911fcc65"
      },
      "execution_count": null,
      "outputs": [
        {
          "output_type": "display_data",
          "data": {
            "text/plain": [
              "<Figure size 3000x800 with 0 Axes>"
            ]
          },
          "metadata": {}
        },
        {
          "output_type": "display_data",
          "data": {
            "text/plain": [
              "<Figure size 640x480 with 2 Axes>"
            ],
            "image/png": "[encoded data removed]"
          },
          "metadata": {}
        }
      ]
    },
    {
      "cell_type": "code",
      "source": [
        "from sklearn.metrics import accuracy_score, precision_score, recall_score, f1_score\n",
        "accuracy = accuracy_score(y_test, ann_predict_test)\n",
        "precision = precision_score(y_test, ann_predict_test,average='weighted')\n",
        "recall = recall_score(y_test, ann_predict_test,average='weighted')\n",
        "f1_score = f1_score(y_test, ann_predict_test,average='weighted')"
      ],
      "metadata": {
        "colab": {
          "base_uri": "https://localhost:8080/"
        },
        "id": "p__8tqRpd5yL",
        "outputId": "da75582c-a4a9-44d5-ede7-a5d4651f6769"
      },
      "execution_count": null,
      "outputs": [
        {
          "output_type": "stream",
          "name": "stderr",
          "text": [
            "/usr/local/lib/python3.10/dist-packages/sklearn/metrics/_classification.py:1344: UndefinedMetricWarning: Precision is ill-defined and being set to 0.0 in labels with no predicted samples. Use `zero_division` parameter to control this behavior.\n",
            "  _warn_prf(average, modifier, msg_start, len(result))\n"
          ]
        }
      ]
    },
    {
      "cell_type": "code",
      "source": [
        "print(\"Accuracy: \"+ str(accuracy))\n",
        "print(\"Precision: \"+ str(precision))\n",
        "print(\"Recall: \"+ str(recall))\n",
        "print(\"F1-Score: \"+ str(f1_score))"
      ],
      "metadata": {
        "colab": {
          "base_uri": "https://localhost:8080/"
        },
        "id": "TdV2Q3bghDlW",
        "outputId": "f7a2ff7d-4fb3-4041-a2c0-3ffa9d8e06ef"
      },
      "execution_count": null,
      "outputs": [
        {
          "output_type": "stream",
          "name": "stdout",
          "text": [
            "Accuracy: 0.9970744680851064\n",
            "Precision: 0.9960201102432343\n",
            "Recall: 0.9970744680851064\n",
            "F1-Score: 0.9965252391235436\n"
          ]
        }
      ]
    },
    {
      "cell_type": "markdown",
      "source": [
        "## **MÉTODO 2 - SUPPORT VECTOR MACHINES**"
      ],
      "metadata": {
        "id": "ixRk_UOaiHDh"
      }
    },
    {
      "cell_type": "code",
      "source": [
        "cu_df = cudf.DataFrame(df)"
      ],
      "metadata": {
        "id": "1PAJlRfIU2hL"
      },
      "execution_count": 12,
      "outputs": []
    },
    {
      "cell_type": "code",
      "source": [
        "x_data = cu_df[['U_DC1','U_DC2','I_DC1','I_DC2']]\n",
        "y_data = cu_df[['Label']]"
      ],
      "metadata": {
        "id": "7eEGgv1vVUC0"
      },
      "execution_count": 28,
      "outputs": []
    },
    {
      "cell_type": "code",
      "source": [
        "cu_scaler = cuml.preprocessing.StandardScaler()\n",
        "x_scaled = cu_scaler.fit_transform(x_data)\n",
        "y_data = y_data.to_cupy()"
      ],
      "metadata": {
        "id": "soFJfCGoVWqQ"
      },
      "execution_count": 29,
      "outputs": []
    },
    {
      "cell_type": "code",
      "source": [
        "x_train, x_temp, y_train, y_temp = train_test_split(x_scaled, y_data, train_size = 0.6, random_state=42)\n",
        "x_val, x_test, y_val, y_test = train_test_split(x_temp, y_temp, train_size = 0.5, random_state=42)\n",
        "\n",
        "x_train = x_train.to_numpy()\n",
        "y_train = y_train.ravel()\n",
        "y_train = cp.asnumpy(y_train)\n",
        "x_val = x_val.to_numpy()\n",
        "y_val = y_val.ravel()\n",
        "y_val = cp.asnumpy(y_val)\n",
        "x_test = x_test.to_numpy()\n",
        "y_test = y_test.ravel()\n",
        "y_test = cp.asnumpy(y_test)"
      ],
      "metadata": {
        "id": "qcSsy3wVWBas"
      },
      "execution_count": 39,
      "outputs": []
    },
    {
      "cell_type": "code",
      "source": [
        "svc_classifier = SVC(kernel='rbf',gamma='scale',random_state=42,decision_function_shape='ovr')\n",
        "\n",
        "param_grid = {\n",
        "    \"C\": np.array([0.001,0.01,0.1,1,10,100,1000]),\n",
        "}\n",
        "\n",
        "grid_search_ovr = cuml.model_selection.GridSearchCV(svc_classifier, param_grid, scoring='accuracy', cv=5, refit='accuracy',n_jobs=-1)\n",
        "\n",
        "grid_search_ovr.fit(x_train, y_train)\n",
        "\n",
        "print(\"Best Parameters for SVM with One vs Rest Classification and RBF Kernel with Gamma Scale: \", grid_search_ovr.best_params_)"
      ],
      "metadata": {
        "colab": {
          "base_uri": "https://localhost:8080/"
        },
        "id": "VL1ppxC3bVUI",
        "outputId": "f11fcafc-e513-4e2d-af12-498e063930eb"
      },
      "execution_count": 63,
      "outputs": [
        {
          "output_type": "stream",
          "name": "stdout",
          "text": [
            "Best Parameters for SVM with RBF Kernel and Gamma Scale:  {'C': 1000.0}\n"
          ]
        }
      ]
    },
    {
      "cell_type": "code",
      "source": [
        "svc_classifier = SVC(kernel='rbf',gamma='auto',decision_function_shape='ovr')\n",
        "\n",
        "param_grid = {\n",
        "    \"C\": np.array([0.001,0.01,0.1,1,10,100,1000,10000]),\n",
        "}\n",
        "\n",
        "grid_search_ovr = cuml.model_selection.GridSearchCV(svc_classifier, param_grid, scoring='accuracy', cv=5, refit='accuracy',n_jobs=-1)\n",
        "\n",
        "grid_search_ovr.fit(x_train, y_train)\n",
        "\n",
        "print(\"Best Parameters for SVM with One vs Rest Classification RBF Kernel and Gamma Auto: \", grid_search_ovr.best_params_)"
      ],
      "metadata": {
        "colab": {
          "base_uri": "https://localhost:8080/"
        },
        "id": "-2Zq09R1bs0A",
        "outputId": "3f098292-6e44-460d-e426-5c1dbfabd309"
      },
      "execution_count": 58,
      "outputs": [
        {
          "output_type": "stream",
          "name": "stdout",
          "text": [
            "Best Parameters for SVM with RBF Kernel and Gamma Auto:  {'C': 1000.0}\n"
          ]
        }
      ]
    },
    {
      "cell_type": "code",
      "source": [
        "svc_classifier = SVC(kernel='sigmoid',random_state=42,decision_function_shape='ovr')\n",
        "\n",
        "param_grid = {\n",
        "    \"C\": np.array([0.001,0.01,0.1,1,10,100,1000,10000]),\n",
        "}\n",
        "\n",
        "grid_search_ovr = GridSearchCV(svc_classifier, param_grid, scoring='accuracy', cv=5, refit='accuracy',n_jobs=-1)\n",
        "\n",
        "grid_search_ovr.fit(x_train, y_train)\n",
        "\n",
        "print(\"Best Parameters for SVM with One vs Rest Classification and Sigmoid Kernel: \", grid_search_ovr.best_params_)"
      ],
      "metadata": {
        "colab": {
          "base_uri": "https://localhost:8080/"
        },
        "id": "uKieS0Y1cBxd",
        "outputId": "5084892f-a711-48f5-ca5e-099ae08fcfd2"
      },
      "execution_count": null,
      "outputs": [
        {
          "output_type": "stream",
          "name": "stdout",
          "text": [
            "Best Parameters for SVM with Sigmoid Kernel:  {'C': 0.001}\n"
          ]
        }
      ]
    },
    {
      "cell_type": "code",
      "source": [
        "svc_classifier = SVC(kernel='poly',random_state=42,decision_function_shape='ovr')\n",
        "\n",
        "param_grid = {\n",
        "    \"C\": np.array([0.001,0.01,0.1,1,10,100,1000,10000]),\n",
        "    \"degree\": np.array([1,2,3,4,5,6]),\n",
        "}\n",
        "\n",
        "grid_search_ovr = cuml.model_selection.GridSearchCV(svc_classifier, param_grid, scoring='accuracy', cv=5, refit='accuracy',n_jobs=-1)\n",
        "\n",
        "grid_search_ovr.fit(x_train, y_train)\n",
        "\n",
        "print(\"Best Parameters for SVM with One vs Rest Classification and Polynomial Kernel: \", grid_search_ovr.best_params_)\n"
      ],
      "metadata": {
        "colab": {
          "base_uri": "https://localhost:8080/",
          "height": 399
        },
        "id": "qFtdCuyeWJyz",
        "outputId": "2252e2d5-9aa8-4db5-e51c-885d9aac33c9"
      },
      "execution_count": 61,
      "outputs": [
        {
          "output_type": "error",
          "ename": "KeyboardInterrupt",
          "evalue": "",
          "traceback": [
            "\u001b[0;31m---------------------------------------------------------------------------\u001b[0m",
            "\u001b[0;31mKeyboardInterrupt\u001b[0m                         Traceback (most recent call last)",
            "\u001b[0;32m<ipython-input-61-be3c9905d1f3>\u001b[0m in \u001b[0;36m<cell line: 10>\u001b[0;34m()\u001b[0m\n\u001b[1;32m      8\u001b[0m \u001b[0mgrid_search_ovr\u001b[0m \u001b[0;34m=\u001b[0m \u001b[0mcuml\u001b[0m\u001b[0;34m.\u001b[0m\u001b[0mmodel_selection\u001b[0m\u001b[0;34m.\u001b[0m\u001b[0mGridSearchCV\u001b[0m\u001b[0;34m(\u001b[0m\u001b[0msvc_classifier\u001b[0m\u001b[0;34m,\u001b[0m \u001b[0mparam_grid\u001b[0m\u001b[0;34m,\u001b[0m \u001b[0mscoring\u001b[0m\u001b[0;34m=\u001b[0m\u001b[0;34m'accuracy'\u001b[0m\u001b[0;34m,\u001b[0m \u001b[0mcv\u001b[0m\u001b[0;34m=\u001b[0m\u001b[0;36m5\u001b[0m\u001b[0;34m,\u001b[0m \u001b[0mrefit\u001b[0m\u001b[0;34m=\u001b[0m\u001b[0;34m'accuracy'\u001b[0m\u001b[0;34m,\u001b[0m\u001b[0mn_jobs\u001b[0m\u001b[0;34m=\u001b[0m\u001b[0;34m-\u001b[0m\u001b[0;36m1\u001b[0m\u001b[0;34m)\u001b[0m\u001b[0;34m\u001b[0m\u001b[0;34m\u001b[0m\u001b[0m\n\u001b[1;32m      9\u001b[0m \u001b[0;34m\u001b[0m\u001b[0m\n\u001b[0;32m---> 10\u001b[0;31m \u001b[0mgrid_search_ovr\u001b[0m\u001b[0;34m.\u001b[0m\u001b[0mfit\u001b[0m\u001b[0;34m(\u001b[0m\u001b[0mx_train\u001b[0m\u001b[0;34m,\u001b[0m \u001b[0my_train\u001b[0m\u001b[0;34m)\u001b[0m\u001b[0;34m\u001b[0m\u001b[0;34m\u001b[0m\u001b[0m\n\u001b[0m\u001b[1;32m     11\u001b[0m \u001b[0;34m\u001b[0m\u001b[0m\n\u001b[1;32m     12\u001b[0m \u001b[0mprint\u001b[0m\u001b[0;34m(\u001b[0m\u001b[0;34m\"Best Parameters for SVM with Polynomial Kernel: \"\u001b[0m\u001b[0;34m,\u001b[0m \u001b[0mgrid_search_ovr\u001b[0m\u001b[0;34m.\u001b[0m\u001b[0mbest_params_\u001b[0m\u001b[0;34m)\u001b[0m\u001b[0;34m\u001b[0m\u001b[0;34m\u001b[0m\u001b[0m\n",
            "\u001b[0;32m/usr/local/lib/python3.10/dist-packages/sklearn/model_selection/_search.py\u001b[0m in \u001b[0;36mfit\u001b[0;34m(self, X, y, groups, **fit_params)\u001b[0m\n\u001b[1;32m    872\u001b[0m                 \u001b[0;32mreturn\u001b[0m \u001b[0mresults\u001b[0m\u001b[0;34m\u001b[0m\u001b[0;34m\u001b[0m\u001b[0m\n\u001b[1;32m    873\u001b[0m \u001b[0;34m\u001b[0m\u001b[0m\n\u001b[0;32m--> 874\u001b[0;31m             \u001b[0mself\u001b[0m\u001b[0;34m.\u001b[0m\u001b[0m_run_search\u001b[0m\u001b[0;34m(\u001b[0m\u001b[0mevaluate_candidates\u001b[0m\u001b[0;34m)\u001b[0m\u001b[0;34m\u001b[0m\u001b[0;34m\u001b[0m\u001b[0m\n\u001b[0m\u001b[1;32m    875\u001b[0m \u001b[0;34m\u001b[0m\u001b[0m\n\u001b[1;32m    876\u001b[0m             \u001b[0;31m# multimetric is determined here because in the case of a callable\u001b[0m\u001b[0;34m\u001b[0m\u001b[0;34m\u001b[0m\u001b[0m\n",
            "\u001b[0;32m/usr/local/lib/python3.10/dist-packages/sklearn/model_selection/_search.py\u001b[0m in \u001b[0;36m_run_search\u001b[0;34m(self, evaluate_candidates)\u001b[0m\n\u001b[1;32m   1386\u001b[0m     \u001b[0;32mdef\u001b[0m \u001b[0m_run_search\u001b[0m\u001b[0;34m(\u001b[0m\u001b[0mself\u001b[0m\u001b[0;34m,\u001b[0m \u001b[0mevaluate_candidates\u001b[0m\u001b[0;34m)\u001b[0m\u001b[0;34m:\u001b[0m\u001b[0;34m\u001b[0m\u001b[0;34m\u001b[0m\u001b[0m\n\u001b[1;32m   1387\u001b[0m         \u001b[0;34m\"\"\"Search all candidates in param_grid\"\"\"\u001b[0m\u001b[0;34m\u001b[0m\u001b[0;34m\u001b[0m\u001b[0m\n\u001b[0;32m-> 1388\u001b[0;31m         \u001b[0mevaluate_candidates\u001b[0m\u001b[0;34m(\u001b[0m\u001b[0mParameterGrid\u001b[0m\u001b[0;34m(\u001b[0m\u001b[0mself\u001b[0m\u001b[0;34m.\u001b[0m\u001b[0mparam_grid\u001b[0m\u001b[0;34m)\u001b[0m\u001b[0;34m)\u001b[0m\u001b[0;34m\u001b[0m\u001b[0;34m\u001b[0m\u001b[0m\n\u001b[0m\u001b[1;32m   1389\u001b[0m \u001b[0;34m\u001b[0m\u001b[0m\n\u001b[1;32m   1390\u001b[0m \u001b[0;34m\u001b[0m\u001b[0m\n",
            "\u001b[0;32m/usr/local/lib/python3.10/dist-packages/sklearn/model_selection/_search.py\u001b[0m in \u001b[0;36mevaluate_candidates\u001b[0;34m(candidate_params, cv, more_results)\u001b[0m\n\u001b[1;32m    819\u001b[0m                     )\n\u001b[1;32m    820\u001b[0m \u001b[0;34m\u001b[0m\u001b[0m\n\u001b[0;32m--> 821\u001b[0;31m                 out = parallel(\n\u001b[0m\u001b[1;32m    822\u001b[0m                     delayed(_fit_and_score)(\n\u001b[1;32m    823\u001b[0m                         \u001b[0mclone\u001b[0m\u001b[0;34m(\u001b[0m\u001b[0mbase_estimator\u001b[0m\u001b[0;34m)\u001b[0m\u001b[0;34m,\u001b[0m\u001b[0;34m\u001b[0m\u001b[0;34m\u001b[0m\u001b[0m\n",
            "\u001b[0;32m/usr/local/lib/python3.10/dist-packages/sklearn/utils/parallel.py\u001b[0m in \u001b[0;36m__call__\u001b[0;34m(self, iterable)\u001b[0m\n\u001b[1;32m     61\u001b[0m             \u001b[0;32mfor\u001b[0m \u001b[0mdelayed_func\u001b[0m\u001b[0;34m,\u001b[0m \u001b[0margs\u001b[0m\u001b[0;34m,\u001b[0m \u001b[0mkwargs\u001b[0m \u001b[0;32min\u001b[0m \u001b[0miterable\u001b[0m\u001b[0;34m\u001b[0m\u001b[0;34m\u001b[0m\u001b[0m\n\u001b[1;32m     62\u001b[0m         )\n\u001b[0;32m---> 63\u001b[0;31m         \u001b[0;32mreturn\u001b[0m \u001b[0msuper\u001b[0m\u001b[0;34m(\u001b[0m\u001b[0;34m)\u001b[0m\u001b[0;34m.\u001b[0m\u001b[0m__call__\u001b[0m\u001b[0;34m(\u001b[0m\u001b[0miterable_with_config\u001b[0m\u001b[0;34m)\u001b[0m\u001b[0;34m\u001b[0m\u001b[0;34m\u001b[0m\u001b[0m\n\u001b[0m\u001b[1;32m     64\u001b[0m \u001b[0;34m\u001b[0m\u001b[0m\n\u001b[1;32m     65\u001b[0m \u001b[0;34m\u001b[0m\u001b[0m\n",
            "\u001b[0;32m/usr/local/lib/python3.10/dist-packages/joblib/parallel.py\u001b[0m in \u001b[0;36m__call__\u001b[0;34m(self, iterable)\u001b[0m\n\u001b[1;32m   1950\u001b[0m         \u001b[0mnext\u001b[0m\u001b[0;34m(\u001b[0m\u001b[0moutput\u001b[0m\u001b[0;34m)\u001b[0m\u001b[0;34m\u001b[0m\u001b[0;34m\u001b[0m\u001b[0m\n\u001b[1;32m   1951\u001b[0m \u001b[0;34m\u001b[0m\u001b[0m\n\u001b[0;32m-> 1952\u001b[0;31m         \u001b[0;32mreturn\u001b[0m \u001b[0moutput\u001b[0m \u001b[0;32mif\u001b[0m \u001b[0mself\u001b[0m\u001b[0;34m.\u001b[0m\u001b[0mreturn_generator\u001b[0m \u001b[0;32melse\u001b[0m \u001b[0mlist\u001b[0m\u001b[0;34m(\u001b[0m\u001b[0moutput\u001b[0m\u001b[0;34m)\u001b[0m\u001b[0;34m\u001b[0m\u001b[0;34m\u001b[0m\u001b[0m\n\u001b[0m\u001b[1;32m   1953\u001b[0m \u001b[0;34m\u001b[0m\u001b[0m\n\u001b[1;32m   1954\u001b[0m     \u001b[0;32mdef\u001b[0m \u001b[0m__repr__\u001b[0m\u001b[0;34m(\u001b[0m\u001b[0mself\u001b[0m\u001b[0;34m)\u001b[0m\u001b[0;34m:\u001b[0m\u001b[0;34m\u001b[0m\u001b[0;34m\u001b[0m\u001b[0m\n",
            "\u001b[0;32m/usr/local/lib/python3.10/dist-packages/joblib/parallel.py\u001b[0m in \u001b[0;36m_get_outputs\u001b[0;34m(self, iterator, pre_dispatch)\u001b[0m\n\u001b[1;32m   1593\u001b[0m \u001b[0;34m\u001b[0m\u001b[0m\n\u001b[1;32m   1594\u001b[0m             \u001b[0;32mwith\u001b[0m \u001b[0mself\u001b[0m\u001b[0;34m.\u001b[0m\u001b[0m_backend\u001b[0m\u001b[0;34m.\u001b[0m\u001b[0mretrieval_context\u001b[0m\u001b[0;34m(\u001b[0m\u001b[0;34m)\u001b[0m\u001b[0;34m:\u001b[0m\u001b[0;34m\u001b[0m\u001b[0;34m\u001b[0m\u001b[0m\n\u001b[0;32m-> 1595\u001b[0;31m                 \u001b[0;32myield\u001b[0m \u001b[0;32mfrom\u001b[0m \u001b[0mself\u001b[0m\u001b[0;34m.\u001b[0m\u001b[0m_retrieve\u001b[0m\u001b[0;34m(\u001b[0m\u001b[0;34m)\u001b[0m\u001b[0;34m\u001b[0m\u001b[0;34m\u001b[0m\u001b[0m\n\u001b[0m\u001b[1;32m   1596\u001b[0m \u001b[0;34m\u001b[0m\u001b[0m\n\u001b[1;32m   1597\u001b[0m         \u001b[0;32mexcept\u001b[0m \u001b[0mGeneratorExit\u001b[0m\u001b[0;34m:\u001b[0m\u001b[0;34m\u001b[0m\u001b[0;34m\u001b[0m\u001b[0m\n",
            "\u001b[0;32m/usr/local/lib/python3.10/dist-packages/joblib/parallel.py\u001b[0m in \u001b[0;36m_retrieve\u001b[0;34m(self)\u001b[0m\n\u001b[1;32m   1705\u001b[0m                 (self._jobs[0].get_status(\n\u001b[1;32m   1706\u001b[0m                     timeout=self.timeout) == TASK_PENDING)):\n\u001b[0;32m-> 1707\u001b[0;31m                 \u001b[0mtime\u001b[0m\u001b[0;34m.\u001b[0m\u001b[0msleep\u001b[0m\u001b[0;34m(\u001b[0m\u001b[0;36m0.01\u001b[0m\u001b[0;34m)\u001b[0m\u001b[0;34m\u001b[0m\u001b[0;34m\u001b[0m\u001b[0m\n\u001b[0m\u001b[1;32m   1708\u001b[0m                 \u001b[0;32mcontinue\u001b[0m\u001b[0;34m\u001b[0m\u001b[0;34m\u001b[0m\u001b[0m\n\u001b[1;32m   1709\u001b[0m \u001b[0;34m\u001b[0m\u001b[0m\n",
            "\u001b[0;31mKeyboardInterrupt\u001b[0m: "
          ]
        }
      ]
    },
    {
      "cell_type": "code",
      "source": [
        "svc_classifier = SVC(kernel='rbf',gamma='scale',random_state=42,decision_function_shape='ovo')\n",
        "\n",
        "param_grid = {\n",
        "    \"C\": np.array([0.001,0.01,0.1,1,10,100,1000]),\n",
        "}\n",
        "\n",
        "grid_search_ovr = cuml.model_selection.GridSearchCV(svc_classifier, param_grid, scoring='accuracy', cv=5, refit='accuracy',n_jobs=-1)\n",
        "\n",
        "grid_search_ovr.fit(x_train, y_train)\n",
        "\n",
        "print(\"Best Parameters for SVM with One vs One Classification and RBF Kernel with Gamma Scale: \", grid_search_ovr.best_params_)"
      ],
      "metadata": {
        "colab": {
          "base_uri": "https://localhost:8080/"
        },
        "outputId": "f11fcafc-e513-4e2d-af12-498e063930eb",
        "id": "IA3-yyQTkXfg"
      },
      "execution_count": null,
      "outputs": [
        {
          "output_type": "stream",
          "name": "stdout",
          "text": [
            "Best Parameters for SVM with RBF Kernel and Gamma Scale:  {'C': 1000.0}\n"
          ]
        }
      ]
    },
    {
      "cell_type": "code",
      "source": [
        "svc_classifier = SVC(kernel='rbf',gamma='auto',decision_function_shape='ovo')\n",
        "\n",
        "param_grid = {\n",
        "    \"C\": np.array([0.001,0.01,0.1,1,10,100,1000,10000]),\n",
        "}\n",
        "\n",
        "grid_search_ovr = cuml.model_selection.GridSearchCV(svc_classifier, param_grid, scoring='accuracy', cv=5, refit='accuracy',n_jobs=-1)\n",
        "\n",
        "grid_search_ovr.fit(x_train, y_train)\n",
        "\n",
        "print(\"Best Parameters for SVM with One vs One Classification RBF Kernel and Gamma Auto: \", grid_search_ovr.best_params_)"
      ],
      "metadata": {
        "colab": {
          "base_uri": "https://localhost:8080/"
        },
        "outputId": "3f098292-6e44-460d-e426-5c1dbfabd309",
        "id": "iOuKTsaJkXfi"
      },
      "execution_count": null,
      "outputs": [
        {
          "output_type": "stream",
          "name": "stdout",
          "text": [
            "Best Parameters for SVM with RBF Kernel and Gamma Auto:  {'C': 1000.0}\n"
          ]
        }
      ]
    },
    {
      "cell_type": "code",
      "source": [
        "svc_classifier = SVC(kernel='sigmoid',random_state=42,decision_function_shape='ovo')\n",
        "\n",
        "param_grid = {\n",
        "    \"C\": np.array([0.001,0.01,0.1,1,10,100,1000,10000]),\n",
        "}\n",
        "\n",
        "grid_search_ovr = GridSearchCV(svc_classifier, param_grid, scoring='accuracy', cv=5, refit='accuracy',n_jobs=-1)\n",
        "\n",
        "grid_search_ovr.fit(x_train, y_train)\n",
        "\n",
        "print(\"Best Parameters for SVM with One vs One Classification and Sigmoid Kernel: \", grid_search_ovr.best_params_)"
      ],
      "metadata": {
        "colab": {
          "base_uri": "https://localhost:8080/"
        },
        "outputId": "5084892f-a711-48f5-ca5e-099ae08fcfd2",
        "id": "0wyERtMtkXfj"
      },
      "execution_count": null,
      "outputs": [
        {
          "output_type": "stream",
          "name": "stdout",
          "text": [
            "Best Parameters for SVM with Sigmoid Kernel:  {'C': 0.001}\n"
          ]
        }
      ]
    },
    {
      "cell_type": "code",
      "source": [
        "svc_classifier = SVC(kernel='rbf',gamma='scale',random_state=42,decision_function_shape='ovr')\n",
        "\n",
        "param_grid = {\n",
        "    \"C\": np.array([0.001,0.01,0.1,1,10,100,1000]),\n",
        "}\n",
        "\n",
        "grid_search_ovr = cuml.model_selection.GridSearchCV(svc_classifier, param_grid, scoring='accuracy', cv=5, refit='accuracy',n_jobs=-1)\n",
        "\n",
        "grid_search_ovr.fit(x_train, y_train)\n",
        "\n",
        "print(\"Best Parameters for SVM with One vs Rest Classification and RBF Kernel with Gamma Scale: \", grid_search_ovr.best_params_)"
      ],
      "metadata": {
        "colab": {
          "base_uri": "https://localhost:8080/"
        },
        "outputId": "f11fcafc-e513-4e2d-af12-498e063930eb",
        "id": "KDeclFJ6klhH"
      },
      "execution_count": null,
      "outputs": [
        {
          "output_type": "stream",
          "name": "stdout",
          "text": [
            "Best Parameters for SVM with RBF Kernel and Gamma Scale:  {'C': 1000.0}\n"
          ]
        }
      ]
    },
    {
      "cell_type": "code",
      "source": [
        "svc_classifier = SVC(kernel='rbf',gamma='auto',decision_function_shape='ovr')\n",
        "\n",
        "param_grid = {\n",
        "    \"C\": np.array([0.001,0.01,0.1,1,10,100,1000,10000]),\n",
        "}\n",
        "\n",
        "grid_search_ovr = cuml.model_selection.GridSearchCV(svc_classifier, param_grid, scoring='accuracy', cv=5, refit='accuracy',n_jobs=-1)\n",
        "\n",
        "grid_search_ovr.fit(x_train, y_train)\n",
        "\n",
        "print(\"Best Parameters for SVM with One vs Rest Classification RBF Kernel and Gamma Auto: \", grid_search_ovr.best_params_)"
      ],
      "metadata": {
        "colab": {
          "base_uri": "https://localhost:8080/"
        },
        "outputId": "3f098292-6e44-460d-e426-5c1dbfabd309",
        "id": "Tz9397lSklhI"
      },
      "execution_count": null,
      "outputs": [
        {
          "output_type": "stream",
          "name": "stdout",
          "text": [
            "Best Parameters for SVM with RBF Kernel and Gamma Auto:  {'C': 1000.0}\n"
          ]
        }
      ]
    },
    {
      "cell_type": "code",
      "source": [
        "svc_classifier = SVC(kernel='sigmoid',random_state=42,decision_function_shape='ovr')\n",
        "\n",
        "param_grid = {\n",
        "    \"C\": np.array([0.001,0.01,0.1,1,10,100,1000,10000]),\n",
        "}\n",
        "\n",
        "grid_search_ovr = GridSearchCV(svc_classifier, param_grid, scoring='accuracy', cv=5, refit='accuracy',n_jobs=-1)\n",
        "\n",
        "grid_search_ovr.fit(x_train, y_train)\n",
        "\n",
        "print(\"Best Parameters for SVM with One vs Rest Classification and Sigmoid Kernel: \", grid_search_ovr.best_params_)"
      ],
      "metadata": {
        "colab": {
          "base_uri": "https://localhost:8080/"
        },
        "outputId": "5084892f-a711-48f5-ca5e-099ae08fcfd2",
        "id": "molgFOiwklhI"
      },
      "execution_count": null,
      "outputs": [
        {
          "output_type": "stream",
          "name": "stdout",
          "text": [
            "Best Parameters for SVM with Sigmoid Kernel:  {'C': 0.001}\n"
          ]
        }
      ]
    },
    {
      "cell_type": "code",
      "source": [
        "svc_classifier = SVC(kernel='poly',random_state=42,decision_function_shape='ovr')\n",
        "\n",
        "param_grid = {\n",
        "    \"C\": np.array([0.001,0.01,0.1,1,10,100,1000,10000]),\n",
        "    \"degree\": np.array([1,2,3,4,5,6]),\n",
        "}\n",
        "\n",
        "grid_search_ovr = cuml.model_selection.GridSearchCV(svc_classifier, param_grid, scoring='accuracy', cv=5, refit='accuracy',n_jobs=-1)\n",
        "\n",
        "grid_search_ovr.fit(x_train, y_train)\n",
        "\n",
        "print(\"Best Parameters for SVM with One vs Rest Classification and Polynomial Kernel: \", grid_search_ovr.best_params_)\n"
      ],
      "metadata": {
        "colab": {
          "base_uri": "https://localhost:8080/",
          "height": 399
        },
        "outputId": "2252e2d5-9aa8-4db5-e51c-885d9aac33c9",
        "id": "gxXKqM-9klhI"
      },
      "execution_count": null,
      "outputs": [
        {
          "output_type": "error",
          "ename": "KeyboardInterrupt",
          "evalue": "",
          "traceback": [
            "\u001b[0;31m---------------------------------------------------------------------------\u001b[0m",
            "\u001b[0;31mKeyboardInterrupt\u001b[0m                         Traceback (most recent call last)",
            "\u001b[0;32m<ipython-input-61-be3c9905d1f3>\u001b[0m in \u001b[0;36m<cell line: 10>\u001b[0;34m()\u001b[0m\n\u001b[1;32m      8\u001b[0m \u001b[0mgrid_search_ovr\u001b[0m \u001b[0;34m=\u001b[0m \u001b[0mcuml\u001b[0m\u001b[0;34m.\u001b[0m\u001b[0mmodel_selection\u001b[0m\u001b[0;34m.\u001b[0m\u001b[0mGridSearchCV\u001b[0m\u001b[0;34m(\u001b[0m\u001b[0msvc_classifier\u001b[0m\u001b[0;34m,\u001b[0m \u001b[0mparam_grid\u001b[0m\u001b[0;34m,\u001b[0m \u001b[0mscoring\u001b[0m\u001b[0;34m=\u001b[0m\u001b[0;34m'accuracy'\u001b[0m\u001b[0;34m,\u001b[0m \u001b[0mcv\u001b[0m\u001b[0;34m=\u001b[0m\u001b[0;36m5\u001b[0m\u001b[0;34m,\u001b[0m \u001b[0mrefit\u001b[0m\u001b[0;34m=\u001b[0m\u001b[0;34m'accuracy'\u001b[0m\u001b[0;34m,\u001b[0m\u001b[0mn_jobs\u001b[0m\u001b[0;34m=\u001b[0m\u001b[0;34m-\u001b[0m\u001b[0;36m1\u001b[0m\u001b[0;34m)\u001b[0m\u001b[0;34m\u001b[0m\u001b[0;34m\u001b[0m\u001b[0m\n\u001b[1;32m      9\u001b[0m \u001b[0;34m\u001b[0m\u001b[0m\n\u001b[0;32m---> 10\u001b[0;31m \u001b[0mgrid_search_ovr\u001b[0m\u001b[0;34m.\u001b[0m\u001b[0mfit\u001b[0m\u001b[0;34m(\u001b[0m\u001b[0mx_train\u001b[0m\u001b[0;34m,\u001b[0m \u001b[0my_train\u001b[0m\u001b[0;34m)\u001b[0m\u001b[0;34m\u001b[0m\u001b[0;34m\u001b[0m\u001b[0m\n\u001b[0m\u001b[1;32m     11\u001b[0m \u001b[0;34m\u001b[0m\u001b[0m\n\u001b[1;32m     12\u001b[0m \u001b[0mprint\u001b[0m\u001b[0;34m(\u001b[0m\u001b[0;34m\"Best Parameters for SVM with Polynomial Kernel: \"\u001b[0m\u001b[0;34m,\u001b[0m \u001b[0mgrid_search_ovr\u001b[0m\u001b[0;34m.\u001b[0m\u001b[0mbest_params_\u001b[0m\u001b[0;34m)\u001b[0m\u001b[0;34m\u001b[0m\u001b[0;34m\u001b[0m\u001b[0m\n",
            "\u001b[0;32m/usr/local/lib/python3.10/dist-packages/sklearn/model_selection/_search.py\u001b[0m in \u001b[0;36mfit\u001b[0;34m(self, X, y, groups, **fit_params)\u001b[0m\n\u001b[1;32m    872\u001b[0m                 \u001b[0;32mreturn\u001b[0m \u001b[0mresults\u001b[0m\u001b[0;34m\u001b[0m\u001b[0;34m\u001b[0m\u001b[0m\n\u001b[1;32m    873\u001b[0m \u001b[0;34m\u001b[0m\u001b[0m\n\u001b[0;32m--> 874\u001b[0;31m             \u001b[0mself\u001b[0m\u001b[0;34m.\u001b[0m\u001b[0m_run_search\u001b[0m\u001b[0;34m(\u001b[0m\u001b[0mevaluate_candidates\u001b[0m\u001b[0;34m)\u001b[0m\u001b[0;34m\u001b[0m\u001b[0;34m\u001b[0m\u001b[0m\n\u001b[0m\u001b[1;32m    875\u001b[0m \u001b[0;34m\u001b[0m\u001b[0m\n\u001b[1;32m    876\u001b[0m             \u001b[0;31m# multimetric is determined here because in the case of a callable\u001b[0m\u001b[0;34m\u001b[0m\u001b[0;34m\u001b[0m\u001b[0m\n",
            "\u001b[0;32m/usr/local/lib/python3.10/dist-packages/sklearn/model_selection/_search.py\u001b[0m in \u001b[0;36m_run_search\u001b[0;34m(self, evaluate_candidates)\u001b[0m\n\u001b[1;32m   1386\u001b[0m     \u001b[0;32mdef\u001b[0m \u001b[0m_run_search\u001b[0m\u001b[0;34m(\u001b[0m\u001b[0mself\u001b[0m\u001b[0;34m,\u001b[0m \u001b[0mevaluate_candidates\u001b[0m\u001b[0;34m)\u001b[0m\u001b[0;34m:\u001b[0m\u001b[0;34m\u001b[0m\u001b[0;34m\u001b[0m\u001b[0m\n\u001b[1;32m   1387\u001b[0m         \u001b[0;34m\"\"\"Search all candidates in param_grid\"\"\"\u001b[0m\u001b[0;34m\u001b[0m\u001b[0;34m\u001b[0m\u001b[0m\n\u001b[0;32m-> 1388\u001b[0;31m         \u001b[0mevaluate_candidates\u001b[0m\u001b[0;34m(\u001b[0m\u001b[0mParameterGrid\u001b[0m\u001b[0;34m(\u001b[0m\u001b[0mself\u001b[0m\u001b[0;34m.\u001b[0m\u001b[0mparam_grid\u001b[0m\u001b[0;34m)\u001b[0m\u001b[0;34m)\u001b[0m\u001b[0;34m\u001b[0m\u001b[0;34m\u001b[0m\u001b[0m\n\u001b[0m\u001b[1;32m   1389\u001b[0m \u001b[0;34m\u001b[0m\u001b[0m\n\u001b[1;32m   1390\u001b[0m \u001b[0;34m\u001b[0m\u001b[0m\n",
            "\u001b[0;32m/usr/local/lib/python3.10/dist-packages/sklearn/model_selection/_search.py\u001b[0m in \u001b[0;36mevaluate_candidates\u001b[0;34m(candidate_params, cv, more_results)\u001b[0m\n\u001b[1;32m    819\u001b[0m                     )\n\u001b[1;32m    820\u001b[0m \u001b[0;34m\u001b[0m\u001b[0m\n\u001b[0;32m--> 821\u001b[0;31m                 out = parallel(\n\u001b[0m\u001b[1;32m    822\u001b[0m                     delayed(_fit_and_score)(\n\u001b[1;32m    823\u001b[0m                         \u001b[0mclone\u001b[0m\u001b[0;34m(\u001b[0m\u001b[0mbase_estimator\u001b[0m\u001b[0;34m)\u001b[0m\u001b[0;34m,\u001b[0m\u001b[0;34m\u001b[0m\u001b[0;34m\u001b[0m\u001b[0m\n",
            "\u001b[0;32m/usr/local/lib/python3.10/dist-packages/sklearn/utils/parallel.py\u001b[0m in \u001b[0;36m__call__\u001b[0;34m(self, iterable)\u001b[0m\n\u001b[1;32m     61\u001b[0m             \u001b[0;32mfor\u001b[0m \u001b[0mdelayed_func\u001b[0m\u001b[0;34m,\u001b[0m \u001b[0margs\u001b[0m\u001b[0;34m,\u001b[0m \u001b[0mkwargs\u001b[0m \u001b[0;32min\u001b[0m \u001b[0miterable\u001b[0m\u001b[0;34m\u001b[0m\u001b[0;34m\u001b[0m\u001b[0m\n\u001b[1;32m     62\u001b[0m         )\n\u001b[0;32m---> 63\u001b[0;31m         \u001b[0;32mreturn\u001b[0m \u001b[0msuper\u001b[0m\u001b[0;34m(\u001b[0m\u001b[0;34m)\u001b[0m\u001b[0;34m.\u001b[0m\u001b[0m__call__\u001b[0m\u001b[0;34m(\u001b[0m\u001b[0miterable_with_config\u001b[0m\u001b[0;34m)\u001b[0m\u001b[0;34m\u001b[0m\u001b[0;34m\u001b[0m\u001b[0m\n\u001b[0m\u001b[1;32m     64\u001b[0m \u001b[0;34m\u001b[0m\u001b[0m\n\u001b[1;32m     65\u001b[0m \u001b[0;34m\u001b[0m\u001b[0m\n",
            "\u001b[0;32m/usr/local/lib/python3.10/dist-packages/joblib/parallel.py\u001b[0m in \u001b[0;36m__call__\u001b[0;34m(self, iterable)\u001b[0m\n\u001b[1;32m   1950\u001b[0m         \u001b[0mnext\u001b[0m\u001b[0;34m(\u001b[0m\u001b[0moutput\u001b[0m\u001b[0;34m)\u001b[0m\u001b[0;34m\u001b[0m\u001b[0;34m\u001b[0m\u001b[0m\n\u001b[1;32m   1951\u001b[0m \u001b[0;34m\u001b[0m\u001b[0m\n\u001b[0;32m-> 1952\u001b[0;31m         \u001b[0;32mreturn\u001b[0m \u001b[0moutput\u001b[0m \u001b[0;32mif\u001b[0m \u001b[0mself\u001b[0m\u001b[0;34m.\u001b[0m\u001b[0mreturn_generator\u001b[0m \u001b[0;32melse\u001b[0m \u001b[0mlist\u001b[0m\u001b[0;34m(\u001b[0m\u001b[0moutput\u001b[0m\u001b[0;34m)\u001b[0m\u001b[0;34m\u001b[0m\u001b[0;34m\u001b[0m\u001b[0m\n\u001b[0m\u001b[1;32m   1953\u001b[0m \u001b[0;34m\u001b[0m\u001b[0m\n\u001b[1;32m   1954\u001b[0m     \u001b[0;32mdef\u001b[0m \u001b[0m__repr__\u001b[0m\u001b[0;34m(\u001b[0m\u001b[0mself\u001b[0m\u001b[0;34m)\u001b[0m\u001b[0;34m:\u001b[0m\u001b[0;34m\u001b[0m\u001b[0;34m\u001b[0m\u001b[0m\n",
            "\u001b[0;32m/usr/local/lib/python3.10/dist-packages/joblib/parallel.py\u001b[0m in \u001b[0;36m_get_outputs\u001b[0;34m(self, iterator, pre_dispatch)\u001b[0m\n\u001b[1;32m   1593\u001b[0m \u001b[0;34m\u001b[0m\u001b[0m\n\u001b[1;32m   1594\u001b[0m             \u001b[0;32mwith\u001b[0m \u001b[0mself\u001b[0m\u001b[0;34m.\u001b[0m\u001b[0m_backend\u001b[0m\u001b[0;34m.\u001b[0m\u001b[0mretrieval_context\u001b[0m\u001b[0;34m(\u001b[0m\u001b[0;34m)\u001b[0m\u001b[0;34m:\u001b[0m\u001b[0;34m\u001b[0m\u001b[0;34m\u001b[0m\u001b[0m\n\u001b[0;32m-> 1595\u001b[0;31m                 \u001b[0;32myield\u001b[0m \u001b[0;32mfrom\u001b[0m \u001b[0mself\u001b[0m\u001b[0;34m.\u001b[0m\u001b[0m_retrieve\u001b[0m\u001b[0;34m(\u001b[0m\u001b[0;34m)\u001b[0m\u001b[0;34m\u001b[0m\u001b[0;34m\u001b[0m\u001b[0m\n\u001b[0m\u001b[1;32m   1596\u001b[0m \u001b[0;34m\u001b[0m\u001b[0m\n\u001b[1;32m   1597\u001b[0m         \u001b[0;32mexcept\u001b[0m \u001b[0mGeneratorExit\u001b[0m\u001b[0;34m:\u001b[0m\u001b[0;34m\u001b[0m\u001b[0;34m\u001b[0m\u001b[0m\n",
            "\u001b[0;32m/usr/local/lib/python3.10/dist-packages/joblib/parallel.py\u001b[0m in \u001b[0;36m_retrieve\u001b[0;34m(self)\u001b[0m\n\u001b[1;32m   1705\u001b[0m                 (self._jobs[0].get_status(\n\u001b[1;32m   1706\u001b[0m                     timeout=self.timeout) == TASK_PENDING)):\n\u001b[0;32m-> 1707\u001b[0;31m                 \u001b[0mtime\u001b[0m\u001b[0;34m.\u001b[0m\u001b[0msleep\u001b[0m\u001b[0;34m(\u001b[0m\u001b[0;36m0.01\u001b[0m\u001b[0;34m)\u001b[0m\u001b[0;34m\u001b[0m\u001b[0;34m\u001b[0m\u001b[0m\n\u001b[0m\u001b[1;32m   1708\u001b[0m                 \u001b[0;32mcontinue\u001b[0m\u001b[0;34m\u001b[0m\u001b[0;34m\u001b[0m\u001b[0m\n\u001b[1;32m   1709\u001b[0m \u001b[0;34m\u001b[0m\u001b[0m\n",
            "\u001b[0;31mKeyboardInterrupt\u001b[0m: "
          ]
        }
      ]
    },
    {
      "cell_type": "code",
      "source": [
        "svc_classifier = SVC(kernel='poly',random_state=42,decision_function_shape='ovo')\n",
        "\n",
        "param_grid = {\n",
        "    \"C\": np.array([0.001,0.01,0.1,1,10,100,1000,10000]),\n",
        "    \"degree\": np.array([1,2,3,4,5,6]),\n",
        "}\n",
        "\n",
        "grid_search_ovr = cuml.model_selection.GridSearchCV(svc_classifier, param_grid, scoring='accuracy', cv=5, refit='accuracy',n_jobs=-1)\n",
        "\n",
        "grid_search_ovr.fit(x_train, y_train)\n",
        "\n",
        "print(\"Best Parameters for SVM with One vs One Classification and Polynomial Kernel: \", grid_search_ovr.best_params_)\n"
      ],
      "metadata": {
        "colab": {
          "base_uri": "https://localhost:8080/",
          "height": 399
        },
        "outputId": "2252e2d5-9aa8-4db5-e51c-885d9aac33c9",
        "id": "0nDIPJKokXfk"
      },
      "execution_count": null,
      "outputs": [
        {
          "output_type": "error",
          "ename": "KeyboardInterrupt",
          "evalue": "",
          "traceback": [
            "\u001b[0;31m---------------------------------------------------------------------------\u001b[0m",
            "\u001b[0;31mKeyboardInterrupt\u001b[0m                         Traceback (most recent call last)",
            "\u001b[0;32m<ipython-input-61-be3c9905d1f3>\u001b[0m in \u001b[0;36m<cell line: 10>\u001b[0;34m()\u001b[0m\n\u001b[1;32m      8\u001b[0m \u001b[0mgrid_search_ovr\u001b[0m \u001b[0;34m=\u001b[0m \u001b[0mcuml\u001b[0m\u001b[0;34m.\u001b[0m\u001b[0mmodel_selection\u001b[0m\u001b[0;34m.\u001b[0m\u001b[0mGridSearchCV\u001b[0m\u001b[0;34m(\u001b[0m\u001b[0msvc_classifier\u001b[0m\u001b[0;34m,\u001b[0m \u001b[0mparam_grid\u001b[0m\u001b[0;34m,\u001b[0m \u001b[0mscoring\u001b[0m\u001b[0;34m=\u001b[0m\u001b[0;34m'accuracy'\u001b[0m\u001b[0;34m,\u001b[0m \u001b[0mcv\u001b[0m\u001b[0;34m=\u001b[0m\u001b[0;36m5\u001b[0m\u001b[0;34m,\u001b[0m \u001b[0mrefit\u001b[0m\u001b[0;34m=\u001b[0m\u001b[0;34m'accuracy'\u001b[0m\u001b[0;34m,\u001b[0m\u001b[0mn_jobs\u001b[0m\u001b[0;34m=\u001b[0m\u001b[0;34m-\u001b[0m\u001b[0;36m1\u001b[0m\u001b[0;34m)\u001b[0m\u001b[0;34m\u001b[0m\u001b[0;34m\u001b[0m\u001b[0m\n\u001b[1;32m      9\u001b[0m \u001b[0;34m\u001b[0m\u001b[0m\n\u001b[0;32m---> 10\u001b[0;31m \u001b[0mgrid_search_ovr\u001b[0m\u001b[0;34m.\u001b[0m\u001b[0mfit\u001b[0m\u001b[0;34m(\u001b[0m\u001b[0mx_train\u001b[0m\u001b[0;34m,\u001b[0m \u001b[0my_train\u001b[0m\u001b[0;34m)\u001b[0m\u001b[0;34m\u001b[0m\u001b[0;34m\u001b[0m\u001b[0m\n\u001b[0m\u001b[1;32m     11\u001b[0m \u001b[0;34m\u001b[0m\u001b[0m\n\u001b[1;32m     12\u001b[0m \u001b[0mprint\u001b[0m\u001b[0;34m(\u001b[0m\u001b[0;34m\"Best Parameters for SVM with Polynomial Kernel: \"\u001b[0m\u001b[0;34m,\u001b[0m \u001b[0mgrid_search_ovr\u001b[0m\u001b[0;34m.\u001b[0m\u001b[0mbest_params_\u001b[0m\u001b[0;34m)\u001b[0m\u001b[0;34m\u001b[0m\u001b[0;34m\u001b[0m\u001b[0m\n",
            "\u001b[0;32m/usr/local/lib/python3.10/dist-packages/sklearn/model_selection/_search.py\u001b[0m in \u001b[0;36mfit\u001b[0;34m(self, X, y, groups, **fit_params)\u001b[0m\n\u001b[1;32m    872\u001b[0m                 \u001b[0;32mreturn\u001b[0m \u001b[0mresults\u001b[0m\u001b[0;34m\u001b[0m\u001b[0;34m\u001b[0m\u001b[0m\n\u001b[1;32m    873\u001b[0m \u001b[0;34m\u001b[0m\u001b[0m\n\u001b[0;32m--> 874\u001b[0;31m             \u001b[0mself\u001b[0m\u001b[0;34m.\u001b[0m\u001b[0m_run_search\u001b[0m\u001b[0;34m(\u001b[0m\u001b[0mevaluate_candidates\u001b[0m\u001b[0;34m)\u001b[0m\u001b[0;34m\u001b[0m\u001b[0;34m\u001b[0m\u001b[0m\n\u001b[0m\u001b[1;32m    875\u001b[0m \u001b[0;34m\u001b[0m\u001b[0m\n\u001b[1;32m    876\u001b[0m             \u001b[0;31m# multimetric is determined here because in the case of a callable\u001b[0m\u001b[0;34m\u001b[0m\u001b[0;34m\u001b[0m\u001b[0m\n",
            "\u001b[0;32m/usr/local/lib/python3.10/dist-packages/sklearn/model_selection/_search.py\u001b[0m in \u001b[0;36m_run_search\u001b[0;34m(self, evaluate_candidates)\u001b[0m\n\u001b[1;32m   1386\u001b[0m     \u001b[0;32mdef\u001b[0m \u001b[0m_run_search\u001b[0m\u001b[0;34m(\u001b[0m\u001b[0mself\u001b[0m\u001b[0;34m,\u001b[0m \u001b[0mevaluate_candidates\u001b[0m\u001b[0;34m)\u001b[0m\u001b[0;34m:\u001b[0m\u001b[0;34m\u001b[0m\u001b[0;34m\u001b[0m\u001b[0m\n\u001b[1;32m   1387\u001b[0m         \u001b[0;34m\"\"\"Search all candidates in param_grid\"\"\"\u001b[0m\u001b[0;34m\u001b[0m\u001b[0;34m\u001b[0m\u001b[0m\n\u001b[0;32m-> 1388\u001b[0;31m         \u001b[0mevaluate_candidates\u001b[0m\u001b[0;34m(\u001b[0m\u001b[0mParameterGrid\u001b[0m\u001b[0;34m(\u001b[0m\u001b[0mself\u001b[0m\u001b[0;34m.\u001b[0m\u001b[0mparam_grid\u001b[0m\u001b[0;34m)\u001b[0m\u001b[0;34m)\u001b[0m\u001b[0;34m\u001b[0m\u001b[0;34m\u001b[0m\u001b[0m\n\u001b[0m\u001b[1;32m   1389\u001b[0m \u001b[0;34m\u001b[0m\u001b[0m\n\u001b[1;32m   1390\u001b[0m \u001b[0;34m\u001b[0m\u001b[0m\n",
            "\u001b[0;32m/usr/local/lib/python3.10/dist-packages/sklearn/model_selection/_search.py\u001b[0m in \u001b[0;36mevaluate_candidates\u001b[0;34m(candidate_params, cv, more_results)\u001b[0m\n\u001b[1;32m    819\u001b[0m                     )\n\u001b[1;32m    820\u001b[0m \u001b[0;34m\u001b[0m\u001b[0m\n\u001b[0;32m--> 821\u001b[0;31m                 out = parallel(\n\u001b[0m\u001b[1;32m    822\u001b[0m                     delayed(_fit_and_score)(\n\u001b[1;32m    823\u001b[0m                         \u001b[0mclone\u001b[0m\u001b[0;34m(\u001b[0m\u001b[0mbase_estimator\u001b[0m\u001b[0;34m)\u001b[0m\u001b[0;34m,\u001b[0m\u001b[0;34m\u001b[0m\u001b[0;34m\u001b[0m\u001b[0m\n",
            "\u001b[0;32m/usr/local/lib/python3.10/dist-packages/sklearn/utils/parallel.py\u001b[0m in \u001b[0;36m__call__\u001b[0;34m(self, iterable)\u001b[0m\n\u001b[1;32m     61\u001b[0m             \u001b[0;32mfor\u001b[0m \u001b[0mdelayed_func\u001b[0m\u001b[0;34m,\u001b[0m \u001b[0margs\u001b[0m\u001b[0;34m,\u001b[0m \u001b[0mkwargs\u001b[0m \u001b[0;32min\u001b[0m \u001b[0miterable\u001b[0m\u001b[0;34m\u001b[0m\u001b[0;34m\u001b[0m\u001b[0m\n\u001b[1;32m     62\u001b[0m         )\n\u001b[0;32m---> 63\u001b[0;31m         \u001b[0;32mreturn\u001b[0m \u001b[0msuper\u001b[0m\u001b[0;34m(\u001b[0m\u001b[0;34m)\u001b[0m\u001b[0;34m.\u001b[0m\u001b[0m__call__\u001b[0m\u001b[0;34m(\u001b[0m\u001b[0miterable_with_config\u001b[0m\u001b[0;34m)\u001b[0m\u001b[0;34m\u001b[0m\u001b[0;34m\u001b[0m\u001b[0m\n\u001b[0m\u001b[1;32m     64\u001b[0m \u001b[0;34m\u001b[0m\u001b[0m\n\u001b[1;32m     65\u001b[0m \u001b[0;34m\u001b[0m\u001b[0m\n",
            "\u001b[0;32m/usr/local/lib/python3.10/dist-packages/joblib/parallel.py\u001b[0m in \u001b[0;36m__call__\u001b[0;34m(self, iterable)\u001b[0m\n\u001b[1;32m   1950\u001b[0m         \u001b[0mnext\u001b[0m\u001b[0;34m(\u001b[0m\u001b[0moutput\u001b[0m\u001b[0;34m)\u001b[0m\u001b[0;34m\u001b[0m\u001b[0;34m\u001b[0m\u001b[0m\n\u001b[1;32m   1951\u001b[0m \u001b[0;34m\u001b[0m\u001b[0m\n\u001b[0;32m-> 1952\u001b[0;31m         \u001b[0;32mreturn\u001b[0m \u001b[0moutput\u001b[0m \u001b[0;32mif\u001b[0m \u001b[0mself\u001b[0m\u001b[0;34m.\u001b[0m\u001b[0mreturn_generator\u001b[0m \u001b[0;32melse\u001b[0m \u001b[0mlist\u001b[0m\u001b[0;34m(\u001b[0m\u001b[0moutput\u001b[0m\u001b[0;34m)\u001b[0m\u001b[0;34m\u001b[0m\u001b[0;34m\u001b[0m\u001b[0m\n\u001b[0m\u001b[1;32m   1953\u001b[0m \u001b[0;34m\u001b[0m\u001b[0m\n\u001b[1;32m   1954\u001b[0m     \u001b[0;32mdef\u001b[0m \u001b[0m__repr__\u001b[0m\u001b[0;34m(\u001b[0m\u001b[0mself\u001b[0m\u001b[0;34m)\u001b[0m\u001b[0;34m:\u001b[0m\u001b[0;34m\u001b[0m\u001b[0;34m\u001b[0m\u001b[0m\n",
            "\u001b[0;32m/usr/local/lib/python3.10/dist-packages/joblib/parallel.py\u001b[0m in \u001b[0;36m_get_outputs\u001b[0;34m(self, iterator, pre_dispatch)\u001b[0m\n\u001b[1;32m   1593\u001b[0m \u001b[0;34m\u001b[0m\u001b[0m\n\u001b[1;32m   1594\u001b[0m             \u001b[0;32mwith\u001b[0m \u001b[0mself\u001b[0m\u001b[0;34m.\u001b[0m\u001b[0m_backend\u001b[0m\u001b[0;34m.\u001b[0m\u001b[0mretrieval_context\u001b[0m\u001b[0;34m(\u001b[0m\u001b[0;34m)\u001b[0m\u001b[0;34m:\u001b[0m\u001b[0;34m\u001b[0m\u001b[0;34m\u001b[0m\u001b[0m\n\u001b[0;32m-> 1595\u001b[0;31m                 \u001b[0;32myield\u001b[0m \u001b[0;32mfrom\u001b[0m \u001b[0mself\u001b[0m\u001b[0;34m.\u001b[0m\u001b[0m_retrieve\u001b[0m\u001b[0;34m(\u001b[0m\u001b[0;34m)\u001b[0m\u001b[0;34m\u001b[0m\u001b[0;34m\u001b[0m\u001b[0m\n\u001b[0m\u001b[1;32m   1596\u001b[0m \u001b[0;34m\u001b[0m\u001b[0m\n\u001b[1;32m   1597\u001b[0m         \u001b[0;32mexcept\u001b[0m \u001b[0mGeneratorExit\u001b[0m\u001b[0;34m:\u001b[0m\u001b[0;34m\u001b[0m\u001b[0;34m\u001b[0m\u001b[0m\n",
            "\u001b[0;32m/usr/local/lib/python3.10/dist-packages/joblib/parallel.py\u001b[0m in \u001b[0;36m_retrieve\u001b[0;34m(self)\u001b[0m\n\u001b[1;32m   1705\u001b[0m                 (self._jobs[0].get_status(\n\u001b[1;32m   1706\u001b[0m                     timeout=self.timeout) == TASK_PENDING)):\n\u001b[0;32m-> 1707\u001b[0;31m                 \u001b[0mtime\u001b[0m\u001b[0;34m.\u001b[0m\u001b[0msleep\u001b[0m\u001b[0;34m(\u001b[0m\u001b[0;36m0.01\u001b[0m\u001b[0;34m)\u001b[0m\u001b[0;34m\u001b[0m\u001b[0;34m\u001b[0m\u001b[0m\n\u001b[0m\u001b[1;32m   1708\u001b[0m                 \u001b[0;32mcontinue\u001b[0m\u001b[0;34m\u001b[0m\u001b[0;34m\u001b[0m\u001b[0m\n\u001b[1;32m   1709\u001b[0m \u001b[0;34m\u001b[0m\u001b[0m\n",
            "\u001b[0;31mKeyboardInterrupt\u001b[0m: "
          ]
        }
      ]
    }
  ]
}